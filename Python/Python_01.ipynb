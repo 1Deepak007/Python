{
 "cells": [
  {
   "attachments": {},
   "cell_type": "markdown",
   "metadata": {},
   "source": [
    "Operators, Escape Sequence, Seperator, Variable, TypeCasting, \n",
    "String & its methods, If-Else, If-Elif-Else, Nested-If, Match Case Statement, For loop, While loop, Break & Continue"
   ]
  },
  {
   "cell_type": "code",
   "execution_count": 210,
   "metadata": {},
   "outputs": [
    {
     "name": "stdout",
     "output_type": "stream",
     "text": [
      "Hello world\n",
      "7\n",
      "8\n"
     ]
    }
   ],
   "source": [
    "print(\"Hello world\");   print(7);           print(10-2)"
   ]
  },
  {
   "cell_type": "code",
   "execution_count": 211,
   "metadata": {},
   "outputs": [
    {
     "name": "stdout",
     "output_type": "stream",
     "text": [
      "12\n",
      "5.0\n",
      "4\n",
      "1\n",
      "20\n",
      "100\n",
      "9\n",
      "10\n"
     ]
    }
   ],
   "source": [
    "# Operators \n",
    "print(10+2); print(10/2); print(9//2); print(11%2); print(10*2); print(10**2); print(11-2);print(10|2)"
   ]
  },
  {
   "cell_type": "code",
   "execution_count": 212,
   "metadata": {},
   "outputs": [
    {
     "name": "stdout",
     "output_type": "stream",
     "text": [
      "Hello \n",
      "Bro\n",
      "hello \tbro\n",
      "Hellobro\n"
     ]
    }
   ],
   "source": [
    "# Escape sequences\n",
    "\n",
    "print(\"Hello \\nBro\")\n",
    "print(\"hello \\tbro\")\n",
    "print(\"Hello \\bbro\")"
   ]
  },
  {
   "cell_type": "code",
   "execution_count": 4,
   "metadata": {},
   "outputs": [
    {
     "name": "stdout",
     "output_type": "stream",
     "text": [
      "Hey&Bro\n",
      "Hey&Bro0522\n",
      "Hey-Dear\n"
     ]
    }
   ],
   "source": [
    "# Seperator\n",
    "\n",
    "print(\"Hey\",\"Bro\", sep='&')\n",
    "print(\"Hey\",\"Bro\", sep='&', end='0522')\n",
    "print(\"\\nHey\",\"Dear\", sep=\"-\") "
   ]
  },
  {
   "cell_type": "code",
   "execution_count": 10,
   "metadata": {},
   "outputs": [
    {
     "name": "stdout",
     "output_type": "stream",
     "text": [
      "10 Flip 20.4 True\n",
      "<class 'int'>\n",
      "<class 'str'>\n",
      "<class 'float'>\n",
      "<class 'bool'>\n"
     ]
    }
   ],
   "source": [
    "#===============> variables\n",
    "\n",
    "# int    string     float    boolean    \n",
    "a = 10;  b=\"Flip\";  _C=20.4;  D_ = True;\n",
    "print(a,b,_C,D_)\n",
    "\n",
    "print(type(a))\n",
    "print(type(b))\n",
    "print(type(_C))\n",
    "print(type(D_))\n"
   ]
  },
  {
   "cell_type": "code",
   "execution_count": 1,
   "metadata": {},
   "outputs": [
    {
     "name": "stdout",
     "output_type": "stream",
     "text": [
      "<class 'int'>\n",
      "<class 'str'>\n"
     ]
    }
   ],
   "source": [
    "# Typecasting - changing datatype of a varibale\n",
    "\n",
    "a = 10\n",
    "print(type(a))\n",
    "\n",
    "b = str(a)\n",
    "print(type(b))"
   ]
  },
  {
   "cell_type": "code",
   "execution_count": null,
   "metadata": {},
   "outputs": [
    {
     "name": "stdout",
     "output_type": "stream",
     "text": [
      "your name is :  Deepak\n",
      "Sum of 80 and 20 is :  100\n"
     ]
    }
   ],
   "source": [
    "name = input(\"Enter your name :\")\n",
    "print(\"your name is : \",name)\n",
    "\n",
    "num1 = int(input('Enter num1 : '))\n",
    "num2 = input('Enter num2 : ')\n",
    "print(f'Sum of {num1} and {num2} is : ',num1+ int(num2))"
   ]
  },
  {
   "attachments": {},
   "cell_type": "markdown",
   "metadata": {},
   "source": [
    "=======================> STRING & METHODS<====================="
   ]
  },
  {
   "cell_type": "code",
   "execution_count": 13,
   "metadata": {},
   "outputs": [
    {
     "name": "stdout",
     "output_type": "stream",
     "text": [
      "Deepak Gautam\n",
      "6\n",
      "This is multi line string. \n",
      "My name is Deepak\n",
      "D\n",
      "T h i s   i s   m u l t i   l i n e   s t r i n g .   \n",
      " M y   n a m e   i s   D e e p a k \n",
      "\n",
      "Deep\n",
      "kapeeD\n",
      "Deep\n",
      "pa\n"
     ]
    }
   ],
   "source": [
    "Fname = \"Deepak\"\n",
    "Lname = \"Gautam\"\n",
    "print(Fname+\" \"+Lname)\n",
    "print(len(Fname))\n",
    "\n",
    "#  Multi line string\n",
    "str = '''This is multi line string. \n",
    "My name is Deepak'''\n",
    "print(str)\n",
    "\n",
    "\n",
    "# String Indexing\n",
    "print(Fname[0])\n",
    "\n",
    "\n",
    "# FOR LOOP IN STRING\n",
    "for i in str:\n",
    "    print(i, end=' ')\n",
    "\n",
    "print('\\n')\n",
    "    \n",
    "# Slicing\n",
    "print(Fname[0:4:1])\n",
    "print(Fname[::-1])\n",
    "print(Fname[:-2:])\n",
    "print(Fname[-3:-1])"
   ]
  },
  {
   "cell_type": "code",
   "execution_count": 14,
   "metadata": {},
   "outputs": [
    {
     "name": "stdout",
     "output_type": "stream",
     "text": [
      "Deepak\n",
      "To upper  :  DEEPAK\n",
      "To Lower  :  deepak\n",
      "Capitalize:  Deepak\n",
      "Center    :                        Deepak                      \n",
      "Count     :  2\n",
      "isTitle   :  True\n",
      "        Developer        \n",
      "lstrip :  Developer        \n",
      "rstrip :          Developer\n",
      "replace   :  a quick brown cat jumps over the lazy cat.\n",
      "split     :  ['a', 'quick', 'brown', 'fox', 'jumps', 'over', 'the', 'lazy', 'fox.']\n",
      "count     :  2\n",
      "endswith  :  False\n",
      "endswith  :  True\n",
      "find      :  14\n",
      "index     :  14\n",
      "title     :  A Quick Brown Fox Jumps Over The Lazy Fox.\n",
      "isalnum      :  False\n",
      "islower      :  True\n",
      "isprintable  :  False\n"
     ]
    }
   ],
   "source": [
    "#=================> String Methods\n",
    "\n",
    "a=\"Deepak\";                 # strings are immuteable\n",
    "print(a)\n",
    "print('To upper  : ',  a.upper())\n",
    "print('To Lower  : ',  a.lower())\n",
    "print('Capitalize: ',  a.capitalize())\n",
    "print('Center    : ',  a.center(50))\n",
    "print('Count     : ',  a.count('e'))\n",
    "print('isTitle   : ',  a.istitle())\n",
    "#-------------------------------\n",
    "\n",
    "b = \"        Developer        \"\n",
    "print(b)\n",
    "print('lstrip : ',   b.lstrip())\n",
    "print('rstrip : ',   b.rstrip())\n",
    "\n",
    "c = 'a quick brown fox jumps over the lazy fox.'\n",
    "print('replace   : ',  c.replace('fox','cat'))\n",
    "print('split     : ',  c.split(' '))\n",
    "print('count     : ',  c.count('fox'))\n",
    "print('endswith  : ',  c.endswith('fox'))\n",
    "print('endswith  : ',  c.endswith('fox.'))\n",
    "print('find      : ',   c.find('fox'))                 # first occurance index\n",
    "#print('find     : ',   c.find('agsh'))                # first occurance index or -1 if not present\n",
    "print('index     : ',  c.index('fox') )\n",
    "print('title     : ',  c.title())\n",
    "\n",
    "\n",
    "d = \"1234andrews \\n\"\n",
    "print('isalnum      : ',d.isalnum())                   # check if alphanumeric\n",
    "print('islower      : ',d.islower())\n",
    "print('isprintable  : ',d.isprintable())\n"
   ]
  },
  {
   "cell_type": "code",
   "execution_count": null,
   "metadata": {},
   "outputs": [],
   "source": []
  },
  {
   "attachments": {},
   "cell_type": "markdown",
   "metadata": {},
   "source": [
    "=======================> IF ELSE STATEMENTS <====================="
   ]
  },
  {
   "cell_type": "code",
   "execution_count": null,
   "metadata": {},
   "outputs": [
    {
     "name": "stdout",
     "output_type": "stream",
     "text": [
      "You can't drive\n"
     ]
    }
   ],
   "source": [
    "#=================> Conditional operators  :      > , < , >= , <= , == , !=\n",
    "\n",
    "age = 17;\n",
    "\n",
    "if age>18:\n",
    "    print('You can drive')\n",
    "else:\n",
    "    print(\"You can't drive\")"
   ]
  },
  {
   "cell_type": "code",
   "execution_count": null,
   "metadata": {},
   "outputs": [
    {
     "name": "stdout",
     "output_type": "stream",
     "text": [
      "I can still buy it\n"
     ]
    }
   ],
   "source": [
    "#=================> Elif statement\n",
    "\n",
    "apple_price = 100;\n",
    "budget = 150;\n",
    "\n",
    "if (budget - apple_price > 50):\n",
    "    print('I will buy apple')\n",
    "\n",
    "elif (budget - apple_price > 30):\n",
    "    print('I can still buy it')\n",
    "else:\n",
    "    print('can\\'t bug')\n",
    "    "
   ]
  },
  {
   "cell_type": "code",
   "execution_count": null,
   "metadata": {},
   "outputs": [
    {
     "name": "stdout",
     "output_type": "stream",
     "text": [
      "You are super old\n"
     ]
    }
   ],
   "source": [
    "age = 90;\n",
    "\n",
    "if(age < 18):\n",
    "    print('You are kid')\n",
    "elif(18 < age & age < 60):\n",
    "    print('You are a man')\n",
    "elif(60 <= age <= 80):\n",
    "    print('Old MONK')\n",
    "elif(80 < age <=120):\n",
    "    print(\"You are super old\")\n",
    "else:\n",
    "    print('Invalid input')"
   ]
  },
  {
   "cell_type": "code",
   "execution_count": null,
   "metadata": {},
   "outputs": [
    {
     "name": "stdout",
     "output_type": "stream",
     "text": [
      "Invalid statement\n"
     ]
    }
   ],
   "source": [
    "#=================> Nested if else\n",
    "\n",
    "num = 00;\n",
    "if (num > 0):\n",
    "    if(num <= 10):\n",
    "        print(f'{num} is greater than {10}')\n",
    "    elif(num <= 18):\n",
    "        print(f\"{num} is equal or agreater than {18}\")\n",
    "    else:\n",
    "        print(f\"{num} is greater than {18}\")\n",
    "else:\n",
    "    print(\"Invalid statement\")"
   ]
  },
  {
   "cell_type": "code",
   "execution_count": null,
   "metadata": {},
   "outputs": [
    {
     "name": "stdout",
     "output_type": "stream",
     "text": [
      "19:42:28\n",
      "19\n",
      "Good Evening\n"
     ]
    }
   ],
   "source": [
    "import time;\n",
    "print(time.strftime('%H:%M:%S'))\n",
    "print(time.strftime('%H'))\n",
    "\n",
    "t = int(time.strftime('%H'))\n",
    "if(t>4 and t < 12):\n",
    "    print('Good morning Sir')\n",
    "elif(12<=t<17):\n",
    "    print('Good afternoon')\n",
    "elif(17<=t<=20):\n",
    "    print(\"Good Evening\")\n",
    "else:\n",
    "    print('Good night')"
   ]
  },
  {
   "cell_type": "code",
   "execution_count": 17,
   "metadata": {},
   "outputs": [
    {
     "name": "stdout",
     "output_type": "stream",
     "text": [
      "case not matched\n"
     ]
    }
   ],
   "source": [
    "#=================> Match Case Statement\n",
    "\n",
    "x = int(input(\"Enter value of x : \"))\n",
    "\n",
    "match x:\n",
    "    case 0:print(\"X is 0\")\n",
    "    case 1:\n",
    "        print(\"X is 1\")\n",
    "    case _ :                                    # case _ :    <- default case        cn also write ->   case default :\n",
    "        print(\"case not matched\")\n"
   ]
  },
  {
   "cell_type": "markdown",
   "metadata": {},
   "source": [
    "#=================> Loops"
   ]
  },
  {
   "cell_type": "code",
   "execution_count": 18,
   "metadata": {},
   "outputs": [
    {
     "name": "stdout",
     "output_type": "stream",
     "text": [
      "1,2,3,4,5,/n\n",
      "1,3,5,7,9,"
     ]
    }
   ],
   "source": [
    "#------>for loop\n",
    "\n",
    "for i in range(1,6):\n",
    "    print(i, end=\",\")\n",
    "\n",
    "print('/n')\n",
    "\n",
    "for i in range(1,11,2):\n",
    "    print(i, end=\",\")"
   ]
  },
  {
   "cell_type": "code",
   "execution_count": 19,
   "metadata": {},
   "outputs": [
    {
     "name": "stdout",
     "output_type": "stream",
     "text": [
      "Index of B is :  2\n",
      "Red : R,e,d,\n",
      "\n",
      "Green : G,r,e,e,n,\n",
      "\n"
     ]
    }
   ],
   "source": [
    "name = \"Krishnappa Bairiya\";\n",
    "print('Index of B is : ',name.index('i'))       # 2\n",
    "\n",
    "colors = ['Red', 'Green']\n",
    "for clr in colors:\n",
    "    print(clr, end=' : ')\n",
    "    for i in clr:\n",
    "        print(i, end=',')\n",
    "    print('\\n')"
   ]
  },
  {
   "cell_type": "code",
   "execution_count": null,
   "metadata": {},
   "outputs": [
    {
     "name": "stdout",
     "output_type": "stream",
     "text": [
      "1 2 3 4 5 6 7 8 9 10 \n",
      "\n",
      "5 4 3 2 1 0 "
     ]
    }
   ],
   "source": [
    "#------>while loop\n",
    "\n",
    "num = 1\n",
    "while(num <= 10):\n",
    "    print(num,end=\" \")\n",
    "    num+=1 \n",
    "print(\"\\n\")\n",
    "\n",
    "#----------------------------\n",
    "\n",
    "count = 5\n",
    "while(count >= 0):\n",
    "    print(count,end=\" \")\n",
    "    count-=1"
   ]
  },
  {
   "cell_type": "code",
   "execution_count": null,
   "metadata": {},
   "outputs": [
    {
     "name": "stdout",
     "output_type": "stream",
     "text": [
      "1 2 3 4 5 "
     ]
    }
   ],
   "source": [
    "#------->while loop\n",
    "\n",
    "num = 1;  \n",
    "\n",
    "while True:\n",
    "    print(num, end=\" \")\n",
    "    num+=1\n",
    "    if(num == 6):\n",
    "        break\n"
   ]
  },
  {
   "cell_type": "code",
   "execution_count": null,
   "metadata": {},
   "outputs": [
    {
     "name": "stdout",
     "output_type": "stream",
     "text": [
      "1 2 3 4 5 7 8 9 10 11 \n",
      "---------------------\n",
      "1 2 3 4 5 "
     ]
    }
   ],
   "source": [
    "#------->Break and Continue\n",
    "for i in range(1,12):\n",
    "    if i==6:\n",
    "        continue\n",
    "    print(i,end=' ')\n",
    "\n",
    "print('\\n---------------------')    \n",
    "\n",
    "for i in range(1,12):\n",
    "    if i==6:\n",
    "        break\n",
    "    print(i,end=' ')\n",
    "    "
   ]
  },
  {
   "cell_type": "code",
   "execution_count": null,
   "metadata": {},
   "outputs": [
    {
     "name": "stdout",
     "output_type": "stream",
     "text": [
      "1 2 3 4 5 6 7 8 9 10 "
     ]
    }
   ],
   "source": [
    "# Emulate Do while loop\n",
    "i = 1\n",
    "while True:\n",
    "    print(i, end=\" \")\n",
    "    i+=1\n",
    "    if i == 11:\n",
    "        break"
   ]
  },
  {
   "cell_type": "code",
   "execution_count": null,
   "metadata": {},
   "outputs": [],
   "source": []
  }
 ],
 "metadata": {
  "kernelspec": {
   "display_name": "Python 3",
   "language": "python",
   "name": "python3"
  },
  "language_info": {
   "codemirror_mode": {
    "name": "ipython",
    "version": 3
   },
   "file_extension": ".py",
   "mimetype": "text/x-python",
   "name": "python",
   "nbconvert_exporter": "python",
   "pygments_lexer": "ipython3",
   "version": "3.11.3 (tags/v3.11.3:f3909b8, Apr  4 2023, 23:49:59) [MSC v.1934 64 bit (AMD64)]"
  },
  "orig_nbformat": 4,
  "vscode": {
   "interpreter": {
    "hash": "973754d7c115b81f9e86127bbf5ace8e0d814b6e9c1cc63771edcab95452c259"
   }
  }
 },
 "nbformat": 4,
 "nbformat_minor": 2
}
