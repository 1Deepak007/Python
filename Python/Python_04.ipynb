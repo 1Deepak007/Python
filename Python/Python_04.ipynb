{
 "cells": [
  {
   "attachments": {},
   "cell_type": "markdown",
   "metadata": {},
   "source": [
    "If __name__ == '__main__'  ,  OS module, Local vs Global vari. , FILE HANDLING"
   ]
  },
  {
   "cell_type": "code",
   "execution_count": 4,
   "metadata": {},
   "outputs": [
    {
     "name": "stdout",
     "output_type": "stream",
     "text": [
      "Welcome\n"
     ]
    }
   ],
   "source": [
    "#==========> If __name__ == '__main__'\n",
    "\n",
    "\n",
    "import Python_04 as p4\n",
    "\n",
    "p4.welcome()"
   ]
  },
  {
   "cell_type": "code",
   "execution_count": 21,
   "metadata": {},
   "outputs": [],
   "source": [
    "import os\n",
    "\n",
    "os.mkdir(\"data\")"
   ]
  },
  {
   "cell_type": "code",
   "execution_count": 22,
   "metadata": {},
   "outputs": [],
   "source": [
    "# making folder using os module\n",
    "\n",
    "if(not os.path.exists(\"data\")):\n",
    "    os.mkdir('data')\n",
    "\n",
    "for i in range(0,10):\n",
    "    os.mkdir(f\"data/Day{i+1}\")"
   ]
  },
  {
   "cell_type": "code",
   "execution_count": 23,
   "metadata": {},
   "outputs": [],
   "source": [
    "for i in range(0,10):\n",
    "    os.rename(f\"data/Day{i+1}\", f\"data/PythonTutorials {i+1}\")"
   ]
  },
  {
   "cell_type": "code",
   "execution_count": 25,
   "metadata": {},
   "outputs": [
    {
     "name": "stdout",
     "output_type": "stream",
     "text": [
      "PythonTutorials 1\n",
      "['tutorial_1.txt']\n",
      "PythonTutorials 10\n",
      "[]\n",
      "PythonTutorials 2\n",
      "[]\n",
      "PythonTutorials 3\n",
      "[]\n",
      "PythonTutorials 4\n",
      "[]\n",
      "PythonTutorials 5\n",
      "[]\n",
      "PythonTutorials 6\n",
      "[]\n",
      "PythonTutorials 7\n",
      "[]\n",
      "PythonTutorials 8\n",
      "[]\n",
      "PythonTutorials 9\n",
      "[]\n"
     ]
    }
   ],
   "source": [
    "import os\n",
    "folders = os.listdir('data')\n",
    "\n",
    "for folder in folders:\n",
    "    print(folder)\n",
    "    print(os.listdir(f\"data/{folder}\"))"
   ]
  },
  {
   "cell_type": "code",
   "execution_count": 30,
   "metadata": {},
   "outputs": [
    {
     "name": "stdout",
     "output_type": "stream",
     "text": [
      "4\n",
      "Hiiiiiiiii  5\n"
     ]
    }
   ],
   "source": [
    "#=================> Local vs Global variables<===================\n",
    "\n",
    "x = 4;     # global vari\n",
    "\n",
    "def hello():\n",
    "    x = 5                       # local vari\n",
    "    print(\"Hiiiiiiiii \",x)\n",
    "print(x)\n",
    "\n",
    "hello()"
   ]
  },
  {
   "cell_type": "code",
   "execution_count": 38,
   "metadata": {},
   "outputs": [
    {
     "name": "stdout",
     "output_type": "stream",
     "text": [
      "Global vari is :  10\n",
      "Local vari is :  50\n",
      "Global vari is :  50\n"
     ]
    }
   ],
   "source": [
    "# changing global variable from inside fxn\n",
    "\n",
    "x = 10;                                 # global variable\n",
    "\n",
    "def hi():\n",
    "    global x                \n",
    "    x = 50;                             # local variable\n",
    "    print(\"Local vari is : \",x)\n",
    "\n",
    "print(\"Global vari is : \",x)\n",
    "\n",
    "hi()\n",
    "print(\"Global vari is : \",x)"
   ]
  },
  {
   "attachments": {},
   "cell_type": "markdown",
   "metadata": {},
   "source": [
    "#================> FILE HANDLING "
   ]
  },
  {
   "cell_type": "code",
   "execution_count": 63,
   "metadata": {},
   "outputs": [
    {
     "name": "stdout",
     "output_type": "stream",
     "text": [
      "this is a text file. \n",
      "i have created it.\n",
      "today in June-10-2023.\n",
      "and the time is 22:17.\n"
     ]
    }
   ],
   "source": [
    "#---------------------------> READING FILE <------------------------------\n",
    "\n",
    "#--> reading file ('r')\n",
    "f = open('myfile.txt','r')          # Note: 'r' is default mode\n",
    "print(f.read())\n",
    "f.close()"
   ]
  },
  {
   "cell_type": "code",
   "execution_count": 64,
   "metadata": {},
   "outputs": [
    {
     "name": "stdout",
     "output_type": "stream",
     "text": [
      "this is a text file. \n",
      "i have created it.\n",
      "today in June-10-2023.\n",
      "and the time is 22:17.\n"
     ]
    }
   ],
   "source": [
    "#--> open file as text (rt)\n",
    "f = open('myfile.txt','rt')\n",
    "g = f.read()\n",
    "print(g)\n",
    "f.close()"
   ]
  },
  {
   "cell_type": "code",
   "execution_count": 71,
   "metadata": {},
   "outputs": [
    {
     "name": "stdout",
     "output_type": "stream",
     "text": [
      "this is a text file. \n",
      "\n"
     ]
    }
   ],
   "source": [
    "f = open('myfile.txt','r')\n",
    "g = f.readline()                # readline()\n",
    "print(g)\n",
    "f.close()"
   ]
  },
  {
   "cell_type": "code",
   "execution_count": 72,
   "metadata": {},
   "outputs": [
    {
     "name": "stdout",
     "output_type": "stream",
     "text": [
      "['this is a text file. \\n', 'i have created it.\\n', 'today in June-10-2023.\\n', 'and the time is 22:17.']\n"
     ]
    }
   ],
   "source": [
    "f = open('myfile.txt','r')\n",
    "g = f.readlines()               # readlines()\n",
    "print(g)\n",
    "f.close()"
   ]
  },
  {
   "cell_type": "code",
   "execution_count": 65,
   "metadata": {},
   "outputs": [
    {
     "name": "stdout",
     "output_type": "stream",
     "text": [
      "b'this is a text file. \\r\\ni have created it.\\r\\ntoday in June-10-2023.\\r\\nand the time is 22:17.'\n"
     ]
    }
   ],
   "source": [
    "#--> open file as binary (rb)\n",
    "f = open('myfile.txt','rb')\n",
    "g = f.read()\n",
    "print(g)\n",
    "f.close()"
   ]
  },
  {
   "cell_type": "code",
   "execution_count": 50,
   "metadata": {},
   "outputs": [
    {
     "name": "stdout",
     "output_type": "stream",
     "text": [
      "63\n"
     ]
    }
   ],
   "source": [
    "#---------------------------> WRITING IN FILE <------------------------------\n",
    "\n",
    "#--> writing in file ('w')\n",
    "\n",
    "f = open('myfile1.txt','w')             # 'w' : write mode\n",
    "g = f.write('this is was automatically created as i opened it in write mode.')\n",
    "print(g)\n",
    "f.close()"
   ]
  },
  {
   "cell_type": "code",
   "execution_count": 55,
   "metadata": {},
   "outputs": [],
   "source": [
    "#--> appending in file ('a')\n",
    "\n",
    "#This mode open file for appending only n creates new file if not exists\n",
    "\n",
    "f = open('myfile1.txt','a')             # 'a' : append mode\n",
    "g = f.write('\\nThis is added using append mode.')\n",
    "f.close()"
   ]
  },
  {
   "cell_type": "code",
   "execution_count": 70,
   "metadata": {},
   "outputs": [],
   "source": [
    "#--> append in file using 'with'\n",
    "\n",
    "with open('myfile1.txt','a') as f:\n",
    "    f.write(\"\\nCan append text using 'with'\")"
   ]
  },
  {
   "cell_type": "code",
   "execution_count": 86,
   "metadata": {},
   "outputs": [
    {
     "name": "stdout",
     "output_type": "stream",
     "text": [
      "Marks of student 1 in maths is : 100\n",
      "Marks of student 1 in english is :  90\n",
      "Marks of student 1 in sst is :  99\n",
      "\n",
      "100, 90, 99\n",
      "\n",
      "Marks of student 2 in maths is : 98\n",
      "Marks of student 2 in english is :  100\n",
      "Marks of student 2 in sst is :  97\n",
      "\n",
      "98, 100, 97\n",
      "\n",
      "Marks of student 3 in maths is : 96\n",
      "Marks of student 3 in english is :  99\n",
      "Marks of student 3 in sst is :  98\n",
      "96, 99, 98\n"
     ]
    }
   ],
   "source": [
    "f = open('marks.txt','r')\n",
    "i = 0\n",
    "while True:\n",
    "    i = i+1\n",
    "    line = f.readline()\n",
    "    if not line:\n",
    "        break\n",
    "    m1 = line.split(\",\")[0]\n",
    "    m2 = line.split(\",\")[1]\n",
    "    m3 = line.split(\",\")[2]\n",
    "    \n",
    "    print(f\"Marks of student {i} in maths is : {m1}\")\n",
    "    print(f\"Marks of student {i} in english is : {m2}\")\n",
    "    print(f\"Marks of student {i} in sst is : {m3}\")\n",
    "    \n",
    "    if not line:\n",
    "        break\n",
    "    print(line)"
   ]
  },
  {
   "cell_type": "code",
   "execution_count": 88,
   "metadata": {},
   "outputs": [],
   "source": [
    "f = open('myfile3.txt', 'w')\n",
    "lines = ['line1 content\\n', 'line2 content\\n', 'line3 content\\n', 'line4 content']\n",
    "f.writelines(lines)\n",
    "f.close()"
   ]
  },
  {
   "cell_type": "code",
   "execution_count": 24,
   "metadata": {},
   "outputs": [
    {
     "name": "stdout",
     "output_type": "stream",
     "text": [
      "6789A\n",
      "11\n"
     ]
    }
   ],
   "source": [
    "# file functions  -> \n",
    "\n",
    "# seek() \n",
    "with open('myfile3.txt','r') as f:\n",
    "    f.seek(6)                           # cursor goto index 6\n",
    "    data = f.read(5)                    # print 5 chars strtng from index 6\n",
    "    print(data)\n",
    "    \n",
    "# tell()\n",
    "    print(f.tell())                     # tells current pos of cursor"
   ]
  },
  {
   "cell_type": "code",
   "execution_count": 25,
   "metadata": {},
   "outputs": [
    {
     "name": "stdout",
     "output_type": "stream",
     "text": [
      "ABCDE\n"
     ]
    }
   ],
   "source": [
    "# truncate()\n",
    "\n",
    "with open('myfile3.txt','w') as f:\n",
    "    f.write('ABCDEFGHIJKLMNOPQRSTUVWXYZ')\n",
    "    f.truncate(5)           # except first 5 chars clears hole file\n",
    "\n",
    "with open('myfile3.txt','r') as r:\n",
    "    print(r.read())"
   ]
  },
  {
   "attachments": {},
   "cell_type": "markdown",
   "metadata": {},
   "source": [
    "* Lambda fxns   \n",
    "* MAP FILTER REDUCE "
   ]
  },
  {
   "cell_type": "code",
   "execution_count": 26,
   "metadata": {},
   "outputs": [
    {
     "name": "stdout",
     "output_type": "stream",
     "text": [
      "100\n",
      "20\n",
      "40.0\n",
      "14\n"
     ]
    }
   ],
   "source": [
    "sqr = lambda a : a**2\n",
    "print(sqr(10))\n",
    "\n",
    "sum = lambda x,y : x+y\n",
    "print(sum(10,10))\n",
    "\n",
    "avg = lambda a,b,c : a+b+c/3\n",
    "print(avg(10,20,30))\n",
    "\n",
    "\n",
    "def appl(fx,value):\n",
    "    return 6 + fx(value)\n",
    "\n",
    "# passing anonymous fxn inside function\n",
    "print(appl(lambda x: x*x*x, 2))"
   ]
  },
  {
   "cell_type": "code",
   "execution_count": 27,
   "metadata": {},
   "outputs": [
    {
     "name": "stdout",
     "output_type": "stream",
     "text": [
      "[8, 64, 216, 512, 1000]\n",
      "[6, 8, 10]\n",
      "150\n"
     ]
    }
   ],
   "source": [
    "#==============>   MAP      -->   list(  map(fxn,lst)  )\n",
    "\n",
    "def cube(x):\n",
    "    return x*x*x\n",
    "\n",
    "l = [2,4,6,8,10]\n",
    "\n",
    "# sqrlst = list(map(cube, l))      \n",
    "sqrlst = list(map(lambda x : x*x*x, l))      \n",
    "print(sqrlst)\n",
    "\n",
    "\n",
    "#=============>   FILTER\n",
    "def f_fxn(a):\n",
    "    return a > 4\n",
    "\n",
    "nwl = list(filter(f_fxn,l))\n",
    "print(nwl)\n",
    "\n",
    "\n",
    "#=============>   REDUCE\n",
    "from functools import reduce;\n",
    "nums = [10,20,30,40,50]\n",
    "sum = reduce(lambda x,y : x+y, nums)\n",
    "print(sum)"
   ]
  },
  {
   "cell_type": "code",
   "execution_count": 28,
   "metadata": {},
   "outputs": [
    {
     "name": "stdout",
     "output_type": "stream",
     "text": [
      "True\n",
      "True\n"
     ]
    }
   ],
   "source": [
    "#  'is' keyword  compare location in mem.\n",
    "#  '==' operator compare values of variables\n",
    "\n",
    "a = 3 ; b = 3;\n",
    "print(a is b)          # True : if mem location is same \n",
    "print(a == b)          # True : if values are same"
   ]
  },
  {
   "cell_type": "code",
   "execution_count": null,
   "metadata": {},
   "outputs": [],
   "source": []
  }
 ],
 "metadata": {
  "kernelspec": {
   "display_name": "Developer",
   "language": "python",
   "name": "python3"
  },
  "language_info": {
   "codemirror_mode": {
    "name": "ipython",
    "version": 3
   },
   "file_extension": ".py",
   "mimetype": "text/x-python",
   "name": "python",
   "nbconvert_exporter": "python",
   "pygments_lexer": "ipython3",
   "version": "3.11.4 | packaged by Anaconda, Inc. | (main, Jul  5 2023, 13:47:18) [MSC v.1916 64 bit (AMD64)]"
  },
  "orig_nbformat": 4,
  "vscode": {
   "interpreter": {
    "hash": "36f7ff5fe44c80b6ca0c4b179b80d8db9eacae3a1fdf354a582873bf082fae06"
   }
  }
 },
 "nbformat": 4,
 "nbformat_minor": 2
}
