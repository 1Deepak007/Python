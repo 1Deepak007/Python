{
 "cells": [
  {
   "attachments": {},
   "cell_type": "markdown",
   "metadata": {},
   "source": [
    "FOR LOOP,  WHILE LOOP,  EXCEPTION HANDLING, SHORTHAND IF-ELSE, ENUMERATE FUNCTION, VIRTUAL ENVIRONMENT, IMPORT WORKING"
   ]
  },
  {
   "cell_type": "code",
   "execution_count": 9,
   "metadata": {},
   "outputs": [
    {
     "name": "stdout",
     "output_type": "stream",
     "text": [
      "0 2 4 6 8 10 12 14 16 18 "
     ]
    }
   ],
   "source": [
    "#==================>FOR<=================\n",
    "for i in range(0,20,2):\n",
    "    print(i, end=\" \")"
   ]
  },
  {
   "cell_type": "code",
   "execution_count": 3,
   "metadata": {},
   "outputs": [
    {
     "name": "stdout",
     "output_type": "stream",
     "text": [
      "Hi,Hi,Hi,Hi,Hi,\n",
      "Sorry no more i\n"
     ]
    }
   ],
   "source": [
    "for i in range(5):\n",
    "    print('Hi', end=\",\")\n",
    "else:\n",
    "    print(\"\\nSorry no more i\")"
   ]
  },
  {
   "cell_type": "code",
   "execution_count": 5,
   "metadata": {},
   "outputs": [
    {
     "name": "stdout",
     "output_type": "stream",
     "text": [
      "Hello,Hello,Hello,Hello,"
     ]
    }
   ],
   "source": [
    "for i in range(5):\n",
    "    if i==4:\n",
    "        break\n",
    "    print('Hello', end=\",\")\n",
    "else:\n",
    "    print(\"\\nSorry no more i\")"
   ]
  },
  {
   "cell_type": "code",
   "execution_count": 20,
   "metadata": {},
   "outputs": [
    {
     "name": "stdout",
     "output_type": "stream",
     "text": [
      "1 2 3 4 5 6 7 8 9 10 "
     ]
    }
   ],
   "source": [
    "#==================> WHILE <=================\n",
    "\n",
    "i = 1\n",
    "while(i<=10):\n",
    "    print(i,end=\" \")\n",
    "    i+=1"
   ]
  },
  {
   "cell_type": "code",
   "execution_count": 14,
   "metadata": {},
   "outputs": [
    {
     "name": "stdout",
     "output_type": "stream",
     "text": [
      "0,1,2,3,4,5,THE END\n"
     ]
    }
   ],
   "source": [
    "i = 0 \n",
    "while(i<=5):\n",
    "    print(i, end=\",\")\n",
    "    i+=1\n",
    "    # if i==4:\n",
    "    #     break\n",
    "else:\n",
    "    print(\"THE END\")"
   ]
  },
  {
   "cell_type": "code",
   "execution_count": null,
   "metadata": {},
   "outputs": [],
   "source": []
  },
  {
   "cell_type": "code",
   "execution_count": 6,
   "metadata": {},
   "outputs": [
    {
     "name": "stdout",
     "output_type": "stream",
     "text": [
      "Enter only number : ERROR : invalid literal for int() with base 10: 'a'\n",
      "More code\n",
      "End of program\n"
     ]
    }
   ],
   "source": [
    "#================> EXCEPTION HANDLING <=================\n",
    "\n",
    "# Handling unexpected events/errors to continue the normal flow of the program.\n",
    "\n",
    "try:\n",
    "    num = int(input(\"Enter a number to print table : \"))\n",
    "    for i in range(1,11,1):\n",
    "        print(f\"{num} * {i} = \",num*i)\n",
    "except Exception as e:\n",
    "    print(\"Enter only number : ERROR :\", e)\n",
    "\n",
    "print(\"More code\")\n",
    "print(\"End of program\")"
   ]
  },
  {
   "cell_type": "code",
   "execution_count": 10,
   "metadata": {},
   "outputs": [
    {
     "name": "stdout",
     "output_type": "stream",
     "text": [
      "Value Error\n"
     ]
    }
   ],
   "source": [
    "#--------> TRY EXCEPT\n",
    "try:\n",
    "    num = int(input(\"Enter a number : \"))\n",
    "    a = [10,20]\n",
    "    print(a[num])\n",
    "except IndexError:\n",
    "    print(\"Index Error\")\n",
    "except ValueError:\n",
    "    print(\"Value Error\")"
   ]
  },
  {
   "cell_type": "code",
   "execution_count": 16,
   "metadata": {},
   "outputs": [
    {
     "name": "stdout",
     "output_type": "stream",
     "text": [
      "You won\n",
      "Thanks for playing....!!\n"
     ]
    }
   ],
   "source": [
    "#--------> TRY EXCEPT FINALLY\n",
    "\n",
    "nums = [2,4,6,8,10]\n",
    "try:\n",
    "    gus = int(input(\"Guess a number b/t 1-10 : \"))\n",
    "    if gus in nums:\n",
    "        print(\"You won\")\n",
    "    else:\n",
    "        print('try again')\n",
    "except ValueError as e:\n",
    "    print(\"Enter only number. ERROR : \",e)\n",
    "finally:\n",
    "    print(\"Thanks for playing....!!\")"
   ]
  },
  {
   "cell_type": "code",
   "execution_count": 18,
   "metadata": {},
   "outputs": [
    {
     "ename": "ValueError",
     "evalue": "Value shold be in between 1-5",
     "output_type": "error",
     "traceback": [
      "\u001b[1;31m---------------------------------------------------------------------------\u001b[0m",
      "\u001b[1;31mValueError\u001b[0m                                Traceback (most recent call last)",
      "Cell \u001b[1;32mIn [18], line 6\u001b[0m\n\u001b[0;32m      3\u001b[0m a \u001b[39m=\u001b[39m \u001b[39mint\u001b[39m(\u001b[39minput\u001b[39m(\u001b[39m\"\u001b[39m\u001b[39mEnter number between 1-5 : \u001b[39m\u001b[39m\"\u001b[39m))\n\u001b[0;32m      5\u001b[0m \u001b[39mif\u001b[39;00m(a\u001b[39m<\u001b[39m\u001b[39m1\u001b[39m \u001b[39mor\u001b[39;00m a\u001b[39m>\u001b[39m\u001b[39m5\u001b[39m):\n\u001b[1;32m----> 6\u001b[0m     \u001b[39mraise\u001b[39;00m \u001b[39mValueError\u001b[39;00m(\u001b[39m\"\u001b[39m\u001b[39mValue shold be in between 1-5\u001b[39m\u001b[39m\"\u001b[39m)\n\u001b[0;32m      7\u001b[0m \u001b[39melse\u001b[39;00m:\n\u001b[0;32m      8\u001b[0m     \u001b[39mprint\u001b[39m(\u001b[39mf\u001b[39m\u001b[39m\"\u001b[39m\u001b[39mYou entred : \u001b[39m\u001b[39m{\u001b[39;00ma\u001b[39m}\u001b[39;00m\u001b[39m\"\u001b[39m)\n",
      "\u001b[1;31mValueError\u001b[0m: Value shold be in between 1-5"
     ]
    }
   ],
   "source": [
    "#---------> Custom error\n",
    "\n",
    "a = int(input(\"Enter number between 1-5 : \"))\n",
    "\n",
    "if(a<1 or a>5):\n",
    "    raise ValueError(\"Value shold be in between 1-5\")\n",
    "else:\n",
    "    print(f\"You entred : {a}\")"
   ]
  },
  {
   "cell_type": "code",
   "execution_count": 16,
   "metadata": {},
   "outputs": [],
   "source": [
    "try:\n",
    "    inp = input(\"Enter 'quit' else see error : \")\n",
    "    if inp=='quit':\n",
    "        print('Bye')\n",
    "except ValueError as e:\n",
    "        # if type(inp) == int:\n",
    "    raise ValueError(\"Enter only 'quit' \")\n",
    "        # else:\n",
    "        #     print(\"enter only quit\")"
   ]
  },
  {
   "cell_type": "code",
   "execution_count": 2,
   "metadata": {},
   "outputs": [
    {
     "name": "stdout",
     "output_type": "stream",
     "text": [
      "<class 'int'>\n"
     ]
    }
   ],
   "source": [
    "num = 10\n",
    "print(type(num))"
   ]
  },
  {
   "cell_type": "code",
   "execution_count": 5,
   "metadata": {},
   "outputs": [
    {
     "name": "stdout",
     "output_type": "stream",
     "text": [
      "Question for Rs. :  {1000}\n",
      "['Capital of India ?', 'Delhi', 'Mumbai', 'Calcutta', 'None', 1]\n",
      "a. Delhi     b. Mumbai\n",
      "c. Calcutta     d. None\n",
      "correct answer, you won Rs. 1000\n",
      "Question for Rs. :  {2000}\n",
      "['National bird ? ', 'Peacock', 'Parrot', 'Koyal', 'Crow', 1]\n",
      "a. Peacock     b. Parrot\n",
      "c. Koyal     d. Crow\n",
      "correct answer, you won Rs. 2000\n",
      "Question for Rs. :  {3000}\n",
      "['National animal ? ', 'Elephant', 'Tiger', 'Lion', 'Bear', 2]\n",
      "a. Elephant     b. Tiger\n",
      "c. Lion     d. Bear\n",
      "correct answer, you won Rs. 3000\n",
      "Question for Rs. :  {5000}\n",
      "['Capital of India ?', 'Delhi', 'Mumbai', 'Calcutta', 'None', 1]\n",
      "a. Delhi     b. Mumbai\n",
      "c. Calcutta     d. None\n",
      "correct answer, you won Rs. 5000\n",
      "Question for Rs. :  {10000}\n",
      "['National bird ? ', 'Peacock', 'Parrot', 'Koyal', 'Crow', 1]\n",
      "a. Peacock     b. Parrot\n",
      "c. Koyal     d. Crow\n",
      "correct answer, you won Rs. 10000\n",
      "Question for Rs. :  {20000}\n",
      "['National animal ? ', 'Elephant', 'Tiger', 'Lion', 'Bear', 2]\n",
      "a. Elephant     b. Tiger\n",
      "c. Lion     d. Bear\n",
      "correct answer, you won Rs. 20000\n",
      "Question for Rs. :  {40000}\n",
      "['Capital of India ?', 'Delhi', 'Mumbai', 'Calcutta', 'None', 1]\n",
      "a. Delhi     b. Mumbai\n",
      "c. Calcutta     d. None\n",
      "correct answer, you won Rs. 40000\n",
      "Question for Rs. :  {80000}\n",
      "['National bird ? ', 'Peacock', 'Parrot', 'Koyal', 'Crow', 1]\n",
      "a. Peacock     b. Parrot\n",
      "c. Koyal     d. Crow\n",
      "correct answer, you won Rs. 80000\n",
      "Question for Rs. :  {160000}\n",
      "['National animal ? ', 'Elephant', 'Tiger', 'Lion', 'Bear', 2]\n",
      "a. Elephant     b. Tiger\n",
      "c. Lion     d. Bear\n",
      "correct answer, you won Rs. 160000\n",
      "Question for Rs. :  {320000}\n",
      "['Capital of India ?', 'Delhi', 'Mumbai', 'Calcutta', 'None', 1]\n",
      "a. Delhi     b. Mumbai\n",
      "c. Calcutta     d. None\n",
      "correct answer, you won Rs. 320000\n"
     ]
    }
   ],
   "source": [
    "#===================> Exercise <===================\n",
    "# KBC\n",
    "\n",
    "questions = [\n",
    "    [\n",
    "        \"Capital of India ?\",\"Delhi\",\"Mumbai\",\"Calcutta\",\"None\",1\n",
    "    ],\n",
    "    [\n",
    "        \"National bird ? \",'Peacock','Parrot','Koyal','Crow',1\n",
    "    ],\n",
    "    [\n",
    "        \"National animal ? \",'Elephant','Tiger','Lion','Bear',2\n",
    "    ],\n",
    "    [\n",
    "        \"Capital of India ?\",\"Delhi\",\"Mumbai\",\"Calcutta\",\"None\",1\n",
    "    ],\n",
    "    [\n",
    "        \"National bird ? \",'Peacock','Parrot','Koyal','Crow',1\n",
    "    ],\n",
    "    [\n",
    "        \"National animal ? \",'Elephant','Tiger','Lion','Bear',2\n",
    "    ],\n",
    "    [\n",
    "        \"Capital of India ?\",\"Delhi\",\"Mumbai\",\"Calcutta\",\"None\",1\n",
    "    ],\n",
    "    [\n",
    "        \"National bird ? \",'Peacock','Parrot','Koyal','Crow',1\n",
    "    ],\n",
    "    [\n",
    "        \"National animal ? \",'Elephant','Tiger','Lion','Bear',2\n",
    "    ],\n",
    "    [\n",
    "        \"Capital of India ?\",\"Delhi\",\"Mumbai\",\"Calcutta\",\"None\",1\n",
    "    ]\n",
    "]\n",
    "\n",
    "levels = [1000,2000,3000,5000,10000,20000,40000,80000,160000,320000]\n",
    "money = 0\n",
    "\n",
    "for i in range(0,len(questions)):\n",
    "    question = questions[i]\n",
    "    print(f\"Question for Rs. : \", {levels[i]})\n",
    "    print(f\"{question}\")\n",
    "    print(f\"a. {question[1]}     b. {question[2]}\")\n",
    "    print(f\"c. {question[3]}     d. {question[4]}\")\n",
    "    \n",
    "    reply = int(input(\"Enter your answer (1-4) : \"))\n",
    "    if(reply == question[-1]):\n",
    "        print(f\"correct answer, you won Rs. {levels[i]}\")\n",
    "        if(i == 3):\n",
    "            money=3000\n",
    "        elif(i == 6):\n",
    "            money=20000\n",
    "        elif(i==10):\n",
    "            money=320000\n",
    "    else:\n",
    "        print(\"Wrong answer\")\n",
    "        print(\"You won Rs. : \",{money})\n",
    "        break"
   ]
  },
  {
   "cell_type": "code",
   "execution_count": 4,
   "metadata": {},
   "outputs": [
    {
     "name": "stdout",
     "output_type": "stream",
     "text": [
      "Capital of India ?\n",
      "1 Delhi\n",
      "2 Mumbai\n",
      "3 Calcutta\n",
      "4 None\n",
      "National bird ? \n",
      "1 Peacock\n",
      "2 Parrot\n",
      "3 Koyal\n",
      "4 Crow\n",
      "National animal ? \n",
      "1 Elephant\n",
      "2 Tiger\n",
      "3 Lion\n",
      "4 Bear\n",
      "Your score is :  3\n"
     ]
    }
   ],
   "source": [
    "questions = [\n",
    "    [\n",
    "        \"Capital of India ?\",\"Delhi\",\"Mumbai\",\"Calcutta\",\"None\",1\n",
    "    ],\n",
    "    [\n",
    "        \"National bird ? \",'Peacock','Parrot','Koyal','Crow',1\n",
    "    ],\n",
    "    [\n",
    "        \"National animal ? \",'Elephant','Tiger','Lion','Bear',2\n",
    "    ],\n",
    "]\n",
    "\n",
    "score = 0\n",
    "for question in questions:\n",
    "    print(question[0])\n",
    "    for i in range(1,len(question)-1):\n",
    "        print(i,question[i])\n",
    "    ans = int(input(\"Enter your answer : \"))\n",
    "    if ans == question[-1]:\n",
    "        score += 1\n",
    "    \n",
    "print(\"Your score is : \",score)\n"
   ]
  },
  {
   "cell_type": "code",
   "execution_count": 14,
   "metadata": {},
   "outputs": [
    {
     "name": "stdout",
     "output_type": "stream",
     "text": [
      "apple bat\n"
     ]
    }
   ],
   "source": [
    "# Exercise - secret code language\n",
    "\n",
    "# Coding:\n",
    "#     * if word have atleast 3 characters, remove the first letter and append it at end.\n",
    "#     * now append three random characters at starting and end   or  simply reverse the string\n",
    "\n",
    "# Decoding:\n",
    "#     * if len(words) < 3 characters, reverse it\n",
    "#     * else remove 3 random characters from start and end, rem last ltr & apnd it at starting\n",
    "# Program shld ask whtr u wnt to code or decode\n",
    "\n",
    "\n",
    "st = input(\"Enter secret message : \")\n",
    "coding = input(\"1 for coding, 0 for decoding\")\n",
    "words = st.split(\" \")\n",
    "\n",
    "coding = True if (coding==\"1\") else False\n",
    "if(coding):\n",
    "    nwords = []\n",
    "    for word in words:\n",
    "        if(len(word)>=3):\n",
    "            r1 = \"dsf\";  r2 = \"jkr\"\n",
    "            stnew = r1 + word[1:] + word[0] + r2\n",
    "            nwords.append(stnew)\n",
    "        else:\n",
    "            nwords.append(word[::-1])\n",
    "    print(\" \".join(nwords))\n",
    "else:\n",
    "    nwords = []\n",
    "    for word in words:\n",
    "        if (len(word)>=3):\n",
    "            stnew = word[3:-3]\n",
    "            stnew = stnew[-1]+stnew[:-1]\n",
    "            nwords.append(stnew)\n",
    "        else:\n",
    "            nwords.append(word[::-1])\n",
    "    print(\" \".join(nwords))"
   ]
  },
  {
   "cell_type": "code",
   "execution_count": 8,
   "metadata": {},
   "outputs": [
    {
     "name": "stdout",
     "output_type": "stream",
     "text": [
      "b: 20\n",
      "0\n"
     ]
    }
   ],
   "source": [
    "#==========================> SHORTHAND IF-ELSE <================================\n",
    "\n",
    "a = 10; b=20\n",
    "print('a:',a) if a>b else print('b:',b) if a<b else print(\"Both are equal\")\n",
    "\n",
    "#-----------------------------------\n",
    "\n",
    "a1=100; b1=120;\n",
    "a1=30 if a1>b1 else 0\n",
    "print(a1)"
   ]
  },
  {
   "cell_type": "code",
   "execution_count": 10,
   "metadata": {},
   "outputs": [
    {
     "name": "stdout",
     "output_type": "stream",
     "text": [
      "12,34,45,56,67,78,89,90,Deepak the developer\n"
     ]
    }
   ],
   "source": [
    "#========================> Enumerate function <==================================\n",
    "\n",
    "#-> simple program\n",
    "marks = [12,34,45,56,67,78,89,90]\n",
    "\n",
    "index = 0\n",
    "for mark in marks:\n",
    "    print(mark, end = \",\")\n",
    "    if index==7:\n",
    "        print(\"Deepak the developer\")\n",
    "    index+=1"
   ]
  },
  {
   "cell_type": "code",
   "execution_count": 14,
   "metadata": {},
   "outputs": [
    {
     "name": "stdout",
     "output_type": "stream",
     "text": [
      "12,34,45,56,67,78,89,90,Deepak is awesome\n"
     ]
    }
   ],
   "source": [
    "#-----------------------> Using Enumerate\n",
    "\n",
    "marks = [12,34,45,56,67,78,89,90]\n",
    "for index,mark in enumerate(marks):\n",
    "    print(mark, end=\",\")\n",
    "    if index==7:\n",
    "        print(\"Deepak is awesome\")"
   ]
  },
  {
   "cell_type": "code",
   "execution_count": 15,
   "metadata": {},
   "outputs": [
    {
     "name": "stdout",
     "output_type": "stream",
     "text": [
      "12,34,45,56,67,78,89,Deepak is awesome\n",
      "90,"
     ]
    }
   ],
   "source": [
    "marks = [12,34,45,56,67,78,89,90]\n",
    "for index,mark in enumerate(marks,start=1):\n",
    "    print(mark, end=\",\")\n",
    "    if index==7:\n",
    "        print(\"Deepak is awesome\")"
   ]
  },
  {
   "attachments": {},
   "cell_type": "markdown",
   "metadata": {},
   "source": [
    "#================> VIRTUAL ENVIRONMENT\n",
    "\n",
    " tool use to isolate specific python envi on a single machine, allow us to work on multiple projects\n",
    " create env and install whatever package u want to use \n",
    "\n",
    "1) python -m venv env(name_of_envi./venv)\n",
    "2) activating venv\n",
    "            ( In cmd.exe ) :\n",
    "              venv\\Scripts\\activate.bat    \n",
    "              OR\n",
    "              ctrl+shift+p    <- in vscode  and select created environment\n",
    "3) now install packages, will be installed in activated venv\n",
    "        e.g ->    pip3 install pandas   or pip3 install pandas==1.4.4    (for specfic version)\n",
    "\n",
    "        import pandas as pd\n",
    "\n",
    "        pd.__version__        <-- for checking verson(in cmd)\n",
    "\n",
    "   Note : uninstalling package :    pip uninstall pandas\n",
    "4) deactivate          (venv will be deactivated)\n",
    "\n",
    "\n",
    "5) creating requirements.txt \n",
    "        => pip freeze       <- command gives us all packages installed in env\n",
    "        => pip freeze > requirements.txt    <- cmd to create requirements.txt\n",
    "\n",
    "        for installing requirements.txt\n",
    "        => pip install -r requirements.txt\n",
    "\n"
   ]
  },
  {
   "cell_type": "code",
   "execution_count": 39,
   "metadata": {},
   "outputs": [
    {
     "name": "stdout",
     "output_type": "stream",
     "text": [
      "4\n",
      "5.0\n",
      "3.141592653589793\n",
      "---------------------\n",
      "['__doc__', '__loader__', '__name__', '__package__', '__spec__', 'acos', 'acosh', 'asin', 'asinh', 'atan', 'atan2', 'atanh', 'cbrt', 'ceil', 'comb', 'copysign', 'cos', 'cosh', 'degrees', 'dist', 'e', 'erf', 'erfc', 'exp', 'exp2', 'expm1', 'fabs', 'factorial', 'floor', 'fmod', 'frexp', 'fsum', 'gamma', 'gcd', 'hypot', 'inf', 'isclose', 'isfinite', 'isinf', 'isnan', 'isqrt', 'lcm', 'ldexp', 'lgamma', 'log', 'log10', 'log1p', 'log2', 'modf', 'nan', 'nextafter', 'perm', 'pi', 'pow', 'prod', 'radians', 'remainder', 'sin', 'sinh', 'sqrt', 'tan', 'tanh', 'tau', 'trunc', 'ulp']\n",
      "---------------------\n"
     ]
    }
   ],
   "source": [
    "#===================> IMPORTS\n",
    "\n",
    "import math\n",
    "x = math.floor(4.12345)\n",
    "print(x)\n",
    "\n",
    "x1 = math.sqrt(25)\n",
    "print(x1)\n",
    "\n",
    "print(math.pi)\n",
    "\n",
    "print('---------------------')\n",
    "\n",
    "print(dir(math))\n",
    "\n",
    "print('---------------------')\n"
   ]
  },
  {
   "cell_type": "code",
   "execution_count": 49,
   "metadata": {},
   "outputs": [
    {
     "name": "stdout",
     "output_type": "stream",
     "text": [
      "Welcome\n"
     ]
    }
   ],
   "source": [
    "# IMPORTING created file(module)\n",
    "\n",
    "import Python_04 as p4\n",
    "\n",
    "p4.welcome()"
   ]
  },
  {
   "cell_type": "code",
   "execution_count": null,
   "metadata": {},
   "outputs": [],
   "source": []
  },
  {
   "cell_type": "code",
   "execution_count": null,
   "metadata": {},
   "outputs": [],
   "source": []
  }
 ],
 "metadata": {
  "kernelspec": {
   "display_name": "Python 3",
   "language": "python",
   "name": "python3"
  },
  "language_info": {
   "codemirror_mode": {
    "name": "ipython",
    "version": 3
   },
   "file_extension": ".py",
   "mimetype": "text/x-python",
   "name": "python",
   "nbconvert_exporter": "python",
   "pygments_lexer": "ipython3",
   "version": "3.11.0"
  },
  "orig_nbformat": 4,
  "vscode": {
   "interpreter": {
    "hash": "17ba6bd45ad9503e48b9f06a470f65a26ec0a1151aceda8343315fd72d03c3c1"
   }
  }
 },
 "nbformat": 4,
 "nbformat_minor": 2
}
