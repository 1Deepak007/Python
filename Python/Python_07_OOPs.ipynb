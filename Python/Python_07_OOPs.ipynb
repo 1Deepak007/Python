{
 "cells": [
  {
   "attachments": {},
   "cell_type": "markdown",
   "metadata": {},
   "source": [
    "* INHERITANCE\n",
    "* GENERATORS\n",
    "\n",
    "# ======> Single Level Inheritance\n",
    "\n",
    "When class inherits properties from single parent class."
   ]
  },
  {
   "cell_type": "code",
   "execution_count": 17,
   "metadata": {},
   "outputs": [
    {
     "name": "stdout",
     "output_type": "stream",
     "text": [
      "Alex Barks.\n",
      "Alex belongs to Labrador specie.\n",
      "Killer Barks.\n"
     ]
    }
   ],
   "source": [
    "class Animal:\n",
    "    def __init__(self, name, specie):\n",
    "        self.name = name\n",
    "        self.specie = specie\n",
    "    \n",
    "    def make_sound(self):\n",
    "        print(self.name ,\"Barks.\")\n",
    "    \n",
    "    def animal_specie(self):\n",
    "        print(self.name ,\"belongs to\", self.specie, \"specie.\")\n",
    "\n",
    "\n",
    "class Dog(Animal):\n",
    "    def __init__(self,name,breed):\n",
    "        Animal.__init__(self,name,specie=\"Dog\")\n",
    "        self.breed = breed\n",
    "\n",
    "\n",
    "a = Animal(\"Alex\",\"Labrador\")\n",
    "a.make_sound()\n",
    "a.animal_specie()\n",
    "\n",
    "b = Dog(\"Killer\",\"Bull Dog\")\n",
    "b.make_sound()"
   ]
  },
  {
   "cell_type": "code",
   "execution_count": 9,
   "metadata": {},
   "outputs": [
    {
     "name": "stdout",
     "output_type": "stream",
     "text": [
      "Alex Barks.\n",
      "Alex belongs to Labrador specie.\n",
      "---------------------\n",
      "Killer Woff.\n",
      "Killer belongs to Bull Dog specie.\n"
     ]
    }
   ],
   "source": [
    "class Animal:\n",
    "    def __init__(self, name, specie):\n",
    "        self.name = name\n",
    "        self.specie = specie\n",
    "    \n",
    "    def make_sound(self):\n",
    "        print(self.name ,\"Barks.\")\n",
    "    \n",
    "    def animal_specie(self):\n",
    "        print(self.name ,\"belongs to\", self.specie, \"specie.\")\n",
    "\n",
    "\n",
    "class Dog(Animal):\n",
    "    def __init__(self,name,specie):\n",
    "        Animal.__init__(self,name,specie)\n",
    "        self.specie = specie\n",
    "        \n",
    "    def make_sound(self):                           #method overriding\n",
    "        print(self.name,\"Woff.\")\n",
    "\n",
    "\n",
    "a = Animal(\"Alex\",\"Labrador\")\n",
    "a.make_sound()\n",
    "a.animal_specie()                               ;print(\"---------------------\")\n",
    "\n",
    "b = Dog(\"Killer\",\"Bull Dog\")\n",
    "b.make_sound()\n",
    "b.animal_specie()"
   ]
  },
  {
   "attachments": {},
   "cell_type": "markdown",
   "metadata": {},
   "source": [
    "# ======> MULTIPLE INHERITANCE"
   ]
  },
  {
   "attachments": {},
   "cell_type": "markdown",
   "metadata": {},
   "source": [
    "One child have more than one parents."
   ]
  },
  {
   "cell_type": "code",
   "execution_count": 15,
   "metadata": {},
   "outputs": [
    {
     "name": "stdout",
     "output_type": "stream",
     "text": [
      "Kathak\n",
      "Shivani\n",
      "the dance form is Shivani\n"
     ]
    }
   ],
   "source": [
    "class Employee:\n",
    "    def __init__(self,name):\n",
    "        self.name = name\n",
    "    def show(self):\n",
    "        print(f\"the name is {self.name}\")\n",
    "\n",
    "class Dancer:\n",
    "    def __init__(self, dance):\n",
    "        self.dance = dance\n",
    "    def show(self):\n",
    "        print(f\"the dance form is {self.dance}\")\n",
    "        \n",
    "\n",
    "# class DancerEmployee(Employee,Dancer):\n",
    "#     def __init__(self, name, dance):\n",
    "#         self.name = name\n",
    "#         self.dance = dance\n",
    "        \n",
    "        # OR \n",
    "        \n",
    "class DancerEmployee(Dancer,Employee):\n",
    "    def __init__(self, name, dance):\n",
    "        self.name = name\n",
    "        self.dance = dance\n",
    "\n",
    "obj = DancerEmployee('Kathak','Shivani')\n",
    "print(obj.name)\n",
    "print(obj.dance)\n",
    "\n",
    "obj.show()"
   ]
  },
  {
   "attachments": {},
   "cell_type": "markdown",
   "metadata": {},
   "source": [
    "# ======> MULTI LEVEL INHERITANCE"
   ]
  },
  {
   "attachments": {},
   "cell_type": "markdown",
   "metadata": {},
   "source": [
    "not only can we derive a class from the superclass but you can also derive a class from the derived class. This form of inheritance is known as multilevel inheritance."
   ]
  },
  {
   "cell_type": "code",
   "execution_count": 32,
   "metadata": {},
   "outputs": [
    {
     "name": "stdout",
     "output_type": "stream",
     "text": [
      "Name : Rottweiler\n",
      "Specie : Dog\n",
      "Breed : Golden Retriever\n",
      "Color : Black\n",
      "------------------------------------------------\n",
      "[<class '__main__.GoldenRetriever'>, <class '__main__.Dog'>, <class '__main__.Animal'>, <class 'object'>]\n"
     ]
    }
   ],
   "source": [
    "class Animal:\n",
    "    def __init__(self,name,specie):\n",
    "        self.name = name\n",
    "        self.specie = specie\n",
    "        \n",
    "    def show_details(self):\n",
    "        print(f\"Name : {self.name}\")\n",
    "        print(f\"Specie : {self.specie}\")\n",
    "\n",
    "class Dog(Animal):\n",
    "    def __init__(self, name, breed):\n",
    "        Animal.__init__(self,name,specie='Dog')\n",
    "        self.breed = breed\n",
    "        \n",
    "    def show_details(self):\n",
    "        Animal.show_details(self)\n",
    "        print(f\"Breed : {self.breed}\")\n",
    "\n",
    "class GoldenRetriever(Dog):\n",
    "    def __init__(self, name, color):\n",
    "        Dog.__init__(self,name, breed=\"Golden Retriever\")\n",
    "        self.color = color\n",
    "        \n",
    "    def show_details(self):\n",
    "        Dog.show_details(self)\n",
    "        print(f\"Color : {self.color}\")\n",
    "\n",
    "obj = GoldenRetriever(\"Rottweiler\",\"Black\")\n",
    "obj.show_details()\n",
    "\n",
    "print('------------------------------------------------')\n",
    "\n",
    "print(GoldenRetriever.mro())\n",
    "\n"
   ]
  },
  {
   "attachments": {},
   "cell_type": "markdown",
   "metadata": {},
   "source": [
    "# ======> HIRARCHICAL INHERITANCE"
   ]
  },
  {
   "cell_type": "code",
   "execution_count": 1,
   "metadata": {},
   "outputs": [],
   "source": [
    "# Hybrid Inheritance\n",
    "\n",
    "class BaseClass:\n",
    "    pass\n",
    "\n",
    "class DerivedOne(BaseClass):\n",
    "    pass\n",
    "\n",
    "class DerivedTwo(BaseClass):\n",
    "    pass\n",
    "\n",
    "class DerivedThree(DerivedOne, DerivedTwo):\n",
    "    pass"
   ]
  },
  {
   "cell_type": "code",
   "execution_count": 4,
   "metadata": {},
   "outputs": [],
   "source": [
    "# Hirarchical Inheritance\n",
    "\n",
    "class BaseClass:\n",
    "    pass\n",
    "\n",
    "class D1(BaseClass):\n",
    "    pass\n",
    "\n",
    "class D2(BaseClass):\n",
    "    pass\n",
    "\n",
    "class D2(D1):\n",
    "    pass"
   ]
  },
  {
   "cell_type": "code",
   "execution_count": null,
   "metadata": {},
   "outputs": [],
   "source": []
  },
  {
   "attachments": {},
   "cell_type": "markdown",
   "metadata": {},
   "source": [
    "# ======> GENERATORS\n",
    "\n",
    "* Generators are useful when we want to produce a large sequence of values, but we don't want to store all of them in memory at once.\n",
    "\n",
    "* In generators values are not stored."
   ]
  },
  {
   "cell_type": "code",
   "execution_count": 11,
   "metadata": {},
   "outputs": [
    {
     "name": "stdout",
     "output_type": "stream",
     "text": [
      "1\n",
      "2\n",
      "3\n",
      "4\n",
      "5\n"
     ]
    }
   ],
   "source": [
    "def gen():\n",
    "    for i in range(1,6):\n",
    "        yield i\n",
    "\n",
    "g = gen()\n",
    "print(next(g)); print(next(g)); print(next(g)); print(next(g)); print(next(g))"
   ]
  },
  {
   "cell_type": "code",
   "execution_count": null,
   "metadata": {},
   "outputs": [],
   "source": []
  }
 ],
 "metadata": {
  "kernelspec": {
   "display_name": "Developer",
   "language": "python",
   "name": "python3"
  },
  "language_info": {
   "codemirror_mode": {
    "name": "ipython",
    "version": 3
   },
   "file_extension": ".py",
   "mimetype": "text/x-python",
   "name": "python",
   "nbconvert_exporter": "python",
   "pygments_lexer": "ipython3",
   "version": "3.11.4 | packaged by Anaconda, Inc. | (main, Jul  5 2023, 13:47:18) [MSC v.1916 64 bit (AMD64)]"
  },
  "orig_nbformat": 4,
  "vscode": {
   "interpreter": {
    "hash": "36f7ff5fe44c80b6ca0c4b179b80d8db9eacae3a1fdf354a582873bf082fae06"
   }
  }
 },
 "nbformat": 4,
 "nbformat_minor": 2
}
