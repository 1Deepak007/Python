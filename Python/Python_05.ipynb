{
 "cells": [
  {
   "attachments": {},
   "cell_type": "markdown",
   "metadata": {},
   "source": [
    "===================> OOPS <===================="
   ]
  },
  {
   "attachments": {},
   "cell_type": "markdown",
   "metadata": {},
   "source": [
    "Introduction to Object-oriented programming\n",
    "\n",
    "Introduction to Object-Oriented Programming in Python: In programming languages, mainly there are two approaches that are used to write program or code.\n",
    "\n",
    "1). Procedural Programming\n",
    "     -> creating fxn logics etc, whatever we didi till now\n",
    "     \n",
    "2). Object-Oriented Programming\n",
    "\n",
    "The basic idea of object-oriented programming (OOP) in Python is to use classes and objects to represent real-world concepts and entities.\n",
    "\n",
    "=> CLASS : A class is a blueprint or template for creating objects. It defines the properties and methods that an object of that class will have. Properties are the data or state of an object, and methods are the actions or behaviors that an object can perform.  E.g- train booking form(template)\n",
    "\n",
    "=> OBJECT : An object is an instance of a class, and it contains its own data and methods. For example, you could create a class called \"Person\" that has properties such as name and age, and methods such as speak() and walk(). Each instance of the Person class would be a unique object with its own name and age, but they would all have the same methods to speak and walk.\n",
    "\n",
    "=> ENCAPSULATION : the internal state of an object is hidden and can only be accessed or modified through the object's methods. This helps to protect the object's data and prevent it from being modified in unexpected ways.\n",
    "\n",
    "=> INHERITANCE : Another key feature of OOP in Python is inheritance, which allows new classes to be created that inherit the properties and methods of an existing class. This allows for code reuse and makes it easy to create new classes that have similar functionality to existing classes.\n",
    "\n",
    "=> POLYMORPHISH : Polymorphism is also supported in Python, which means that objects of different classes can be treated as if they were objects of a common class. This allows for greater flexibility in code and makes it easier to write code that can work with multiple types of objects.\n",
    "\n",
    "* Constructor : \n",
    "\n",
    "In summary, OOP in Python allows developers to model real-world concepts and entities using classes and objects, encapsulate data, reuse code through inheritance, and write more flexible code through polymorphism."
   ]
  },
  {
   "cell_type": "code",
   "execution_count": 1,
   "metadata": {},
   "outputs": [],
   "source": [
    "# Railway form  --> class [blueprint]\n",
    "# deepak ---> form with deepak's info         <--- Object (deepak's form)\n",
    "# sonu ---> form with sonu's info             <--- Object (sonu's form)\n"
   ]
  },
  {
   "attachments": {},
   "cell_type": "markdown",
   "metadata": {},
   "source": [
    "# =====> CLASS AND OBJECT"
   ]
  },
  {
   "cell_type": "code",
   "execution_count": 2,
   "metadata": {},
   "outputs": [
    {
     "name": "stdout",
     "output_type": "stream",
     "text": [
      "Deepak Software developer\n",
      "Teacher\n"
     ]
    }
   ],
   "source": [
    "#-----------> CLASS & OBJECTS\n",
    "\n",
    "class Person:                                       # class\n",
    "    name = \"Deepak\"\n",
    "    occupation = \"Software developer\"\n",
    "    net_worth = 10000000000\n",
    "\n",
    "p = Person()                                        # object\n",
    "print(p.name, p.occupation)\n",
    "\n",
    "#-----------------------------------------------------------\n",
    "\n",
    "a = Person()                                        # creating new object\n",
    "a.name = 'Anny'\n",
    "a.occupation = 'Teacher'\n",
    "a.net_worth = 2000000\n",
    "\n",
    "print(a.occupation)"
   ]
  },
  {
   "cell_type": "code",
   "execution_count": 3,
   "metadata": {},
   "outputs": [
    {
     "name": "stdout",
     "output_type": "stream",
     "text": [
      "Sedheer studies in BCA\n",
      "Ankit studies in MCA\n",
      "Sedheer BCA 30000 / Annum\n",
      "Ankit MCA 100000 / Annum\n",
      "Ela BCA 30000 / Annum\n"
     ]
    }
   ],
   "source": [
    "#------------> class with function\n",
    "\n",
    "class Student:                                #<- creating  \n",
    "    s_name = 'demo_name'                      #\n",
    "    s_course = 'demo_course'                  #\n",
    "    s_fee = 'demo_fee'                        #<- class\n",
    "\n",
    "    #----> Default constructor\n",
    "    def info(self):                          # <- self means wo obj jispe ye fxn call ho rha h\n",
    "        print(f\"{self.s_name} studies in {self.s_course}\")\n",
    "\n",
    "\n",
    "\n",
    "s1 = Student()                                # creating object (s1)\n",
    "s1.s_name = 'Sedheer'\n",
    "s1.s_course = 'BCA'\n",
    "s1.s_fee = '30000 / Annum'\n",
    "s1.info()\n",
    "\n",
    "\n",
    "s2 = Student()                                # creating object  (s2)\n",
    "s2.s_name = 'Ankit'\n",
    "s2.s_course = 'MCA'\n",
    "s2.s_fee = '100000 / Annum'\n",
    "s2.info()\n",
    "\n",
    "\n",
    "print(s1.s_name, s1.s_course, s1.s_fee)\n",
    "print(s2.s_name, s2.s_course, s2.s_fee)\n",
    "\n",
    "\n",
    "s1.s_name = 'Ela'\n",
    "print(s1.s_name, s1.s_course, s1.s_fee)"
   ]
  },
  {
   "attachments": {},
   "cell_type": "markdown",
   "metadata": {},
   "source": [
    "# ======> CONSTRUCTOR "
   ]
  },
  {
   "cell_type": "code",
   "execution_count": 4,
   "metadata": {},
   "outputs": [
    {
     "name": "stdout",
     "output_type": "stream",
     "text": [
      "This is non parametrized constructor\n",
      "Hello John\n",
      "This is parametrized constructor\n",
      "Hello John\n"
     ]
    }
   ],
   "source": [
    "# A special type of function which is used to initialize the instance members of the class. [constructor id used when we want to create objects by passing arguments]\n",
    "# Types .-   1.Parameterized Constructor       2.Non-parameterized Constructor\n",
    "\n",
    "class Student:  \n",
    "    # Constructor - non parameterized  \n",
    "    def __init__(self):                     # Default constructor\n",
    "        print(\"This is non parametrized constructor\")  \n",
    "    def show(self,name):\n",
    "        print(\"Hello\",name)\n",
    "student = Student()  \n",
    "student.show(\"John\")   \n",
    "\n",
    "\n",
    "#------------------------------------------------------------------------------#\n",
    "\n",
    "class Student:  \n",
    "    # Constructor - parameterized  \n",
    "    def __init__(self, name):  \n",
    "        print(\"This is parametrized constructor\")  \n",
    "        self.name = name  \n",
    "    def show(self):  \n",
    "        print(\"Hello\",self.name)  \n",
    "        \n",
    "student = Student(\"John\")  \n",
    "student.show()    "
   ]
  },
  {
   "cell_type": "code",
   "execution_count": 5,
   "metadata": {},
   "outputs": [
    {
     "name": "stdout",
     "output_type": "stream",
     "text": [
      "This is a constructor.\n"
     ]
    },
    {
     "data": {
      "text/plain": [
       "'Name :  Deepak , Occupation : Developer'"
      ]
     },
     "execution_count": 5,
     "metadata": {},
     "output_type": "execute_result"
    }
   ],
   "source": [
    "class Person:\n",
    "    def __init__(self,nm,oc):                     # constructor is auto. cled hn obj is created\n",
    "        print(\"This is a constructor.\")\n",
    "        self.name = nm\n",
    "        self.occ = oc\n",
    "        \n",
    "    def info(self):\n",
    "        return (f'Name :  {self.name} , Occupation : {self.occ}')\n",
    "\n",
    "p = Person('Deepak','Developer')     # self is passed automatically; here self=p\n",
    "p.info()"
   ]
  },
  {
   "cell_type": "code",
   "execution_count": null,
   "metadata": {},
   "outputs": [],
   "source": []
  }
 ],
 "metadata": {
  "kernelspec": {
   "display_name": "Developer",
   "language": "python",
   "name": "python3"
  },
  "language_info": {
   "codemirror_mode": {
    "name": "ipython",
    "version": 3
   },
   "file_extension": ".py",
   "mimetype": "text/x-python",
   "name": "python",
   "nbconvert_exporter": "python",
   "pygments_lexer": "ipython3",
   "version": "3.11.4 | packaged by Anaconda, Inc. | (main, Jul  5 2023, 13:47:18) [MSC v.1916 64 bit (AMD64)]"
  },
  "orig_nbformat": 4,
  "vscode": {
   "interpreter": {
    "hash": "36f7ff5fe44c80b6ca0c4b179b80d8db9eacae3a1fdf354a582873bf082fae06"
   }
  }
 },
 "nbformat": 4,
 "nbformat_minor": 2
}
