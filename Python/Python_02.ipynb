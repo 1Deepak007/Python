{
 "cells": [
  {
   "attachments": {},
   "cell_type": "markdown",
   "metadata": {},
   "source": [
    "#========================> FUNCTIONS <========================"
   ]
  },
  {
   "attachments": {},
   "cell_type": "markdown",
   "metadata": {},
   "source": [
    "FUNCTIONS , LIST ,  TUPLES , FSTRING , DOCSTRING , RECURSSION , SET , DICTIONARY"
   ]
  },
  {
   "cell_type": "code",
   "execution_count": 10,
   "metadata": {},
   "outputs": [
    {
     "name": "stdout",
     "output_type": "stream",
     "text": [
      "Sum of numbers is :  15\n"
     ]
    }
   ],
   "source": [
    "def sum():\n",
    "    nums = input(\"Enter numbers comma seperated to sum : \").split(',')\n",
    "    sum = 0\n",
    "    for i in nums:\n",
    "        sum+=int(i)\n",
    "    print(\"Sum of numbers is : \",sum)\n",
    "\n",
    "\n",
    "sum()\n"
   ]
  },
  {
   "cell_type": "code",
   "execution_count": 21,
   "metadata": {},
   "outputs": [
    {
     "data": {
      "text/plain": [
       "30.333333333333332"
      ]
     },
     "execution_count": 21,
     "metadata": {},
     "output_type": "execute_result"
    }
   ],
   "source": [
    "def mean(a,b,c=1):         # default argument c=1,  def arg is kpt at lst\n",
    "    return (a+b+c/3)\n",
    "mean(a=10,b=20)"
   ]
  },
  {
   "cell_type": "code",
   "execution_count": 22,
   "metadata": {},
   "outputs": [
    {
     "data": {
      "text/plain": [
       "15"
      ]
     },
     "execution_count": 22,
     "metadata": {},
     "output_type": "execute_result"
    }
   ],
   "source": [
    "# * Arguments\n",
    "\n",
    "def sum(*num):\n",
    "    s = 0;\n",
    "    for i in num:\n",
    "        s+=i\n",
    "    return s\n",
    "\n",
    "sum(1,2,3,4,5)"
   ]
  },
  {
   "cell_type": "code",
   "execution_count": 34,
   "metadata": {},
   "outputs": [
    {
     "name": "stdout",
     "output_type": "stream",
     "text": [
      "Hello deepak gautam\n"
     ]
    }
   ],
   "source": [
    "# ** Arguments\n",
    "\n",
    "def dictnry(**name):\n",
    "    print(\"Hello\",name['fname'],name['lname'])\n",
    "\n",
    "dictnry(fname='deepak',lname='gautam')"
   ]
  },
  {
   "attachments": {},
   "cell_type": "markdown",
   "metadata": {},
   "source": [
    "#========================> LIST <========================="
   ]
  },
  {
   "cell_type": "code",
   "execution_count": 2,
   "metadata": {},
   "outputs": [
    {
     "name": "stdout",
     "output_type": "stream",
     "text": [
      "['a', 10, '11', 121.22]\n",
      "a 10 11 121.22 "
     ]
    }
   ],
   "source": [
    "# methods : append(); pop()\n",
    "# list are ordered & store multiple items of diff types.\n",
    "# list are muteable\n",
    "\n",
    "lst = ['a',10,'11',121.22];\n",
    "print(lst)\n",
    "\n",
    "for i in lst:\n",
    "    print(i, end=' ')"
   ]
  },
  {
   "cell_type": "code",
   "execution_count": 2,
   "metadata": {},
   "outputs": [
    {
     "name": "stdout",
     "output_type": "stream",
     "text": [
      "21 , Apples , ['Banana', 'Charry'] , Dragonfruit , True , \n",
      " True\n",
      "[21, 'Apples', ['Banana', 'Charry'], 'Dragonfruit']\n",
      "Apples\n",
      "Dragonfruit\n",
      "Present\n",
      "21  ['Banana', 'Charry']  "
     ]
    }
   ],
   "source": [
    "lst1 = []\n",
    "\n",
    "# append\n",
    "lst1.append(21)\n",
    "lst1.append('Apples')\n",
    "lst1.append(['Banana','Charry'])\n",
    "lst1.append('Dragonfruit')\n",
    "lst1.append(True)\n",
    "\n",
    "for items in lst1:\n",
    "    print(items, end=\" , \")                         \n",
    "\n",
    "# pop\n",
    "popped = lst1.pop()\n",
    "print('\\n',popped)\n",
    "print(lst1)\n",
    "\n",
    "# indexes\n",
    "print(lst1[1])\n",
    "print(lst1[-1])\n",
    "\n",
    "# is present or not\n",
    "if 'Apples' in lst1:\n",
    "    print(\"Present\")\n",
    "\n",
    "# jumpindex\n",
    "for i in range(0,len(lst1),2):\n",
    "    print(lst1[i], end = \"  \")\n"
   ]
  },
  {
   "cell_type": "code",
   "execution_count": 5,
   "metadata": {},
   "outputs": [
    {
     "name": "stdout",
     "output_type": "stream",
     "text": [
      "[1, 2, 3, 4, 5, 6, 7, 8, 9, 10]\n",
      "[2, 4, 6, 8, 10, 12, 14, 16, 18]\n"
     ]
    }
   ],
   "source": [
    "# List Comprehension - for creating list\n",
    "\n",
    "lst = [i for i in range(1,11)]\n",
    "print(lst)\n",
    "\n",
    "lst1 = [i for i in range(1,20) if i%2==0]\n",
    "print(lst1)"
   ]
  },
  {
   "attachments": {},
   "cell_type": "markdown",
   "metadata": {},
   "source": [
    "#========================> LIST METHODS <========================="
   ]
  },
  {
   "cell_type": "code",
   "execution_count": 19,
   "metadata": {},
   "outputs": [
    {
     "name": "stdout",
     "output_type": "stream",
     "text": [
      "[3, 1, 1, 2]\n",
      "[1, 1, 2, 3]\n",
      "[3, 2, 1, 1]\n",
      "[1, 1, 2, 3]\n",
      "2\n",
      "[0, 1, 2, 3]\n",
      "[0, 1, 2, 3]\n",
      "[0, 899, 1, 2, 3]\n",
      "[0, 899, 1, 2, 3, 1.1, 2.2, 3.3]\n"
     ]
    }
   ],
   "source": [
    "l = [3,1,1]\n",
    "l.append(2);            print(l)\n",
    "l.sort();               print(l)\n",
    "l.sort(reverse=True);   print(l)\n",
    "l.reverse();            print(l)\n",
    "print(l.index(2))\n",
    "l.count(1)\n",
    "\n",
    "m = l                           # m only refers l\n",
    "m[0] = 0;               print(l);   print(m)\n",
    "\n",
    "l.insert(1,899);        print(l)\n",
    "\n",
    "l1 = [1.1,2.2,3.3]\n",
    "l.extend(l1);           print(l)"
   ]
  },
  {
   "attachments": {},
   "cell_type": "markdown",
   "metadata": {},
   "source": [
    "#========================> *TUPLES* <========================"
   ]
  },
  {
   "cell_type": "code",
   "execution_count": 39,
   "metadata": {},
   "outputs": [
    {
     "name": "stdout",
     "output_type": "stream",
     "text": [
      "<class 'int'>\n",
      "<class 'tuple'>\n",
      "<class 'tuple'>\n",
      "(1, 'two', 3.5, True)\n",
      "two\n",
      "True\n",
      "1  two  3.5  True  ('a', 1.5, ['bat', 'cat', 'rat'])\n",
      "('a', 1.5, ['bat', 'cat', 'rat', 'mango'])\n",
      "('a', 1.5, ['bat', 'cat', 'rat'])\n",
      "2\n",
      "6\n",
      "11\n"
     ]
    }
   ],
   "source": [
    "tpl = (1);\n",
    "print(type(tpl))\n",
    "\n",
    "tpl1 = (1,)\n",
    "print(type(tpl1))\n",
    "\n",
    "tup = (1,'two',3.5,True)\n",
    "print(type(tup))\n",
    "print(tup[0:len(tup):1])\n",
    "\n",
    "# tup[1] = 'three';             # not change / Immueble\n",
    "\n",
    "print(tup[1])\n",
    "print(tup[-1])\n",
    "for i in tup:\n",
    "    print(i, end=\"  \")\n",
    "\n",
    "\n",
    "tup1 = ('a',1.5,['bat','cat','rat'])\n",
    "print(tup1)\n",
    "\n",
    "#------------------------> tuples methods\n",
    "tup1[2].append('mango')\n",
    "print(tup1)\n",
    "tup1[2].pop()\n",
    "print(tup1)\n",
    "\n",
    "tup2 = (1,2,3,4,2,5,3,'a','b','a','c')\n",
    "print(tup2.count(2))\n",
    "                 \n",
    "             #(num_to_find, from_indx, to_indx)\n",
    "print(tup2.index(3, 4, 8))\n",
    "print(len(tup2))"
   ]
  },
  {
   "cell_type": "code",
   "execution_count": 9,
   "metadata": {},
   "outputs": [
    {
     "name": "stdout",
     "output_type": "stream",
     "text": [
      "Capital of India ?  : Delhi\n",
      "National Bird ?  : Peacock\n",
      "Largest bird ?  : Ostrich\n",
      "----------------------\n",
      "Capital of India ? \n",
      "Delhi\n",
      "National Bird ? \n",
      "Peacock\n",
      "Largest bird ? \n",
      "Ostrich\n",
      "Your score is :  3\n"
     ]
    }
   ],
   "source": [
    "ques = {'Capital of India ? ':'Delhi','National Bird ? ':'Peacock','Largest bird ? ':'Ostrich'}\n",
    "\n",
    "for key in ques:\n",
    "    print(key ,':', ques[key])\n",
    "print(\"----------------------\")\n",
    "\n",
    "point = 0\n",
    "for key in ques:\n",
    "    print(key)\n",
    "    ans = input(\"Your answer : \")\n",
    "    ans = ans.capitalize()\n",
    "    print(ans)\n",
    "    if ans == ques[key]:\n",
    "        point += 1\n",
    "        \n",
    "print(\"Your score is : \",point)\n"
   ]
  },
  {
   "cell_type": "code",
   "execution_count": 6,
   "metadata": {},
   "outputs": [
    {
     "name": "stdout",
     "output_type": "stream",
     "text": [
      "my name is Deepak and I am from India.\n",
      "Hey my name is Deepak and I am from India.\n"
     ]
    }
   ],
   "source": [
    "#================> fstring\n",
    "\n",
    "msg = \"my name is {} and I am from {}.\"\n",
    "name =  'Deepak'\n",
    "country = 'India'\n",
    "\n",
    "# normal method\n",
    "print(msg.format(name,country))\n",
    "\n",
    "# using fstring\n",
    "print(f'Hey my name is {name} and I am from {country}.')"
   ]
  },
  {
   "cell_type": "code",
   "execution_count": 9,
   "metadata": {},
   "outputs": [
    {
     "name": "stdout",
     "output_type": "stream",
     "text": [
      "30\n",
      "This is a function for finding sum of two numbers\n"
     ]
    }
   ],
   "source": [
    "#===============> Docstrings & pep-8\n",
    "\n",
    "# Docstrings\n",
    "\n",
    "def sum(a,b):\n",
    "    '''This is a function for finding sum of two numbers'''   # it is not a comment\n",
    "    return a+b\n",
    "\n",
    "\n",
    "print(sum(10,20))\n",
    "\n",
    "print(sum.__doc__)"
   ]
  },
  {
   "attachments": {},
   "cell_type": "markdown",
   "metadata": {},
   "source": [
    "=========================> *SETS* <========================="
   ]
  },
  {
   "cell_type": "code",
   "execution_count": 49,
   "metadata": {},
   "outputs": [
    {
     "name": "stdout",
     "output_type": "stream",
     "text": [
      "{1, 2, 2.2, 'no'}\n",
      "<class 'set'>\n",
      "<class 'dict'>\n",
      "<class 'set'>\n",
      "1 2 2.2 no "
     ]
    }
   ],
   "source": [
    "#===> set contains unique numbers\n",
    "\n",
    "s =  {1,2,'no',2.2}\n",
    "print(s)\n",
    "print(type(s))\n",
    "\n",
    "d1 = {}\n",
    "print(type(d1))\n",
    "\n",
    "s1 = set()\n",
    "print(type(s1))\n",
    "\n",
    "\n",
    "for i in s:\n",
    "    print(i,end=\" \")"
   ]
  },
  {
   "cell_type": "code",
   "execution_count": 30,
   "metadata": {},
   "outputs": [
    {
     "name": "stdout",
     "output_type": "stream",
     "text": [
      "s1 :  {1, 2, 3, 5}\n",
      "s2 :  {2, 3, 4, 6}\n",
      "Union :  {1, 2, 3, 4, 5, 6}\n",
      "Intersection :  {2, 3}\n",
      "Update s3 :  {33, 22, 55, 11, 44}\n",
      "Intersection update :  {11, 44, 22}\n",
      "Symmetric Difference :  {'Banglore', 'Pune'}\n",
      "Difference :  {'Pune'}\n",
      "False\n",
      "False\n",
      "False\n",
      "{'Banglore', 'Nainital', 'Lucknow'}\n",
      "{'Nainital', 'Lucknow'}\n",
      "{'Pune', 'Nainital', 'Lucknow'}\n",
      "{'Nainital', 'Lucknow'}\n",
      "{'Nainital', 'Lucknow'}\n",
      "set()\n"
     ]
    }
   ],
   "source": [
    "#================> Set methods\n",
    "\n",
    "s1 = {1,2,3,5}\n",
    "s2 = {2,3,4,6}\n",
    "\n",
    "print(\"s1 : \",s1)\n",
    "print(\"s2 : \",s2)\n",
    "print(\"Union : \", s1.union(s2))\n",
    "print(\"Intersection : \", s1.intersection(s2))\n",
    "\n",
    "\n",
    "s3 = {11,33,55}\n",
    "s4 = {22,44,11}\n",
    "\n",
    "s3.update(s4)\n",
    "print(\"Update s3 : \",s3)\n",
    "\n",
    "s3.intersection_update(s4)\n",
    "print(\"Intersection update : \",s3)\n",
    "\n",
    "# symmentric difference  = uncommon values\n",
    "s5 = {'Pune','Lucknow','Nainital'}\n",
    "s6 = {'Lucknow','Nainital','Banglore'}\n",
    "print(\"Symmetric Difference : \",s5.symmetric_difference(s6))\n",
    "print(\"Difference : \",s5.difference(s6))\n",
    "\n",
    "\n",
    "print(s5.isdisjoint(s6))\n",
    "print(s5.issubset(s6))\n",
    "print(s5.issuperset(s6))\n",
    "\n",
    "print(s6)\n",
    "s6.remove(\"Banglore\")\n",
    "print(s6)\n",
    "\n",
    "print(s5)\n",
    "s5.pop()\n",
    "print(s5)\n",
    "\n",
    "print(s6)\n",
    "s6.clear()\n",
    "print(s6)\n",
    "\n",
    "del s6\n",
    "# print(s6) # error as s6 is deleted\n"
   ]
  },
  {
   "cell_type": "markdown",
   "metadata": {},
   "source": [
    "======================> *DICTIONARY* <======================"
   ]
  },
  {
   "cell_type": "code",
   "execution_count": 121,
   "metadata": {},
   "outputs": [
    {
     "name": "stdout",
     "output_type": "stream",
     "text": [
      "apple\n",
      "apple ball cat dog \n",
      "\n",
      "a : apple; b : ball; c : cat; d : dog; "
     ]
    }
   ],
   "source": [
    "# dics are ordered\n",
    "\n",
    "d1 = {\n",
    "    'a':\"apple\", 'b':\"ball\", \n",
    "    'c':\"cat\", 'd':\"dog\"\n",
    "    }\n",
    "print(d1['a'])\n",
    "\n",
    "for key in d1.keys():\n",
    "    print(d1[key] , end=\" \")\n",
    "print(\"\\n\")\n",
    "\n",
    "\n",
    "for key in d1:\n",
    "    print(f\"{key} : {d1[key]}\", end=\"; \")"
   ]
  },
  {
   "cell_type": "code",
   "execution_count": 138,
   "metadata": {},
   "outputs": [
    {
     "name": "stdout",
     "output_type": "stream",
     "text": [
      "{'fname': 'Deepak', 'lname': 'Gautam'}\n",
      "{'fname': 'Deepak', 'lname': 'Gautam', 'location': 'Pune', 'country': 'India'}\n",
      "dict_keys(['fname', 'lname', 'location', 'country'])\n",
      "dict_values(['Deepak', 'Gautam', 'Pune', 'India'])\n",
      "Deepak\n",
      "{'fname': 'Deepak', 'location': 'Pune', 'country': 'India'}\n",
      "dict_items([('fname', 'Deepak'), ('location', 'Pune'), ('country', 'India')])\n",
      "{'fname': 'Deepak', 'location': 'Pune', 'country': 'India'}\n",
      "{'A': 'Apply', 'B': 'Banana'}\n"
     ]
    }
   ],
   "source": [
    "#----------> ADDING / REMOVING / VALUES IN DICTIONARY\n",
    "\n",
    "d2 = {}\n",
    "d2['fname'] = 'Deepak'              # add item\n",
    "d2['lname'] = 'Gautam'\n",
    "print(d2)\n",
    "\n",
    "d2['location'] = 'Pune'\n",
    "d2['country'] = 'India'\n",
    "print(d2)\n",
    "\n",
    "print(d2.keys())\n",
    "\n",
    "print(d2.values())                  # value\n",
    "print(d2.get('fname'))              # get value by key\n",
    "\n",
    "d2.pop('lname')                     # remove item\n",
    "print(d2)\n",
    "\n",
    "print(d2.items())                   # key, value pairs as list\n",
    "\n",
    "print(d2)\n",
    "d3 = {'A':'Apply', 'B':'Banana'}\n",
    "print(d3)\n",
    "\n"
   ]
  },
  {
   "cell_type": "code",
   "execution_count": 148,
   "metadata": {},
   "outputs": [
    {
     "name": "stdout",
     "output_type": "stream",
     "text": [
      "{122: 45, 123: 89, 243: 67, 246: 68, 231: 56, 245: 64, 324: 65}\n",
      "{122: 45, 123: 89, 243: 67, 246: 68, 231: 56, 245: 64}\n",
      "{123: 89, 243: 67, 246: 68, 231: 56, 245: 64}\n",
      "{}\n",
      "{231: 56, 245: 64, 324: 65}\n",
      "{245: 64, 324: 65, 231: 566}\n",
      "dict_values([64, 65, 566])\n",
      "3\n",
      "{1: 'bat', 3: 'apple', 2: 'dog', 4: 'cat'}\n",
      "[1, 2, 3, 4]\n",
      "{1: 'bat', 3: 'apple', 2: 'dog', 4: 'cat'}\n",
      "{1: 'bat', 3: 'apple', 2: 'dog', 4: 'cat'}\n"
     ]
    }
   ],
   "source": [
    "ep1 = {122: 45, 123: 89, 243: 67, 246: 68}\n",
    "ep2 = {231: 56, 245: 64, 324:65}\n",
    "\n",
    "ep1.update(ep2)\n",
    "print(ep1)\n",
    "\n",
    "ep1.popitem()\n",
    "print(ep1)\n",
    "\n",
    "ep1.pop(122)\n",
    "print(ep1)\n",
    "\n",
    "ep1.clear()\n",
    "print(ep1)\n",
    "\n",
    "del ep1\n",
    "# print(ep1)        # NameError: name 'ep1' is not defined\n",
    "\n",
    "print(ep2) \n",
    "del ep2[231]\n",
    "\n",
    "ep2.update({231:566})\n",
    "print(ep2)\n",
    "\n",
    "print(ep2.values())\n",
    "\n",
    "print(len(ep2))\n",
    "\n",
    "ep3 = {1:'bat', 3:'apple', 2:'dog', 4:'cat'}\n",
    "print(ep3)\n",
    "\n",
    "print(sorted(ep3))\n",
    "print(ep3)\n",
    "\n",
    "ep4 = ep3.copy()\n",
    "print(ep4)\n",
    "\n"
   ]
  },
  {
   "cell_type": "code",
   "execution_count": null,
   "metadata": {},
   "outputs": [],
   "source": []
  },
  {
   "cell_type": "code",
   "execution_count": null,
   "metadata": {},
   "outputs": [
    {
     "data": {
      "text/plain": [
       "120"
      ]
     },
     "execution_count": 102,
     "metadata": {},
     "output_type": "execute_result"
    }
   ],
   "source": [
    "#==============> RECURSSION - fxn calling itself inside it\n",
    "\n",
    "# factorial\n",
    "\n",
    "def fact(num):\n",
    "    if num == 0 or num ==1:\n",
    "        return 1\n",
    "    else:\n",
    "        return num*fact(num-1)\n",
    "\n",
    "\n",
    "fact(5)"
   ]
  },
  {
   "cell_type": "code",
   "execution_count": null,
   "metadata": {},
   "outputs": [
    {
     "name": "stdout",
     "output_type": "stream",
     "text": [
      "0 1 1 2 3 5 8 13 21 34 "
     ]
    }
   ],
   "source": [
    "# fibonacci   (0,1,1,2,3,5,8,13,21,....)\n",
    "\n",
    "def fibonacci(num):\n",
    "    for i in range(0,num):\n",
    "        a = 0; b = 1;\n",
    "        if num==1:\n",
    "            print(0)\n",
    "        elif num==2:\n",
    "            print(0,1)\n",
    "            break\n",
    "        else:\n",
    "            while(num!=0):\n",
    "                print(a,end=\" \")\n",
    "                c = a+b\n",
    "                a=b; b=c;\n",
    "                num-=1\n",
    "\n",
    "fibonacci(10)"
   ]
  },
  {
   "cell_type": "code",
   "execution_count": null,
   "metadata": {},
   "outputs": [],
   "source": []
  }
 ],
 "metadata": {
  "kernelspec": {
   "display_name": "Python 3",
   "language": "python",
   "name": "python3"
  },
  "language_info": {
   "codemirror_mode": {
    "name": "ipython",
    "version": 3
   },
   "file_extension": ".py",
   "mimetype": "text/x-python",
   "name": "python",
   "nbconvert_exporter": "python",
   "pygments_lexer": "ipython3",
   "version": "3.11.0 (main, Oct 24 2022, 18:26:48) [MSC v.1933 64 bit (AMD64)]"
  },
  "orig_nbformat": 4,
  "vscode": {
   "interpreter": {
    "hash": "17ba6bd45ad9503e48b9f06a470f65a26ec0a1151aceda8343315fd72d03c3c1"
   }
  }
 },
 "nbformat": 4,
 "nbformat_minor": 2
}
