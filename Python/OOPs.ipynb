{
 "cells": [
  {
   "cell_type": "code",
   "execution_count": 1,
   "metadata": {},
   "outputs": [
    {
     "name": "stdout",
     "output_type": "stream",
     "text": [
      "Alex\n",
      "Alex is 21 years old.\n"
     ]
    }
   ],
   "source": [
    "class Person:\n",
    "    def __init__(self,name,age):\n",
    "        self.name = name\n",
    "        self.age = age\n",
    "    \n",
    "    def info(self):\n",
    "        print(f'{self.name} is {self.age} years old.')\n",
    "        \n",
    "\n",
    "obj = Person('Alex',21)                 # instance(usng cnstrctr) members of the class.\n",
    "print(obj.name)\n",
    "obj.info()"
   ]
  },
  {
   "attachments": {},
   "cell_type": "markdown",
   "metadata": {},
   "source": [
    "**1. Class:**\n",
    "                    This class defines a simple `Person` class with two attributes, `name` and `age`. It also defines a method called `say_hello()` that prints a greeting.\n",
    "                    a class is a blueprint for creating objects. Objects are instances of a class, and a class defines attributes and behaviors that its objects will have."
   ]
  },
  {
   "cell_type": "code",
   "execution_count": 2,
   "metadata": {},
   "outputs": [
    {
     "name": "stdout",
     "output_type": "stream",
     "text": [
      "Deepak\n",
      "Hello, my name is Deepak.\n"
     ]
    }
   ],
   "source": [
    "class Person:\n",
    "    # Constructor : object will be inetialised using constructor.\n",
    "    def __init__(self, name, age):\n",
    "        self.name = name\n",
    "        self.age = age\n",
    "\n",
    "    # Instance method\n",
    "    def say_hello(self):\n",
    "        print(f\"Hello, my name is {self.name}.\")\n",
    "\n",
    "obj = Person('Deepak',21)\n",
    "print(obj.name)\n",
    "obj.say_hello()"
   ]
  },
  {
   "attachments": {},
   "cell_type": "markdown",
   "metadata": {},
   "source": [
    "2. Inheritance : This code defines three classes: `Animal`, `Dog`, and `Cat`. The `Animal` class is the base class, and the `Dog` and `Cat` classes inherit from it. The `Animal` class defines a method called `speak()` that prints a message. The `Dog` class defines a method called `bark()` that prints a bark, and the `Cat` class defines a method called `meow()` that prints a meow."
   ]
  },
  {
   "cell_type": "code",
   "execution_count": 3,
   "metadata": {},
   "outputs": [
    {
     "name": "stdout",
     "output_type": "stream",
     "text": [
      "I am an animal and my name is Monkey.\n",
      "Woof!\n",
      "Meow!\n"
     ]
    }
   ],
   "source": [
    "class Animal:\n",
    "    def __init__(self, name):\n",
    "        self.name = name\n",
    "\n",
    "    def speak(self):\n",
    "        print(f\"I am an animal and my name is {self.name}.\")\n",
    "\n",
    "\n",
    "class Dog(Animal):\n",
    "    def bark(self):\n",
    "        print(\"Woof!\")\n",
    "\n",
    "\n",
    "class Cat(Animal):\n",
    "    def meow(self):\n",
    "        print(\"Meow!\")\n",
    "        \n",
    "obj = Animal('Monkey')\n",
    "obj.speak()\n",
    "\n",
    "obj1 = Dog('Alex')\n",
    "obj1.bark()\n",
    "\n",
    "obj2 = Cat('Kitty')\n",
    "obj2.meow()"
   ]
  },
  {
   "attachments": {},
   "cell_type": "markdown",
   "metadata": {},
   "source": [
    "3.Polymorphism : Polymorphism in Python refers to the ability of a single function, class, or operator to work with different types of data. There are two main types of polymorphism in Python: compile-time (or static) polymorphism and runtime (or dynamic) polymorphism.\n",
    "\n",
    "\n"
   ]
  },
  {
   "cell_type": "code",
   "execution_count": 1,
   "metadata": {},
   "outputs": [
    {
     "name": "stdout",
     "output_type": "stream",
     "text": [
      "Dog barks\n",
      "Cat meows\n"
     ]
    }
   ],
   "source": [
    "#1.  Polymorphism using Method Overriding\n",
    "\n",
    "class Animal:\n",
    "    def speak(self):\n",
    "        print(\"Animal speaks\")\n",
    "\n",
    "class Dog(Animal):\n",
    "    def speak(self):\n",
    "        print(\"Dog barks\")\n",
    "\n",
    "class Cat(Animal):\n",
    "    def speak(self):\n",
    "        print(\"Cat meows\")\n",
    "\n",
    "def animal_speak(animal):\n",
    "    animal.speak()\n",
    "\n",
    "dog = Dog()\n",
    "cat = Cat()\n",
    "\n",
    "animal_speak(dog) # Output: Dog barks\n",
    "animal_speak(cat) # Output: Cat meows\n"
   ]
  },
  {
   "cell_type": "code",
   "execution_count": 2,
   "metadata": {},
   "outputs": [
    {
     "name": "stdout",
     "output_type": "stream",
     "text": [
      "4 6\n"
     ]
    }
   ],
   "source": [
    "#2.  Polymorphism using Operator Overriding\n",
    "\n",
    "class Point:\n",
    "    def __init__(self, x, y):\n",
    "        self.x = x\n",
    "        self.y = y\n",
    "\n",
    "    def __add__(self, other):\n",
    "        return Point(self.x + other.x, self.y + other.y)\n",
    "\n",
    "p1 = Point(1, 2)\n",
    "p2 = Point(3, 4)\n",
    "result = p1 + p2\n",
    "print(result.x, result.y) # Output: 4 6"
   ]
  },
  {
   "cell_type": "code",
   "execution_count": 4,
   "metadata": {},
   "outputs": [
    {
     "name": "stdout",
     "output_type": "stream",
     "text": [
      "Woof!\n",
      "Meow!\n"
     ]
    }
   ],
   "source": [
    "# This code defines a class hierarchy with an abstract base class called `Animal` and two derived classes called `Dog` and `Cat`. The `Animal` class.\n",
    "\n",
    "class Animal:\n",
    "    def __init__(self, name):\n",
    "        self.name = name\n",
    "\n",
    "    def speak(self):\n",
    "        raise NotImplementedError(\"Subclass must implement abstract method\")\n",
    "\n",
    "\n",
    "class Dog(Animal):\n",
    "    def speak(self):\n",
    "        print(\"Woof!\")\n",
    "\n",
    "\n",
    "class Cat(Animal):\n",
    "    def speak(self):\n",
    "        print(\"Meow!\")\n",
    "\n",
    "\n",
    "def main():\n",
    "    animals = [Dog(\"Dog\"), Cat(\"Cat\")]\n",
    "    for animal in animals:\n",
    "        animal.speak()\n",
    "\n",
    "\n",
    "if __name__ == \"__main__\":\n",
    "    main()"
   ]
  },
  {
   "cell_type": "code",
   "execution_count": 5,
   "metadata": {},
   "outputs": [
    {
     "name": "stdout",
     "output_type": "stream",
     "text": [
      "deepak\n",
      "100000000\n",
      "sizuka\n",
      "engineer\n"
     ]
    }
   ],
   "source": [
    "# CLASS & OBJECT\n",
    "class person:\n",
    "    name = \"deepak\"\n",
    "    profession = \"sw engineer\"\n",
    "    net_worth = 100000000\n",
    "\n",
    "p = person()\n",
    "print(p.name)\n",
    "print(p.net_worth)\n",
    "\n",
    "\n",
    "p1 = person()\n",
    "p1.name = 'sizuka'\n",
    "p1.profession = 'engineer'\n",
    "p1.net_worth = 100000000\n",
    "\n",
    "print(p1.name)\n",
    "print(p1.profession)\n"
   ]
  },
  {
   "cell_type": "code",
   "execution_count": 6,
   "metadata": {},
   "outputs": [
    {
     "name": "stdout",
     "output_type": "stream",
     "text": [
      "Student : Ritu, \n",
      "Enrolled in course : BCA, \n",
      "Have paid fee : 20000\n"
     ]
    }
   ],
   "source": [
    "# CLASS & OBJECT & FUNCTION \n",
    "class student():\n",
    "    name = ''\n",
    "    course = ''\n",
    "    fee = ''\n",
    "    \n",
    "    def detail(self):\n",
    "        return(f'Student : {self.name}, \\nEnrolled in course : {self.course}, \\nHave paid fee : {self.fee}')\n",
    "\n",
    "s1 = student()\n",
    "s1.name = 'Ritu'\n",
    "s1.course = 'BCA'\n",
    "s1.fee = 20000\n",
    "print(s1.detail())"
   ]
  },
  {
   "cell_type": "code",
   "execution_count": 7,
   "metadata": {},
   "outputs": [
    {
     "name": "stdout",
     "output_type": "stream",
     "text": [
      "Non parametrized constructor\n",
      "Hello  Deepak\n",
      "----------------------------\n",
      "Parametrised constructor\n",
      "Jack\n",
      "Jack have occupation Engineer\n"
     ]
    }
   ],
   "source": [
    "# CONSTRUCTOR   : function which is used to initialize the instance members of the class.\n",
    "\n",
    "class Student:\n",
    "    def __init__(self):                                 # NON PARAMETRISED\n",
    "        print('Non parametrized constructor')\n",
    "    def show(self,name):\n",
    "        print('Hello ',name)\n",
    "\n",
    "S = Student()\n",
    "S.show('Deepak')\n",
    "\n",
    "\n",
    "\n",
    "print('----------------------------')\n",
    "\n",
    "\n",
    "\n",
    "class Person:\n",
    "    def __init__(self,name,occupation):                    # PARAMETRISED\n",
    "        print('Parametrised constructor')\n",
    "        self.name = name\n",
    "        self.occupation = occupation\n",
    "    def show(self):\n",
    "        print(f'{self.name} have occupation {self.occupation}')\n",
    "\n",
    "# p1 = Person\n",
    "# p1.name = 'Jack'\n",
    "# p1.occupation = 'Engineer'\n",
    "\n",
    "p1 = Person('Jack','Engineer')\n",
    "print(p1.name)\n",
    "p1.show()\n",
    "        "
   ]
  },
  {
   "cell_type": "code",
   "execution_count": 8,
   "metadata": {},
   "outputs": [
    {
     "name": "stdout",
     "output_type": "stream",
     "text": [
      "Hello\n",
      "My name is AI.\n"
     ]
    }
   ],
   "source": [
    "# DECORATORS\n",
    "\n",
    "def greet(fxn):\n",
    "    def hey():\n",
    "        print('Hello')\n",
    "        fxn()\n",
    "    return hey\n",
    " \n",
    "@greet   \n",
    "def me():\n",
    "    print('My name is AI.')\n",
    "\n",
    "# greet(me)\n",
    "me()"
   ]
  },
  {
   "cell_type": "code",
   "execution_count": 9,
   "metadata": {},
   "outputs": [
    {
     "name": "stdout",
     "output_type": "stream",
     "text": [
      "Decorator fxn with arguments\n",
      "Sum : 40\n"
     ]
    }
   ],
   "source": [
    "def deco_fxn(fxn):\n",
    "    def wrpr_fxn(*args, **kwargs):\n",
    "        print('Decorator fxn with arguments')\n",
    "        return fxn(*args,**kwargs)\n",
    "    return wrpr_fxn\n",
    "\n",
    "@deco_fxn\n",
    "def func(a,b):\n",
    "    print(f\"Sum : {a+b}\")\n",
    "\n",
    "\n",
    "\n",
    "func(15,25)"
   ]
  },
  {
   "cell_type": "code",
   "execution_count": 10,
   "metadata": {},
   "outputs": [
    {
     "name": "stdout",
     "output_type": "stream",
     "text": [
      "this is awesome function\n",
      "This is function with argument 10\n",
      "----------------------------------\n",
      "this is awesome function\n",
      "30\n"
     ]
    }
   ],
   "source": [
    "def decorator_function(any_function):\n",
    "    def wrapper_function(*args,**kwargs):\n",
    "        print('this is awesome function')\n",
    "        return any_function(*args,**kwargs)\n",
    "    return wrapper_function\n",
    "\n",
    "@decorator_function\n",
    "def func(a):\n",
    "    print(f\"This is function with argument {a}\")\n",
    "    \n",
    "func(10)\n",
    "\n",
    "\n",
    "print('----------------------------------')\n",
    "\n",
    "@decorator_function\n",
    "def add(a,b):\n",
    "    return a+b\n",
    "\n",
    "print(add(10,20))"
   ]
  },
  {
   "cell_type": "code",
   "execution_count": 11,
   "metadata": {},
   "outputs": [
    {
     "name": "stdout",
     "output_type": "stream",
     "text": [
      "This is add fxn\n",
      "add\n"
     ]
    }
   ],
   "source": [
    "from functools import wraps\n",
    "\n",
    "def decorator_function(any_function):\n",
    "    @wraps(any_function)\n",
    "    def wrapper_function(*args,**kwargs):\n",
    "        '''this is wrapper function'''\n",
    "        print('I am wrapper function')\n",
    "        return any_function(*args, **kwargs)\n",
    "    return wrapper_function\n",
    "\n",
    "@decorator_function\n",
    "def add(a,b):\n",
    "    '''This is add fxn'''\n",
    "    return a+b\n",
    "\n",
    "print(add.__doc__)\n",
    "print(add.__name__)"
   ]
  },
  {
   "cell_type": "code",
   "execution_count": 12,
   "metadata": {},
   "outputs": [
    {
     "name": "stdout",
     "output_type": "stream",
     "text": [
      "Deepak\n",
      "100000000\n"
     ]
    }
   ],
   "source": [
    "# class and objects\n",
    "\n",
    "class Person:\n",
    "    name = ''\n",
    "    ocup = ''\n",
    "    nt_wrth = 0\n",
    "p = Person()\n",
    "p.name = 'Deepak'\n",
    "p.ocup = 'Software developer'\n",
    "p.nt_wrth=100000000\n",
    "\n",
    "print(p.name)\n",
    "print(p.nt_wrth)"
   ]
  },
  {
   "cell_type": "code",
   "execution_count": 13,
   "metadata": {},
   "outputs": [
    {
     "name": "stdout",
     "output_type": "stream",
     "text": [
      "Jasmin\n",
      "10\n",
      "Name of student is : Jasmin, Roll number is : 10, is enrolled in course MCA.\n"
     ]
    }
   ],
   "source": [
    "# class with function\n",
    "\n",
    "class Student:\n",
    "    s_name = ''\n",
    "    s_roll_no = ''\n",
    "    s_course = ''\n",
    "    \n",
    "    def info(self):\n",
    "        return(f\"Name of student is : {self.s_name}, Roll number is : {self.s_roll_no}, is enrolled in course {self.s_course}.\")\n",
    "\n",
    "S1 = Student()\n",
    "S1.s_name = 'Jasmin'\n",
    "S1.s_course = 'MCA'\n",
    "S1.s_roll_no = 10\n",
    "\n",
    "print(S1.s_name)\n",
    "print(S1.s_roll_no)\n",
    "print(S1.info())"
   ]
  },
  {
   "cell_type": "code",
   "execution_count": 14,
   "metadata": {},
   "outputs": [
    {
     "name": "stdout",
     "output_type": "stream",
     "text": [
      "non parametrised constructor\n",
      "Your name is : Deepak\n"
     ]
    }
   ],
   "source": [
    "# Constructor\n",
    "\n",
    "class student:\n",
    "    def __init__(self):        # Non parametrised\n",
    "        print(\"non parametrised constructor\")\n",
    "        \n",
    "    def show(self,name):\n",
    "        print(f\"Your name is : {name}\")\n",
    "\n",
    "obj = student()\n",
    "obj.show(\"Deepak\")"
   ]
  },
  {
   "cell_type": "code",
   "execution_count": 15,
   "metadata": {},
   "outputs": [
    {
     "name": "stdout",
     "output_type": "stream",
     "text": [
      "parametrised constructor\n",
      "Student Ishu studies in class 12.\n"
     ]
    }
   ],
   "source": [
    "class student:\n",
    "    def __init__(self,name,s_class):\n",
    "        print(\"parametrised constructor\")\n",
    "        self.name = name\n",
    "        self.s_class = s_class\n",
    "    def show(self):\n",
    "        return(f'Student {self.name} studies in class {self.s_class}.')\n",
    "\n",
    "\n",
    "obj1 = student('Ishu',12)\n",
    "print(obj1.show())"
   ]
  },
  {
   "cell_type": "code",
   "execution_count": 16,
   "metadata": {},
   "outputs": [
    {
     "name": "stdout",
     "output_type": "stream",
     "text": [
      "Good Day dear fellow.\n",
      "Hello friend how are you.\n"
     ]
    }
   ],
   "source": [
    "def greet(fxn):\n",
    "    def wrpr_fxn():\n",
    "        print(\"Good Day dear fellow.\")\n",
    "        fxn()\n",
    "    return wrpr_fxn\n",
    "\n",
    "@greet\n",
    "def hello():\n",
    "    print(\"Hello friend how are you.\")\n",
    "\n",
    "hello()"
   ]
  },
  {
   "cell_type": "code",
   "execution_count": 17,
   "metadata": {},
   "outputs": [
    {
     "name": "stdout",
     "output_type": "stream",
     "text": [
      "88  : distinction\n",
      "Result : Passed\n"
     ]
    }
   ],
   "source": [
    "def decor_result(result_function):\n",
    "    def distinction(marks):\n",
    "        for m in marks:\n",
    "            if m>=75:\n",
    "                print(m,\" : distinction\")\n",
    "        result_function(marks)\n",
    "    return distinction\n",
    "\n",
    "@decor_result\n",
    "def result(marks):\n",
    "    for m in marks:\n",
    "        if m>=33:\n",
    "            # print(m,\" : Pass\")\n",
    "            pass\n",
    "        else:\n",
    "            print(\"Not passed\")\n",
    "            break\n",
    "    else:\n",
    "        print('Result : Passed')\n",
    "\n",
    "result([39,40,50,57,88])"
   ]
  },
  {
   "cell_type": "code",
   "execution_count": 18,
   "metadata": {},
   "outputs": [
    {
     "name": "stdout",
     "output_type": "stream",
     "text": [
      "Started\n",
      "10 20\n",
      "Ended\n"
     ]
    }
   ],
   "source": [
    "def deco_fxn(func):\n",
    "    def wrapper(*args,**kwargs):\n",
    "        print(\"Started\")\n",
    "        func(*args,**kwargs)\n",
    "        print(\"Ended\")\n",
    "    return wrapper\n",
    "\n",
    "@deco_fxn\n",
    "def fxn(a,b):\n",
    "    print(a,b)\n",
    "\n",
    "fxn(10,20)"
   ]
  },
  {
   "cell_type": "code",
   "execution_count": 19,
   "metadata": {},
   "outputs": [
    {
     "name": "stdout",
     "output_type": "stream",
     "text": [
      "Started\n",
      "Ended\n",
      "150\n"
     ]
    }
   ],
   "source": [
    "def deco_fxn(func):\n",
    "    def wrprfxn(*args,**kwargs):\n",
    "        print(\"Started\")\n",
    "        ad = func(*args, **kwargs)\n",
    "        print('Ended')\n",
    "        return ad\n",
    "    return wrprfxn\n",
    "\n",
    "@deco_fxn\n",
    "def add(*args):\n",
    "    sum = 0\n",
    "    for i in args:\n",
    "        sum+=i\n",
    "    return sum\n",
    "\n",
    "print(add(10,20,30,40,50))"
   ]
  },
  {
   "cell_type": "code",
   "execution_count": 20,
   "metadata": {},
   "outputs": [
    {
     "name": "stdout",
     "output_type": "stream",
     "text": [
      "Multiple of numbers is 120.\n",
      "Sum of numbers is 15.\n"
     ]
    }
   ],
   "source": [
    "def decorator_func(func):\n",
    "    def wrapper_func(*args):\n",
    "        multiple = 1\n",
    "        for i in args:\n",
    "            multiple*=i\n",
    "        print(f\"Multiple of numbers is {multiple}.\")\n",
    "        return func(*args)\n",
    "    return wrapper_func\n",
    "\n",
    "@decorator_func\n",
    "def sum(*args):\n",
    "    summ=0\n",
    "    for i in args:\n",
    "        summ+=i\n",
    "    print(f\"Sum of numbers is {summ}.\")\n",
    "    \n",
    "sum(1,2,3,4,5)"
   ]
  },
  {
   "cell_type": "code",
   "execution_count": 21,
   "metadata": {},
   "outputs": [
    {
     "name": "stdout",
     "output_type": "stream",
     "text": [
      "67.0\n",
      "Value is : 6.7\n"
     ]
    }
   ],
   "source": [
    "# Getter & Setter\n",
    "\n",
    "class MyClass:\n",
    "    def __init__(self,val):\n",
    "        self.value = val\n",
    "    \n",
    "    def show(self):\n",
    "        print(f\"Value is : {self.value}\")\n",
    "    \n",
    "    # Getter\n",
    "    @property\n",
    "    def ten_value(self):\n",
    "        return 10*self.value\n",
    "    \n",
    "    # Setter\n",
    "    @ten_value.setter\n",
    "    def ten_value(self, new_value):\n",
    "        self.value = new_value/10\n",
    "\n",
    "obj = MyClass(10)\n",
    "obj.ten_value = 67\n",
    "print(obj.ten_value)\n",
    "obj.show()"
   ]
  },
  {
   "cell_type": "code",
   "execution_count": 22,
   "metadata": {},
   "outputs": [
    {
     "name": "stdout",
     "output_type": "stream",
     "text": [
      "Employee ID : 1 \n",
      "Employee name : Deepak\n",
      "-----------------------------------\n",
      "Employee ID : Sonu \n",
      "Employee name : 2\n",
      "Employee Deepak have skills MERN and MEAN\n"
     ]
    }
   ],
   "source": [
    "# INHERITANCE\n",
    "\n",
    "class Employee:\n",
    "    def __init__(self,name,id):\n",
    "        self.name = name\n",
    "        self.id = id\n",
    "    \n",
    "    def info(self):\n",
    "        print (f\"Employee ID : {self.id} \\nEmployee name : {self.name}\")\n",
    "\n",
    "\n",
    "e1 = Employee('Deepak',1)\n",
    "e1.info()\n",
    "\n",
    "print('-----------------------------------')\n",
    "\n",
    "class Person(Employee):\n",
    "    def __init__(self, id, name, skill1, skill2):\n",
    "        super().__init__(name, id)\n",
    "        self.skill1 = skill1\n",
    "        self.skill2 = skill2\n",
    "        \n",
    "    def show_skills(self,name,skill1,skill2):\n",
    "        Employee.__init__(self,name,id)\n",
    "        print(f\"Employee {self.name} have skills {skill1} and {skill2}\")\n",
    "\n",
    "p1 = Person('Sonu',2,'Python','MySQL')\n",
    "p1.info()\n",
    "\n",
    "p1.show_skills('Deepak','MERN','MEAN')"
   ]
  },
  {
   "cell_type": "code",
   "execution_count": 23,
   "metadata": {},
   "outputs": [
    {
     "name": "stdout",
     "output_type": "stream",
     "text": [
      "MXT40\n"
     ]
    },
    {
     "ename": "",
     "evalue": "",
     "output_type": "error",
     "traceback": [
      "\u001b[1;31mThe Kernel crashed while executing code in the the current cell or a previous cell. Please review the code in the cell(s) to identify a possible cause of the failure. Click <a href='https://aka.ms/vscodeJupyterKernelCrash'>here</a> for more info. View Jupyter <a href='command:jupyter.viewOutput'>log</a> for further details."
     ]
    }
   ],
   "source": [
    "class Vechile:\n",
    "    def __init__(self,name,company,typee) -> None:\n",
    "        self.name = name\n",
    "        self.company = company\n",
    "        self.typee = typee\n",
    "\n",
    "class Bus(Vechile):\n",
    "    pass\n",
    "\n",
    "obj = Bus\n",
    "bus1 = obj('MXT40','Volvo','Bus')\n",
    "print(bus1.name)\n"
   ]
  },
  {
   "cell_type": "code",
   "execution_count": null,
   "metadata": {},
   "outputs": [],
   "source": []
  },
  {
   "cell_type": "code",
   "execution_count": null,
   "metadata": {},
   "outputs": [],
   "source": []
  },
  {
   "cell_type": "code",
   "execution_count": null,
   "metadata": {},
   "outputs": [],
   "source": []
  }
 ],
 "metadata": {
  "kernelspec": {
   "display_name": "Python 3",
   "language": "python",
   "name": "python3"
  },
  "language_info": {
   "codemirror_mode": {
    "name": "ipython",
    "version": 3
   },
   "file_extension": ".py",
   "mimetype": "text/x-python",
   "name": "python",
   "nbconvert_exporter": "python",
   "pygments_lexer": "ipython3",
   "version": "3.11.8 (tags/v3.11.8:db85d51, Feb  6 2024, 22:03:32) [MSC v.1937 64 bit (AMD64)]"
  },
  "orig_nbformat": 4,
  "vscode": {
   "interpreter": {
    "hash": "973754d7c115b81f9e86127bbf5ace8e0d814b6e9c1cc63771edcab95452c259"
   }
  }
 },
 "nbformat": 4,
 "nbformat_minor": 2
}
