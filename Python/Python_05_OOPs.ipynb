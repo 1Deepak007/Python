{
 "cells": [
  {
   "attachments": {},
   "cell_type": "markdown",
   "metadata": {},
   "source": [
    "# ==========> OOPS <========="
   ]
  },
  {
   "attachments": {},
   "cell_type": "markdown",
   "metadata": {},
   "source": [
    "Introduction to Object-oriented programming\n",
    "\n",
    "Introduction to Object-Oriented Programming in Python: In programming languages, mainly there are two approaches that are used to write program or code.\n",
    "\n",
    "1). Procedural Programming\n",
    "     -> creating fxn logics etc, whatever we did till now\n",
    "     \n",
    "2). Object-Oriented Programming\n",
    "\n",
    "The basic idea of object-oriented programming (OOP) in Python is to use classes and objects to represent real-world concepts and entities.\n",
    "\n",
    "=> CLASS : A class is a blueprint or template for creating objects. It defines the properties and methods that an object of that class will have. Properties are the data or state of an object, and methods are the actions or behaviors that an object can perform.  E.g- train booking form(template)\n",
    "\n",
    "=> OBJECT : An object is an instance of a class, and it contains its own data and methods. For example, you could create a class called \"Person\" that has properties such as name and age, and methods such as speak() and walk(). Each instance of the Person class would be a unique object with its own name and age, but they would all have the same methods to speak and walk.\n",
    "\n",
    "=> ENCAPSULATION : the internal state of an object is hidden and can only be accessed or modified through the object's methods. This helps to protect the object's data and prevent it from being modified in unexpected ways.\n",
    "\n",
    "=> INHERITANCE : Another key feature of OOP in Python is inheritance, which allows new classes to be created that inherit the properties and methods of an existing class. This allows for code reuse and makes it easy to create new classes that have similar functionality to existing classes.\n",
    "\n",
    "=> POLYMORPHISH : Polymorphism is also supported in Python, which means that objects of different classes can be treated as if they were objects of a common class. This allows for greater flexibility in code and makes it easier to write code that can work with multiple types of objects.\n",
    "\n",
    "=> ABSTRACTION : is used to hide the internal functionality of the function from the users. The users only interact with the basic implementation of the function, but inner working is hidden. User is familiar with that \"what function does\" but they don't know \"how it does.\"\n",
    "\n",
    ". Constructor : A constructor is a special type of method (function) which is used to initialize the instance members of the class."
   ]
  },
  {
   "attachments": {},
   "cell_type": "markdown",
   "metadata": {},
   "source": [
    "* CLASS   \n",
    "* OBJECTS  \n",
    "* CONSTRUCTOR  \n",
    "* DECORATOR  \n",
    "* GETTER  \n",
    "* SETTER\n",
    "* INHERITANCE\n",
    "* ACCESS MODIFIERS\n",
    "* METHOD OVERLOADING AND OVERRIDING\n",
    "* OPERATOR OVERLOADING\n",
    "* ABSTRACTION"
   ]
  },
  {
   "cell_type": "code",
   "execution_count": 1,
   "metadata": {},
   "outputs": [],
   "source": [
    "# Railway form  --> class [blueprint]\n",
    "# deepak ---> form with deepak's info         <--- Object (deepak's form)\n",
    "# sonu   ---> form with sonu's info           <--- Object (sonu's form)\n"
   ]
  },
  {
   "attachments": {},
   "cell_type": "markdown",
   "metadata": {},
   "source": [
    "# =======> CLASS AND OBJECT "
   ]
  },
  {
   "cell_type": "code",
   "execution_count": 2,
   "metadata": {},
   "outputs": [
    {
     "name": "stdout",
     "output_type": "stream",
     "text": [
      "Deepak Software developer\n",
      "Teacher\n"
     ]
    }
   ],
   "source": [
    "#-----------> CLASS & OBJECTS\n",
    "\n",
    "class Person:                                 # class\n",
    "    name = \"Deepak\"\n",
    "    occupation = \"Software developer\"\n",
    "    net_worth = 10000000000\n",
    "\n",
    "p = Person()                                  # object\n",
    "print(p.name, p.occupation)\n",
    "\n",
    "#-----------------------------------------------------------\n",
    "\n",
    "a = Person()                                  # creating new object\n",
    "a.name = 'Anny'\n",
    "a.occupation = 'Teacher'\n",
    "a.net_worth = 2000000\n",
    "\n",
    "print(a.occupation)"
   ]
  },
  {
   "cell_type": "code",
   "execution_count": 3,
   "metadata": {},
   "outputs": [
    {
     "name": "stdout",
     "output_type": "stream",
     "text": [
      "Sudheer studies in BCA\n",
      "Ankit studies in MCA\n",
      "Sudheer BCA 30000 / Annum\n",
      "Ankit MCA 100000 / Annum\n",
      "Ela BCA 30000 / Annum\n"
     ]
    }
   ],
   "source": [
    "#------------> class with function\n",
    "\n",
    "class Student:                                #<- creating  \n",
    "    s_name = 'demo_name'                      #\n",
    "    s_course = 'demo_course'                  #\n",
    "    s_fee = 'demo_fee'                        #<- class\n",
    "\n",
    "    #----> Default constructor\n",
    "    def info(self):                          # <- self means wo obj jispe ye fxn call ho rha h\n",
    "        print(f\"{self.s_name} studies in {self.s_course}\")\n",
    "\n",
    "\n",
    "\n",
    "s1 = Student()                                # creating object (s1)\n",
    "s1.s_name = 'Sudheer'\n",
    "s1.s_course = 'BCA'\n",
    "s1.s_fee = '30000 / Annum'\n",
    "s1.info()\n",
    "\n",
    "\n",
    "s2 = Student()                                # creating object  (s2)\n",
    "s2.s_name = 'Ankit'\n",
    "s2.s_course = 'MCA'\n",
    "s2.s_fee = '100000 / Annum'\n",
    "s2.info()\n",
    "\n",
    "\n",
    "print(s1.s_name, s1.s_course, s1.s_fee)\n",
    "print(s2.s_name, s2.s_course, s2.s_fee)\n",
    "\n",
    "\n",
    "s1.s_name = 'Ela'\n",
    "print(s1.s_name, s1.s_course, s1.s_fee)"
   ]
  },
  {
   "attachments": {},
   "cell_type": "markdown",
   "metadata": {},
   "source": [
    "## =======> CONSTRUCTOR "
   ]
  },
  {
   "cell_type": "code",
   "execution_count": 4,
   "metadata": {},
   "outputs": [
    {
     "name": "stdout",
     "output_type": "stream",
     "text": [
      "This is non parametrized constructor\n",
      "Hello John\n",
      "This is parametrized constructor\n",
      "Hello John\n"
     ]
    }
   ],
   "source": [
    "# A special type of function which is used to initialize the instance members of the class. [constructor is used when we want to create objects by passing arguments]\n",
    "# Types .-   1.Parameterized Constructor       2.Non-parameterized Constructor\n",
    "\n",
    "class Student:  \n",
    "    # Constructor - non parameterized  \n",
    "    def __init__(self):                     # Default constructor\n",
    "        print(\"This is non parametrized constructor\")  \n",
    "    def show(self,name):\n",
    "        print(\"Hello\",name)\n",
    "student = Student()  \n",
    "student.show(\"John\")   \n",
    "\n",
    "\n",
    "#------------------------------------------------------------------------------#\n",
    "\n",
    "class Student:  \n",
    "    # Constructor - parametrized  \n",
    "    def __init__(self, name):  \n",
    "        print(\"This is parametrized constructor\")  \n",
    "        self.name = name  \n",
    "    def show(self):  \n",
    "        print(\"Hello\",self.name)  \n",
    "        \n",
    "        \n",
    "student = Student(\"John\")  \n",
    "student.show()    "
   ]
  },
  {
   "cell_type": "code",
   "execution_count": 5,
   "metadata": {},
   "outputs": [
    {
     "name": "stdout",
     "output_type": "stream",
     "text": [
      "This is a constructor.\n",
      "Deepak is a Developer\n",
      "-----------------------------------\n",
      "Divya is a HR\n",
      "-----------------------------------\n",
      "This is a constructor.\n",
      "Sanket is a Student\n"
     ]
    }
   ],
   "source": [
    "class Person:\n",
    "    def __init__(self,nm,oc):                     # constructor is auto. called when obj is created\n",
    "        print(\"This is a constructor.\")\n",
    "        self.name = nm\n",
    "        self.occ = oc\n",
    "        \n",
    "    def info(self):\n",
    "        return (f'{self.name} is a {self.occ}')\n",
    "\n",
    "p = Person('Deepak','Developer')     # self (p) is passed automatically; here self=p\n",
    "print(p.info())\n",
    "\n",
    "print('-----------------------------------')\n",
    "\n",
    "# Use thisone method to pass values in constructor\n",
    "p.name = \"Divya\"\n",
    "p.occ = \"HR\"\n",
    "print(p.info())\n",
    "\n",
    "print('-----------------------------------')\n",
    "\n",
    "nm = 'Sanket'\n",
    "oc = 'Student'\n",
    "q = Person(nm,oc)\n",
    "print(q.info())\n"
   ]
  },
  {
   "attachments": {},
   "cell_type": "markdown",
   "metadata": {},
   "source": [
    "# =======> DECORATORS "
   ]
  },
  {
   "cell_type": "code",
   "execution_count": 6,
   "metadata": {},
   "outputs": [
    {
     "name": "stdout",
     "output_type": "stream",
     "text": [
      "Good morning sir\n",
      "You are the king\n"
     ]
    }
   ],
   "source": [
    "# DECORATORS : enhance fxnlty of a fxn \n",
    "\n",
    "def greet(fxn):\n",
    "    def mfx():\n",
    "        print(\"Good morning sir\")\n",
    "        fxn()\n",
    "    return mfx\n",
    "\n",
    "@greet\n",
    "def info():\n",
    "    print(\"You are the king\")\n",
    "\n",
    "info()"
   ]
  },
  {
   "cell_type": "code",
   "execution_count": 7,
   "metadata": {},
   "outputs": [
    {
     "name": "stdout",
     "output_type": "stream",
     "text": [
      "Hi I am decorator or wrapper fxn.\n",
      "I am function 1.\n"
     ]
    }
   ],
   "source": [
    "def decofxn(any_fxn):\n",
    "    def wrapper_fxn():\n",
    "        print(\"Hi I am decorator or wrapper fxn.\")\n",
    "        any_fxn()\n",
    "    return wrapper_fxn\n",
    "\n",
    "@decofxn\n",
    "def func1():\n",
    "    print(\"I am function 1.\")\n",
    "        \n",
    "func1()\n"
   ]
  },
  {
   "cell_type": "code",
   "execution_count": 8,
   "metadata": {},
   "outputs": [
    {
     "name": "stdout",
     "output_type": "stream",
     "text": [
      "Decorator with arguments.\n",
      "Sum : 80\n"
     ]
    }
   ],
   "source": [
    "def dec_fxn(fxn):\n",
    "    def wrapr_fxn(*args, **kwargs):\n",
    "        print(\"Decorator with arguments.\")\n",
    "        return fxn(*args,**kwargs)\n",
    "    return wrapr_fxn\n",
    "\n",
    "@dec_fxn\n",
    "def func(a,b):\n",
    "    print(f\"Sum : {a+b}\")\n",
    "    \n",
    "    \n",
    "func(50,30)"
   ]
  },
  {
   "cell_type": "code",
   "execution_count": 9,
   "metadata": {},
   "outputs": [
    {
     "data": {
      "text/plain": [
       "'DeepakGautam'"
      ]
     },
     "execution_count": 9,
     "metadata": {},
     "output_type": "execute_result"
    }
   ],
   "source": [
    "#----> deco fxn with arguments\n",
    "\n",
    "from functools import wraps\n",
    "\n",
    "def only_int_allowed(fxn_data_type):\n",
    "    def decofxn(func):\n",
    "        @wraps(func)\n",
    "        def wrapper_fxn(*args, **kwargs):\n",
    "            if all([type(arg) == fxn_data_type for arg in args]):\n",
    "                return func(*args, **kwargs)\n",
    "            print(\"invalid argument\")\n",
    "        return wrapper_fxn\n",
    "    return decofxn\n",
    "\n",
    "\n",
    "@only_int_allowed(str)\n",
    "def str_join(*args):\n",
    "    str = ''\n",
    "    for i in args:\n",
    "        str+=i\n",
    "    return str\n",
    "\n",
    "str_join('Deepak','Gautam')"
   ]
  },
  {
   "cell_type": "code",
   "execution_count": 5,
   "metadata": {},
   "outputs": [
    {
     "name": "stdout",
     "output_type": "stream",
     "text": [
      "Multiple of numbers is 120\n",
      "Sum of numbers is 15.\n"
     ]
    }
   ],
   "source": [
    "def decorator_funx(fxn):\n",
    "    def wrapper_fxn(*args):\n",
    "        multiple = 1\n",
    "        for i in args:\n",
    "            multiple*=i\n",
    "        print(f\"Multiple of numbers is {multiple}\")\n",
    "        return fxn(*args)\n",
    "    return wrapper_fxn\n",
    "\n",
    "@decorator_funx\n",
    "def sum(*args):\n",
    "    summ=0\n",
    "    for i in args:\n",
    "        summ+=i\n",
    "    print(f\"Sum of numbers is {summ}.\")\n",
    "\n",
    "sum(1,2,3,4,5)"
   ]
  },
  {
   "cell_type": "code",
   "execution_count": 10,
   "metadata": {},
   "outputs": [
    {
     "name": "stdout",
     "output_type": "stream",
     "text": [
      "This is add fxn\n",
      "add\n"
     ]
    }
   ],
   "source": [
    "from functools import wraps\n",
    "\n",
    "def decorator_function(any_function):\n",
    "    @wraps(any_function)\n",
    "    def wrapper_function(*args,**kwargs):\n",
    "        '''this is wrapper function'''\n",
    "        print('I am wrapper function')\n",
    "        return any_function(*args, **kwargs)\n",
    "    return wrapper_function\n",
    "\n",
    "@decorator_function\n",
    "def add(a,b):\n",
    "    '''This is add fxn'''\n",
    "    return a+b\n",
    "\n",
    "print(add.__doc__)\n",
    "print(add.__name__)"
   ]
  },
  {
   "cell_type": "code",
   "execution_count": 11,
   "metadata": {},
   "outputs": [
    {
     "name": "stdout",
     "output_type": "stream",
     "text": [
      "this is awesome function\n",
      "This is function with argument 10\n",
      "----------------------------------\n",
      "this is awesome function\n",
      "30\n"
     ]
    }
   ],
   "source": [
    "def decorator_function(any_function):\n",
    "    def wrapper_function(*args,**kwargs):\n",
    "        print('this is awesome function')\n",
    "        return any_function(*args,**kwargs)\n",
    "    return wrapper_function\n",
    "\n",
    "@decorator_function\n",
    "def func(a):\n",
    "    print(f\"This is function with argument {a}\")\n",
    "    \n",
    "func(10)\n",
    "\n",
    "\n",
    "print('----------------------------------')\n",
    "\n",
    "@decorator_function\n",
    "def add(a,b):\n",
    "    return a+b\n",
    "\n",
    "print(add(10,20))"
   ]
  },
  {
   "attachments": {},
   "cell_type": "markdown",
   "metadata": {},
   "source": [
    "# =======> GETTER & SETTER "
   ]
  },
  {
   "cell_type": "code",
   "execution_count": 12,
   "metadata": {},
   "outputs": [
    {
     "name": "stdout",
     "output_type": "stream",
     "text": [
      "67.0\n",
      "Value is : 6.7\n"
     ]
    }
   ],
   "source": [
    "class MyClass:\n",
    "    def __init__(self,value):\n",
    "        self._value = value\n",
    "    \n",
    "    def show(self):\n",
    "        print(f\"Value is : {self._value}\")\n",
    "        \n",
    "    # Getter\n",
    "    @property\n",
    "    def ten_value(self):\n",
    "        return 10*self._value\n",
    "    \n",
    "    # Setter\n",
    "    @ten_value.setter\n",
    "    def ten_value(self, new_value):\n",
    "        self._value = new_value/10\n",
    "\n",
    "obj = MyClass(10)\n",
    "obj.ten_value = 67\n",
    "print(obj.ten_value)\n",
    "obj.show()"
   ]
  },
  {
   "cell_type": "code",
   "execution_count": 13,
   "metadata": {},
   "outputs": [
    {
     "name": "stdout",
     "output_type": "stream",
     "text": [
      "My name is: John\n",
      "Deleting my name...\n",
      "My name has been deleted!\n",
      "Renaming myself...\n",
      "My new name is: Peter\n"
     ]
    }
   ],
   "source": [
    "class Person:\n",
    "    def __init__(self, name):\n",
    "        self._name = name\n",
    "\n",
    "    @property\n",
    "    def name(self):\n",
    "        return self._name\n",
    "\n",
    "    @name.deleter\n",
    "    def name(self):\n",
    "        print(\"Deleting my name...\")\n",
    "        del self._name\n",
    "\n",
    "    @name.getter\n",
    "    def name(self):\n",
    "        try:\n",
    "            return self._name\n",
    "        except AttributeError:\n",
    "            return \"My name has been deleted!\"\n",
    "\n",
    "    @name.setter\n",
    "    def name(self, new_name):\n",
    "        print(\"Renaming myself...\")\n",
    "        self._name = new_name\n",
    "\n",
    "\n",
    "John = Person('John')\n",
    "print(f'My name is: {John.name}')\n",
    "\n",
    "del John.name\n",
    "print(John.name)\n",
    "\n",
    "John.name = 'Peter'\n",
    "print(f'My new name is: {John.name}')"
   ]
  },
  {
   "attachments": {},
   "cell_type": "markdown",
   "metadata": {},
   "source": [
    "# =======> INHERITANCE "
   ]
  },
  {
   "cell_type": "code",
   "execution_count": 1,
   "metadata": {},
   "outputs": [
    {
     "name": "stdout",
     "output_type": "stream",
     "text": [
      "Deepak\n",
      "Employee name : Deepak\n",
      "Employee ID : 1\n",
      "------------------------\n",
      "Default language is python\n",
      "Employee name : Sonu\n",
      "Employee ID : 10\n"
     ]
    }
   ],
   "source": [
    "class Employee:\n",
    "    def __init__(self, name, id):\n",
    "        self.name = name\n",
    "        self.id = id\n",
    "        \n",
    "    def info(self):\n",
    "        print(f\"Employee name : {self.name}\\nEmployee ID : {self.id}\")\n",
    "        \n",
    "objEmp = Employee('Deepak',1)\n",
    "print(objEmp.name)\n",
    "objEmp.info()\n",
    "\n",
    "\n",
    "print(\"------------------------\")\n",
    "\n",
    "\n",
    "class Person(Employee):\n",
    "    def showLang(self):\n",
    "        print(\"Default language is python\")\n",
    "\n",
    "objPer = Person('Sonu',10)\n",
    "objPer.showLang()\n",
    "\n",
    "objPer.info()"
   ]
  },
  {
   "attachments": {},
   "cell_type": "markdown",
   "metadata": {},
   "source": [
    "# =======> ACCESS MODIFIERS"
   ]
  },
  {
   "cell_type": "code",
   "execution_count": 15,
   "metadata": {},
   "outputs": [
    {
     "name": "stdout",
     "output_type": "stream",
     "text": [
      "Deepak\n",
      "200\n"
     ]
    }
   ],
   "source": [
    "class Employee:\n",
    "    def __init__(self,name,age):\n",
    "        self.name = \"Deepak\"                # PUBLIC VARIABLE\n",
    "        self.__age = 200                    # PRIVATE VARIABLE\n",
    "\n",
    "a = Employee('x',10)\n",
    "print(a.name)\n",
    "# print(a.age)     # ERROR\n",
    "\n",
    "#--> Can access private variable as\n",
    "print(a._Employee__age)"
   ]
  },
  {
   "cell_type": "code",
   "execution_count": 16,
   "metadata": {},
   "outputs": [
    {
     "name": "stdout",
     "output_type": "stream",
     "text": [
      "You :  1     computer : 1\n"
     ]
    },
    {
     "data": {
      "text/plain": [
       "'Draw'"
      ]
     },
     "execution_count": 16,
     "metadata": {},
     "output_type": "execute_result"
    }
   ],
   "source": [
    "# Exercise\n",
    "\n",
    "import random\n",
    "\n",
    "comp = random.randint(0,2)\n",
    "inp = int(input(\"Enter 0-Snake, 1-Water, 2-Gun : \"))\n",
    "\n",
    "def check():\n",
    "    if comp == 0 and inp == 0: \n",
    "        print(\"You : \",inp,'    computer :',comp)\n",
    "        return \"Draw\"\n",
    "    if comp == 0 and inp == 1: \n",
    "        print(\"You : \",inp,'    computer :',comp)\n",
    "        return \"You Win\"\n",
    "    if comp == 0 and inp == 2: \n",
    "        print(\"You : \",inp,'    computer :',comp)\n",
    "        return \"You Win\"\n",
    "    if comp == 1 and inp == 1: \n",
    "        print(\"You : \",inp,'    computer :',comp)\n",
    "        return \"Draw\"\n",
    "    if comp == 1 and inp == 0:\n",
    "        print(\"You : \",inp,'    computer :',comp)\n",
    "        return \"You loose\"\n",
    "    if comp == 1 and inp == 2:\n",
    "        print(\"You : \",inp,'    computer :',comp)\n",
    "        return \"You loose\"\n",
    "    if comp == 2 and inp == 2: \n",
    "        print(\"You : \",inp,'    computer :',comp)\n",
    "        return \"Draw\"\n",
    "    if comp == 2 and inp == 0:\n",
    "        print(\"You : \",inp,'    computer :',comp)\n",
    "        return \"You loose\"\n",
    "    if comp == 2 and inp == 1:\n",
    "        print(\"You : \",inp,'    computer :',comp)\n",
    "        return \"You Win\"\n",
    "    \n",
    "    \n",
    "\n",
    "check()"
   ]
  },
  {
   "attachments": {},
   "cell_type": "markdown",
   "metadata": {},
   "source": [
    "# ==========> METHOD OVERLOADING AND OVERRIDING"
   ]
  },
  {
   "cell_type": "code",
   "execution_count": 7,
   "metadata": {},
   "outputs": [
    {
     "name": "stdout",
     "output_type": "stream",
     "text": [
      "10\n",
      "30\n",
      "60\n"
     ]
    }
   ],
   "source": [
    "#----> Method Overloading\n",
    "# Two or more methods have the same name but different numbers of parameters or different types of parameters, or both.\n",
    "#  method overloading is not supported in the same way it is in some other languages like Java or C++.\n",
    "\n",
    "class Sum:\n",
    "    def add(self,a,b=None,c=None):\n",
    "        if b is None and c is None:\n",
    "            return a\n",
    "        elif c is None:\n",
    "            return a+b\n",
    "        else:\n",
    "            return a+b+c\n",
    "\n",
    "obj = Sum()\n",
    "print(obj.add(10))\n",
    "print(obj.add(10,20))\n",
    "print(obj.add(10,20,30))"
   ]
  },
  {
   "cell_type": "code",
   "execution_count": 8,
   "metadata": {},
   "outputs": [
    {
     "name": "stdout",
     "output_type": "stream",
     "text": [
      "Param1: 10\n",
      "Param1: 10, Param2: 20\n"
     ]
    }
   ],
   "source": [
    "# 1. Method Overloading Using default parameter values\n",
    "\n",
    "class MyClass:\n",
    "    def my_method(self, param1, param2=None):\n",
    "        if param2 is None:\n",
    "            # Perform logic for the case when param2 is not provided\n",
    "            print(f\"Param1: {param1}\")\n",
    "        else:\n",
    "            # Perform logic for the case when both parameters are provided\n",
    "            print(f\"Param1: {param1}, Param2: {param2}\")\n",
    "\n",
    "# Create an instance of MyClass\n",
    "obj = MyClass()\n",
    "\n",
    "# Call my_method with one argument\n",
    "obj.my_method(10)  # Output: Param1: 10\n",
    "\n",
    "# Call my_method with two arguments\n",
    "obj.my_method(10, 20)  # Output: Param1: 10, Param2: 20"
   ]
  },
  {
   "cell_type": "code",
   "execution_count": 9,
   "metadata": {},
   "outputs": [
    {
     "name": "stdout",
     "output_type": "stream",
     "text": [
      "Param1: 10\n",
      "Param1: 10, Param2: 20\n"
     ]
    }
   ],
   "source": [
    "# 2.Using variable arguments\n",
    "\n",
    "class MyClass:\n",
    "    def my_method(self, *args):\n",
    "        if len(args) == 1:\n",
    "            # Perform logic for the case when only one argument is provided\n",
    "            print(f\"Param1: {args[0]}\")\n",
    "        elif len(args) == 2:\n",
    "            # Perform logic for the case when two arguments are provided\n",
    "            print(f\"Param1: {args[0]}, Param2: {args[1]}\")\n",
    "\n",
    "# Create an instance of MyClass\n",
    "obj = MyClass()\n",
    "\n",
    "# Call my_method with one argument\n",
    "obj.my_method(10)  # Output: Param1: 10\n",
    "\n",
    "# Call my_method with two arguments\n",
    "obj.my_method(10, 20)  # Output: Param1: 10, Param2: 20"
   ]
  },
  {
   "cell_type": "code",
   "execution_count": 1,
   "metadata": {},
   "outputs": [
    {
     "name": "stdout",
     "output_type": "stream",
     "text": [
      "15\n",
      "78.5\n"
     ]
    }
   ],
   "source": [
    "#----> Method Overriding\n",
    "\n",
    "# Technique of changing method inherited from parent class.\n",
    "\n",
    "\n",
    "class Shape():\n",
    "    def __init__(self, x, y):\n",
    "        self.x = x\n",
    "        self.y = y\n",
    "        \n",
    "    def area(self):\n",
    "        return self.x*self.y\n",
    "    \n",
    "class Circle(Shape):\n",
    "    def __init__(self, r):\n",
    "        self.r = r\n",
    "        super().__init__(r,r)\n",
    "    \n",
    "    def area(self):\n",
    "        # return 3.14*self.x*self.x\n",
    "        return 3.14*super().area()\n",
    "    \n",
    "rec = Shape(3,5)\n",
    "print(rec.area())\n",
    "\n",
    "circ = Circle(5)\n",
    "print(circ.area())"
   ]
  },
  {
   "cell_type": "code",
   "execution_count": 11,
   "metadata": {},
   "outputs": [
    {
     "name": "stdout",
     "output_type": "stream",
     "text": [
      "Dog barks\n",
      "Cat meows\n"
     ]
    }
   ],
   "source": [
    "class Animal:\n",
    "    def speak(self):\n",
    "        print(\"Animal speaks\")\n",
    "\n",
    "class Dog(Animal):\n",
    "    def speak(self):\n",
    "        print(\"Dog barks\")\n",
    "\n",
    "class Cat(Animal):\n",
    "    def speak(self):\n",
    "        print(\"Cat meows\")\n",
    "\n",
    "# Create instances of the subclasses\n",
    "dog = Dog()\n",
    "cat = Cat()\n",
    "\n",
    "# Call the speak method on instances\n",
    "dog.speak()  # Output: Dog barks\n",
    "cat.speak()  # Output: Cat meows\n"
   ]
  },
  {
   "attachments": {},
   "cell_type": "markdown",
   "metadata": {},
   "source": [
    "# ABSTRACTION :\n",
    "                is used to hide the internal functionality of the function from the users. The users only interact with the basic implementation of the function, but inner working is hidden. User is familiar with that \"what function does\" but they don't know \"how it does.\""
   ]
  },
  {
   "cell_type": "code",
   "execution_count": null,
   "metadata": {},
   "outputs": [],
   "source": [
    "from abc import ABC\n",
    "\n",
    "class Polygon(ABC):\n",
    "    # abstract method\n",
    "    def sides(self):\n",
    "        pass\n",
    "\n",
    "class Triangle(Polygon):\n",
    "    def sides(self):\n",
    "        pass"
   ]
  }
 ],
 "metadata": {
  "kernelspec": {
   "display_name": "Developer",
   "language": "python",
   "name": "python3"
  },
  "language_info": {
   "codemirror_mode": {
    "name": "ipython",
    "version": 3
   },
   "file_extension": ".py",
   "mimetype": "text/x-python",
   "name": "python",
   "nbconvert_exporter": "python",
   "pygments_lexer": "ipython3",
   "version": "3.11.4 | packaged by Anaconda, Inc. | (main, Jul  5 2023, 13:47:18) [MSC v.1916 64 bit (AMD64)]"
  },
  "orig_nbformat": 4,
  "vscode": {
   "interpreter": {
    "hash": "36f7ff5fe44c80b6ca0c4b179b80d8db9eacae3a1fdf354a582873bf082fae06"
   }
  }
 },
 "nbformat": 4,
 "nbformat_minor": 2
}
