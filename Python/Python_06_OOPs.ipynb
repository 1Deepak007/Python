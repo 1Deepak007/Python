{
 "cells": [
  {
   "attachments": {},
   "cell_type": "markdown",
   "metadata": {},
   "source": [
    "* STATIC METHODS\n",
    "* INSTANCE & CLASS VARIABLES\n",
    "* CLASS METHODS\n",
    "* METHOD OVERLOADING AND OVERRIDING\n",
    "* SUPER KEYWORD\n",
    "* MADIC/DUNDER METHODS\n",
    "* OPERATOR OVERLOADING\n",
    "\n",
    "# ====> Static Methods"
   ]
  },
  {
   "cell_type": "markdown",
   "metadata": {},
   "source": [
    "* Staic Methods"
   ]
  },
  {
   "cell_type": "code",
   "execution_count": 1,
   "metadata": {},
   "outputs": [
    {
     "name": "stdout",
     "output_type": "stream",
     "text": [
      "5\n",
      "15\n",
      "30\n",
      "2\n"
     ]
    }
   ],
   "source": [
    "class Math:\n",
    "    def __init__(self, num):            # constructor\n",
    "        self.num = num\n",
    "    \n",
    "    def add_two_nums(self, num1):\n",
    "        sum = self.num + num1\n",
    "        return sum\n",
    "        \n",
    "    @staticmethod\n",
    "    def add(a,b):                       # static method - can be called directly using class_name.s_mthd\n",
    "        return a+b\n",
    "    \n",
    "obj = Math(5)\n",
    "print(obj.num)\n",
    "\n",
    "x = obj.add_two_nums(10)\n",
    "print(x)\n",
    "print(obj.add(10,20))\n",
    "print(Math.add(1,1))"
   ]
  },
  {
   "cell_type": "code",
   "execution_count": 2,
   "metadata": {},
   "outputs": [
    {
     "name": "stdout",
     "output_type": "stream",
     "text": [
      "I am static method\n"
     ]
    },
    {
     "data": {
      "text/plain": [
       "30"
      ]
     },
     "execution_count": 2,
     "metadata": {},
     "output_type": "execute_result"
    }
   ],
   "source": [
    "class MyClass:\n",
    "    def __init__(self,value):\n",
    "        self.value = value\n",
    "    \n",
    "    @staticmethod\n",
    "    def stat_mthd():\n",
    "        print(\"I am static method\")\n",
    "    \n",
    "    def sum(a,b):\n",
    "        return a+b\n",
    "\n",
    "MyClass.stat_mthd()\n",
    "\n",
    "MyClass.sum(10,20)"
   ]
  },
  {
   "attachments": {},
   "cell_type": "markdown",
   "metadata": {},
   "source": [
    "# ====> Instance & Class Variables"
   ]
  },
  {
   "cell_type": "code",
   "execution_count": 3,
   "metadata": {},
   "outputs": [
    {
     "name": "stdout",
     "output_type": "stream",
     "text": [
      "Company : Google. Total Employees : 1. Name of CEO is Deepak and raise amount is 0.1.\n",
      "Company : Nasa. Total Employees : 2. Name of CEO is Sonu and raise amount is 0.08.\n",
      "Company : Nasa. Total Employees : 3. Name of CEO is Monu and raise amount is 0.07.\n"
     ]
    }
   ],
   "source": [
    "class Employee:\n",
    "    company_name = 'Google'                 # class variable\n",
    "    TotalNoOfEmployees = 0                  # class variable\n",
    "    \n",
    "    def __init__(self,name):\n",
    "        self.name = name                    # Instance variable\n",
    "        self.raise_amount = 0.05            # Instance variable\n",
    "        Employee.TotalNoOfEmployees += 1    \n",
    "    \n",
    "\n",
    "    def showDetails(self):                  # Instance Method\n",
    "        print(f'Company : {self.company_name}. Total Employees : {self.TotalNoOfEmployees}. Name of CEO is {self.name} and raise amount is {self.raise_amount}.')\n",
    "        \n",
    "\n",
    "emp1 = Employee('Deepak')                   # Object instantiation\n",
    "emp1.raise_amount = 0.1\n",
    "\n",
    "emp1.showDetails()\n",
    "# OR\n",
    "# Employee.showDetails(emp1)\n",
    "\n",
    "\n",
    "emp2 = Employee('Sonu')                     # Object instantiation\n",
    "emp2.raise_amount = 0.08\n",
    "emp2.company_name = \"Nasa\"\n",
    "emp2.showDetails()\n",
    "\n",
    "emp3 = Employee('Monu')                     # Object instantiation\n",
    "emp3.raise_amount = 0.07\n",
    "emp3.company_name = \"Nasa\"\n",
    "emp3.showDetails()"
   ]
  },
  {
   "cell_type": "code",
   "execution_count": 4,
   "metadata": {},
   "outputs": [
    {
     "name": "stdout",
     "output_type": "stream",
     "text": [
      "Number of wheels for car1: 4\n",
      "Number of wheels for car2: 4\n",
      "Brand and model of car1: Toyota, Camry\n",
      "Brand and model of car2: Ford, Mustang\n",
      "The Toyota Camry is being driven.\n",
      "The Ford Mustang is being driven.\n"
     ]
    }
   ],
   "source": [
    "class Car:\n",
    "    # Class variable\n",
    "    wheels = 4\n",
    "\n",
    "    def __init__(self, brand, model):\n",
    "        # Instance variables\n",
    "        self.brand = brand\n",
    "        self.model = model\n",
    "\n",
    "    # Instance method\n",
    "    def drive(self):\n",
    "        print(f\"The {self.brand} {self.model} is being driven.\")\n",
    "\n",
    "# Object instantiation\n",
    "car1 = Car(\"Toyota\", \"Camry\")\n",
    "car2 = Car(\"Ford\", \"Mustang\")\n",
    "\n",
    "# Accessing class variable\n",
    "print(f\"Number of wheels for car1: {car1.wheels}\")\n",
    "print(f\"Number of wheels for car2: {car2.wheels}\")\n",
    "\n",
    "# Accessing instance variables\n",
    "print(f\"Brand and model of car1: {car1.brand}, {car1.model}\")\n",
    "print(f\"Brand and model of car2: {car2.brand}, {car2.model}\")\n",
    "\n",
    "# Invoking instance method\n",
    "car1.drive()\n",
    "car2.drive()\n"
   ]
  },
  {
   "cell_type": "code",
   "execution_count": 5,
   "metadata": {},
   "outputs": [
    {
     "name": "stdout",
     "output_type": "stream",
     "text": [
      "The library have 1 books\n",
      "Books are :  Harry potter,\n",
      "\n",
      "['Harry potter']\n",
      "The library have 2 books\n",
      "Books are :  Harry potter,Jungle book,\n",
      "\n",
      "['Harry potter', 'Jungle book']\n"
     ]
    }
   ],
   "source": [
    "# Exercise\n",
    "class Library:\n",
    "    def __init__(self):\n",
    "        self.no_of_books = 0\n",
    "        self.books = []\n",
    "        \n",
    "    def all_books(self):\n",
    "        print(self.books)\n",
    "    \n",
    "    def add_book(self, book_name):\n",
    "        self.books.append(book_name)\n",
    "        self.no_of_books = len(self.books)\n",
    "    \n",
    "    def showInfo(self):\n",
    "        print(f\"The library have {self.no_of_books} books\")\n",
    "        \n",
    "        print(\"Books are : \",end=\" \")\n",
    "        for book in self.books:\n",
    "            print(book, end=\",\")\n",
    "        print('\\n')\n",
    "    \n",
    "obj = Library()\n",
    "obj.add_book(\"Harry potter\")\n",
    "\n",
    "obj.showInfo()\n",
    "obj.all_books()\n",
    "\n",
    "\n",
    "obj.add_book('Jungle book')\n",
    "obj.showInfo()\n",
    "obj.all_books()\n",
    "    "
   ]
  },
  {
   "attachments": {},
   "cell_type": "markdown",
   "metadata": {},
   "source": [
    "# ====> CLASS METHODS"
   ]
  },
  {
   "cell_type": "code",
   "execution_count": 6,
   "metadata": {},
   "outputs": [
    {
     "name": "stdout",
     "output_type": "stream",
     "text": [
      "The name is : Harry & name of company is : Apple\n",
      "The name is : Harry & name of company is : Tesla\n",
      "Apple\n",
      "Tata\n"
     ]
    }
   ],
   "source": [
    "class Employee:\n",
    "    company = \"Apple\"           # class variable\n",
    "    def show(self):\n",
    "        print(f\"The name is : {self.name} & name of company is : {self.company}\")\n",
    "    \n",
    "    # change only in object's instance variable    \n",
    "    def change_company(self, nwCmpny):\n",
    "        self.company = nwCmpny\n",
    "        \n",
    "    # changing actual class variable (company)\n",
    "    @classmethod\n",
    "    def chng_cls_vari(clas, newCompany):\n",
    "        clas.company = newCompany\n",
    "    \n",
    "    \n",
    "\n",
    "e1 = Employee()\n",
    "e1.name = \"Harry\"\n",
    "e1.show()                   #Apple\n",
    "\n",
    "e1.change_company(\"Tesla\")          # change company in object 'e1'\n",
    "e1.show()                   #Tesla\n",
    "\n",
    "# change actual class vari(company)  'Apple' to 'Tata'\n",
    "print(Employee.company)\n",
    "e1.chng_cls_vari('Tata')            # Changing name to 'Tata'\n",
    "print(Employee.company)"
   ]
  },
  {
   "cell_type": "code",
   "execution_count": 1,
   "metadata": {},
   "outputs": [
    {
     "name": "stdout",
     "output_type": "stream",
     "text": [
      "Park\n"
     ]
    }
   ],
   "source": [
    "#===============> Classmethods as alternate constructor\n",
    "\n",
    "class Employee:\n",
    "    def __init__(self, name, salary):\n",
    "        self.name = name\n",
    "        self.salary = salary\n",
    "    \n",
    "    @classmethod\n",
    "    def fromStr(clas, string):\n",
    "        return clas(string.split(\"-\")[0], string(\"-\")[1])\n",
    "\n",
    "\n",
    "e1 = Employee('Park',100000)\n",
    "print(e1.name)"
   ]
  },
  {
   "cell_type": "code",
   "execution_count": 5,
   "metadata": {},
   "outputs": [
    {
     "name": "stdout",
     "output_type": "stream",
     "text": [
      "{'name': 'Park', 'salary': 100000}\n",
      "-----------------------------\n",
      "Help on Employee in module __main__ object:\n",
      "\n",
      "class Employee(builtins.object)\n",
      " |  Employee(name, salary)\n",
      " |  \n",
      " |  Methods defined here:\n",
      " |  \n",
      " |  __init__(self, name, salary)\n",
      " |      Initialize self.  See help(type(self)) for accurate signature.\n",
      " |  \n",
      " |  ----------------------------------------------------------------------\n",
      " |  Class methods defined here:\n",
      " |  \n",
      " |  fromStr(string) from builtins.type\n",
      " |  \n",
      " |  ----------------------------------------------------------------------\n",
      " |  Data descriptors defined here:\n",
      " |  \n",
      " |  __dict__\n",
      " |      dictionary for instance variables (if defined)\n",
      " |  \n",
      " |  __weakref__\n",
      " |      list of weak references to the object (if defined)\n",
      "\n",
      "None\n",
      "-----------------------------\n",
      "<method-wrapper '__str__' of Employee object at 0x000002A6325914D0>\n"
     ]
    }
   ],
   "source": [
    "print(e1.__dict__)\n",
    "print('-----------------------------')\n",
    "print(help(e1))\n",
    "print('-----------------------------')\n",
    "print(e1.__str__)"
   ]
  },
  {
   "cell_type": "code",
   "execution_count": 32,
   "metadata": {},
   "outputs": [
    {
     "name": "stdout",
     "output_type": "stream",
     "text": [
      "This is parent function\n",
      "--------------------------\n",
      "This is parent function\n",
      "This is child methods of ChildClass\n"
     ]
    }
   ],
   "source": [
    "#=====================> Super Keyword  -  calling functions of parent class from child class\n",
    "\n",
    "class ParentClass:\n",
    "    def parent_fxn(self):\n",
    "        print(\"This is parent function\")\n",
    "\n",
    "class ChildClass(ParentClass):\n",
    "    # def parent_fxn(self):\n",
    "    #     return \"This is another function with same name\"\n",
    "    def child_method(self):\n",
    "        super().parent_fxn()\n",
    "        print(\"This is child methods of ChildClass\")\n",
    "\n",
    "\n",
    "# obj = ParentClass\n",
    "# obj.parent_fxn('x')\n",
    "\n",
    "\n",
    "cobj = ChildClass()\n",
    "cobj.parent_fxn()\n",
    "\n",
    "print(\"--------------------------\")\n",
    "\n",
    "cobj.child_method()"
   ]
  },
  {
   "cell_type": "code",
   "execution_count": 1,
   "metadata": {},
   "outputs": [],
   "source": [
    "#  Super keyword\n",
    "# calling constructor of parent class\n",
    "\n",
    "class Employee:\n",
    "    def __init__(self, name, id):\n",
    "        self.name = name\n",
    "        self.id = id\n",
    "    \n",
    "\n",
    "class Programmer(Employee):\n",
    "    def __init__(self, name, id, tech):\n",
    "        super().__init__(name,id)                  # calling constructor of parent class\n",
    "        self.tech = tech\n",
    "        \n",
    "\n",
    "Sonu = Employee('Sonu',1)\n",
    "Monu = Programmer('Monu',2,'Python')"
   ]
  },
  {
   "cell_type": "code",
   "execution_count": 11,
   "metadata": {},
   "outputs": [
    {
     "name": "stdout",
     "output_type": "stream",
     "text": [
      "Deepak\n",
      "6\n"
     ]
    }
   ],
   "source": [
    "#=======================> Dunder/Magic Methods\n",
    "\n",
    "\n",
    "class Employee:\n",
    "    def __init__(self,name):\n",
    "        self.name=name\n",
    "    \n",
    "    def __len__(self):\n",
    "        i = 0\n",
    "        for x in self.name:\n",
    "            i+=1\n",
    "        return i\n",
    "        \n",
    "e = Employee('Deepak')\n",
    "print(e.name)\n",
    "print(len(e.name))"
   ]
  },
  {
   "cell_type": "code",
   "execution_count": 60,
   "metadata": {},
   "outputs": [
    {
     "name": "stdout",
     "output_type": "stream",
     "text": [
      "<__main__.Employee object at 0x00000270F92DF710>\n",
      "<__main__.Employee object at 0x00000270F92DF710>\n",
      "<method-wrapper '__str__' of Employee object at 0x00000270F92DF710>\n"
     ]
    },
    {
     "data": {
      "text/plain": [
       "'<__main__.Employee object at 0x00000270F92DF710>'"
      ]
     },
     "execution_count": 60,
     "metadata": {},
     "output_type": "execute_result"
    }
   ],
   "source": [
    "from emp import *\n",
    "\n",
    "e = Employee('Deepak')\n",
    "\n",
    "print(str(e))\n",
    "print(repr(e))\n",
    "\n",
    "\n",
    "str(e)\n",
    "repr(e)"
   ]
  },
  {
   "cell_type": "code",
   "execution_count": 61,
   "metadata": {},
   "outputs": [
    {
     "name": "stdout",
     "output_type": "stream",
     "text": [
      "<__main__.Employee object at 0x00000270F91F7B90>\n"
     ]
    }
   ],
   "source": [
    "from emp import *\n",
    "\n",
    "if __name__ == '__main__':\n",
    "    emp = Employee('Deepak')\n",
    "    print(emp)"
   ]
  },
  {
   "cell_type": "code",
   "execution_count": null,
   "metadata": {},
   "outputs": [],
   "source": []
  },
  {
   "attachments": {},
   "cell_type": "markdown",
   "metadata": {},
   "source": [
    "# ====> Methods Overriding  & Loading"
   ]
  },
  {
   "cell_type": "code",
   "execution_count": 68,
   "metadata": {},
   "outputs": [
    {
     "name": "stdout",
     "output_type": "stream",
     "text": [
      "100\n",
      "78.5\n"
     ]
    }
   ],
   "source": [
    "#----> Method overriding\n",
    "\n",
    "class Shape:\n",
    "    def __init__(self, x, y):\n",
    "        self.x = x\n",
    "        self.y = y\n",
    "    \n",
    "    def area(self):\n",
    "        return self.x * self.y\n",
    "    \n",
    "\n",
    "class Circle(Shape):\n",
    "    def __init__(self, radius):\n",
    "        self.radius = radius\n",
    "        super().__init__(radius,radius)\n",
    "        \n",
    "    def area(self):\n",
    "        return 3.14*super().area()\n",
    "\n",
    "\n",
    "a = Shape(10,10)\n",
    "print(a.area())\n",
    "\n",
    "b = Circle(5)\n",
    "print(b.area())\n"
   ]
  },
  {
   "cell_type": "code",
   "execution_count": 8,
   "metadata": {},
   "outputs": [
    {
     "name": "stdout",
     "output_type": "stream",
     "text": [
      "Param1: 10\n",
      "Param1: 10, Param2: 20\n"
     ]
    }
   ],
   "source": [
    "#----> Method Overloading\n",
    "\n",
    "# Two or more methods have the same name but different numbers of parameters or different types of parameters, or both.\n",
    "\n",
    "\n",
    "# 1. Using default parameter values\n",
    "\n",
    "class MyClass:\n",
    "    def my_method(self, param1, param2=None):\n",
    "        if param2 is None:\n",
    "            # Perform logic for the case when param2 is not provided\n",
    "            print(f\"Param1: {param1}\")\n",
    "        else:\n",
    "            # Perform logic for the case when both parameters are provided\n",
    "            print(f\"Param1: {param1}, Param2: {param2}\")\n",
    "\n",
    "# Create an instance of MyClass\n",
    "obj = MyClass()\n",
    "\n",
    "# Call my_method with one argument\n",
    "obj.my_method(10)  # Output: Param1: 10\n",
    "\n",
    "# Call my_method with two arguments\n",
    "obj.my_method(10, 20)  # Output: Param1: 10, Param2: 20\n"
   ]
  },
  {
   "cell_type": "code",
   "execution_count": 9,
   "metadata": {},
   "outputs": [
    {
     "name": "stdout",
     "output_type": "stream",
     "text": [
      "Param1: 10\n",
      "Param1: 10, Param2: 20\n"
     ]
    }
   ],
   "source": [
    "# 2.Using variable arguments\n",
    "\n",
    "class MyClass:\n",
    "    def my_method(self, *args):\n",
    "        if len(args) == 1:\n",
    "            # Perform logic for the case when only one argument is provided\n",
    "            print(f\"Param1: {args[0]}\")\n",
    "        elif len(args) == 2:\n",
    "            # Perform logic for the case when two arguments are provided\n",
    "            print(f\"Param1: {args[0]}, Param2: {args[1]}\")\n",
    "\n",
    "# Create an instance of MyClass\n",
    "obj = MyClass()\n",
    "\n",
    "# Call my_method with one argument\n",
    "obj.my_method(10)  # Output: Param1: 10\n",
    "\n",
    "# Call my_method with two arguments\n",
    "obj.my_method(10, 20)  # Output: Param1: 10, Param2: 20\n"
   ]
  },
  {
   "cell_type": "code",
   "execution_count": 4,
   "metadata": {},
   "outputs": [
    {
     "name": "stdout",
     "output_type": "stream",
     "text": [
      "['Deepak', '500000', 'Python']\n",
      "500000\n"
     ]
    }
   ],
   "source": [
    "a = \"Deepak-500000-Python\"\n",
    "a1 = a.split('-')\n",
    "print(a1)\n",
    "print(a1[1])"
   ]
  },
  {
   "attachments": {},
   "cell_type": "markdown",
   "metadata": {},
   "source": [
    "# ====> Class methods as alternate constructor"
   ]
  },
  {
   "cell_type": "code",
   "execution_count": 7,
   "metadata": {},
   "outputs": [
    {
     "name": "stdout",
     "output_type": "stream",
     "text": [
      "500000\n",
      "Sonu      1000000\n"
     ]
    }
   ],
   "source": [
    "class Employee:\n",
    "    def __init__(self, name, salary):\n",
    "        self.name = name\n",
    "        self.salary = salary\n",
    "\n",
    "    @classmethod\n",
    "    def fromStr(cls, string):\n",
    "        return cls(string.split(\"-\")[0], string.split(\"-\")[1])\n",
    "    \n",
    "    \n",
    "e = Employee('Deepak',500000)\n",
    "print(e.salary)\n",
    "\n",
    "\n",
    "st = \"Sonu-1000000\"\n",
    "e1 = Employee.fromStr(st)\n",
    "print(e1.name,\"    \",e1.salary)\n"
   ]
  },
  {
   "cell_type": "code",
   "execution_count": 13,
   "metadata": {},
   "outputs": [
    {
     "name": "stdout",
     "output_type": "stream",
     "text": [
      "['__add__', '__class__', '__class_getitem__', '__contains__', '__delattr__', '__delitem__', '__dir__', '__doc__', '__eq__', '__format__', '__ge__', '__getattribute__', '__getitem__', '__getstate__', '__gt__', '__hash__', '__iadd__', '__imul__', '__init__', '__init_subclass__', '__iter__', '__le__', '__len__', '__lt__', '__mul__', '__ne__', '__new__', '__reduce__', '__reduce_ex__', '__repr__', '__reversed__', '__rmul__', '__setattr__', '__setitem__', '__sizeof__', '__str__', '__subclasshook__', 'append', 'clear', 'copy', 'count', 'extend', 'index', 'insert', 'pop', 'remove', 'reverse', 'sort']\n",
      "---------------------------------\n",
      "<method-wrapper '__add__' of list object at 0x0000027392CE8AC0>\n"
     ]
    }
   ],
   "source": [
    "# dir(), __dict__, help\n",
    "\n",
    "x = [1,2,3,4,5]\n",
    "print(dir(x));                       print(\"---------------------------------\")\n",
    "print(x.__add__);                   "
   ]
  },
  {
   "cell_type": "code",
   "execution_count": 16,
   "metadata": {},
   "outputs": [
    {
     "name": "stdout",
     "output_type": "stream",
     "text": [
      "{'name': 'John', 'age': 20}\n",
      "Help on class Person in module __main__:\n",
      "\n",
      "class Person(builtins.object)\n",
      " |  Person(name, age)\n",
      " |  \n",
      " |  Methods defined here:\n",
      " |  \n",
      " |  __init__(self, name, age)\n",
      " |      Initialize self.  See help(type(self)) for accurate signature.\n",
      " |  \n",
      " |  ----------------------------------------------------------------------\n",
      " |  Data descriptors defined here:\n",
      " |  \n",
      " |  __dict__\n",
      " |      dictionary for instance variables (if defined)\n",
      " |  \n",
      " |  __weakref__\n",
      " |      list of weak references to the object (if defined)\n",
      "\n"
     ]
    }
   ],
   "source": [
    "class Person():\n",
    "    def __init__(self,name,age):\n",
    "        self.name = name\n",
    "        self.age = age\n",
    "\n",
    "\n",
    "p = Person('John',20)\n",
    "print(p.__dict__)\n",
    "\n",
    "help(Person)"
   ]
  },
  {
   "attachments": {},
   "cell_type": "markdown",
   "metadata": {},
   "source": [
    "# ====> Super Keyword"
   ]
  },
  {
   "cell_type": "code",
   "execution_count": 36,
   "metadata": {},
   "outputs": [
    {
     "name": "stdout",
     "output_type": "stream",
     "text": [
      "This is child_method in ChildClass\n",
      "This is parent_method in ChildClass\n",
      "This is parent_method in ParentClass\n"
     ]
    }
   ],
   "source": [
    "# used for calling parent class methods from child class\n",
    "\n",
    "class ParentClass:\n",
    "    def parent_method(self):\n",
    "        print(\"This is parent_method in ParentClass\")\n",
    "\n",
    "class ChildClass(ParentClass):\n",
    "    def child_method(self):\n",
    "        print(\"This is child_method in ChildClass\")\n",
    "    def parent_method(self):\n",
    "        print(\"This is parent_method in ChildClass\")\n",
    "        super().parent_method()\n",
    "        \n",
    "\n",
    "\n",
    "c_obj = ChildClass()\n",
    "c_obj.child_method()\n",
    "c_obj.parent_method()"
   ]
  },
  {
   "cell_type": "code",
   "execution_count": 48,
   "metadata": {},
   "outputs": [
    {
     "name": "stdout",
     "output_type": "stream",
     "text": [
      "Rohit Das\n",
      "Deepak Gautam\n"
     ]
    }
   ],
   "source": [
    "class Employee:\n",
    "    def __init__(self,name, id):\n",
    "        self.name = name\n",
    "        self.id = id\n",
    "        \n",
    "class Programmer(Employee):\n",
    "    def __init__(self,name,id,lang):\n",
    "        # self.name = name\n",
    "        # self.id = id\n",
    "        super().__init__(name,id)\n",
    "        self.lang = lang\n",
    "\n",
    "e1 = Employee(\"Rohit Das\", 50000)\n",
    "print(e1.name)\n",
    "\n",
    "p1 = Programmer(\"Deepak Gautam\",1,\"Python\")\n",
    "print(p1.name)\n"
   ]
  },
  {
   "attachments": {},
   "cell_type": "markdown",
   "metadata": {},
   "source": [
    "# ====> Magic/Dunder methods"
   ]
  },
  {
   "cell_type": "code",
   "execution_count": 59,
   "metadata": {},
   "outputs": [
    {
     "name": "stdout",
     "output_type": "stream",
     "text": [
      "6\n",
      "Name of employee is Deepak.\n",
      "Employee is Deepak.\n",
      "Name of employee is Deepak.\n"
     ]
    }
   ],
   "source": [
    "class Employee:\n",
    "    def __init__(self,name):\n",
    "        self.name = name\n",
    "    def __len__(self):\n",
    "        i = 0\n",
    "        for x in self.name:\n",
    "            i+=1\n",
    "        return i\n",
    "    \n",
    "    def __str__(self):\n",
    "        return f\"Name of employee is {self.name}.\"\n",
    "    \n",
    "    def __repr__(self):\n",
    "        return f\"Employee is {self.name}.\"\n",
    "    \n",
    "e = Employee(\"Deepak\")\n",
    "print(len(e))\n",
    "\n",
    "# print(len(\"Sonu\"))\n",
    "\n",
    "print(e)      # if __str__ method is unavailable then __repr__ will be auto called.\n",
    "\n",
    "print(repr(e))\n",
    "print(str(e))"
   ]
  },
  {
   "cell_type": "code",
   "execution_count": 72,
   "metadata": {},
   "outputs": [
    {
     "data": {
      "text/plain": [
       "'Call method.'"
      ]
     },
     "execution_count": 72,
     "metadata": {},
     "output_type": "execute_result"
    }
   ],
   "source": [
    "class Employee:\n",
    "    def __init__(self,name):\n",
    "        self.name = name\n",
    "    \n",
    "    def __call__(self):\n",
    "        return f\"Call method.\"\n",
    "    \n",
    "obj = Employee(\"Giyan\")\n",
    "\n",
    "obj()"
   ]
  },
  {
   "attachments": {},
   "cell_type": "markdown",
   "metadata": {},
   "source": [
    "# ======> Method Overriding"
   ]
  },
  {
   "attachments": {},
   "cell_type": "markdown",
   "metadata": {},
   "source": [
    "Technique of changing method inherited from parent class."
   ]
  },
  {
   "cell_type": "code",
   "execution_count": 2,
   "metadata": {},
   "outputs": [
    {
     "name": "stdout",
     "output_type": "stream",
     "text": [
      "15\n",
      "78.5\n"
     ]
    }
   ],
   "source": [
    "class Shape():\n",
    "    def __init__(self, x, y):\n",
    "        self.x = x\n",
    "        self.y = y\n",
    "        \n",
    "    def area(self):\n",
    "        return self.x*self.y\n",
    "    \n",
    "class Circle(Shape):\n",
    "    def __init__(self, r):\n",
    "        self.r = r\n",
    "        super().__init__(r,r)\n",
    "    \n",
    "    def area(self):\n",
    "        # return 3.14*self.x*self.x\n",
    "        return 3.14*super().area()\n",
    "    \n",
    "rec = Shape(3,5)\n",
    "print(rec.area())\n",
    "\n",
    "circ = Circle(5)\n",
    "print(circ.area())"
   ]
  },
  {
   "cell_type": "code",
   "execution_count": 1,
   "metadata": {},
   "outputs": [
    {
     "name": "stdout",
     "output_type": "stream",
     "text": [
      "Dog can eat\n",
      "Dog can bark\n"
     ]
    }
   ],
   "source": [
    "class Animal:\n",
    "    name = \"\"\n",
    "    def eat(self):\n",
    "        print(\"Dog can eat\")\n",
    "    \n",
    "class Dog(Animal):\n",
    "    # override eat() method\n",
    "    def eat(self):\n",
    "        super().eat()\n",
    "        print(\"Dog can bark\")\n",
    "\n",
    "labrador = Dog()\n",
    "labrador.eat()"
   ]
  },
  {
   "attachments": {},
   "cell_type": "markdown",
   "metadata": {},
   "source": [
    "# ======> OPERATOR OVERLOADING"
   ]
  },
  {
   "cell_type": "markdown",
   "metadata": {},
   "source": [
    "This feature in Python that allows the same operator to have different meaning according to the context is called operator overloading.\n",
    "\n"
   ]
  },
  {
   "cell_type": "code",
   "execution_count": 8,
   "metadata": {},
   "outputs": [
    {
     "name": "stdout",
     "output_type": "stream",
     "text": [
      "10i + 20j + 30k\n",
      "11i + 22j + 33k\n",
      "Sum :  21i + 42j + 63k\n",
      "<class 'str'>\n"
     ]
    }
   ],
   "source": [
    "class Vector:\n",
    "    def __init__(self,i,j,k):\n",
    "        self.i = i\n",
    "        self.j = j\n",
    "        self.k = k\n",
    "    \n",
    "    def __str__(self):\n",
    "        return f\"{self.i}i + {self.j}j + {self.k}k\"\n",
    "    \n",
    "    def __add__(self,x):\n",
    "        return f\"{self.i + x.i}i + {self.j + x.j}j + {self.k + x.k}k\"\n",
    "    \n",
    "v1 = Vector(10,20,30)\n",
    "print(v1)\n",
    "\n",
    "v2 = Vector(11,22,33)\n",
    "print(v2)\n",
    "\n",
    "print(\"Sum : \",v1+v2)              # gives error so we redefine __add__ method above\n",
    "print(type(v1+v2))"
   ]
  },
  {
   "cell_type": "code",
   "execution_count": 10,
   "metadata": {},
   "outputs": [
    {
     "name": "stdout",
     "output_type": "stream",
     "text": [
      "3i + 7j + 11k\n"
     ]
    }
   ],
   "source": [
    "class Vector:\n",
    "    def __init__(self,i,j,k):\n",
    "        self.i = i\n",
    "        self.j = j\n",
    "        self.k = k\n",
    "    \n",
    "    def __str__(self):\n",
    "        return f\"{self.i}i + {self.j}j + {self.k}k\"\n",
    "    \n",
    "    def __add__(self,x):\n",
    "        return Vector(self.i + x.i, self.j + x.j, self.k + x.k)\n",
    "    \n",
    "v1 = Vector(1,3,5)\n",
    "v2 = Vector(2,4,6)\n",
    "\n",
    "print(v1+v2)"
   ]
  },
  {
   "cell_type": "code",
   "execution_count": null,
   "metadata": {},
   "outputs": [],
   "source": []
  }
 ],
 "metadata": {
  "kernelspec": {
   "display_name": "Python 3",
   "language": "python",
   "name": "python3"
  },
  "language_info": {
   "codemirror_mode": {
    "name": "ipython",
    "version": 3
   },
   "file_extension": ".py",
   "mimetype": "text/x-python",
   "name": "python",
   "nbconvert_exporter": "python",
   "pygments_lexer": "ipython3",
   "version": "3.11.3 (tags/v3.11.3:f3909b8, Apr  4 2023, 23:49:59) [MSC v.1934 64 bit (AMD64)]"
  },
  "orig_nbformat": 4,
  "vscode": {
   "interpreter": {
    "hash": "17ba6bd45ad9503e48b9f06a470f65a26ec0a1151aceda8343315fd72d03c3c1"
   }
  }
 },
 "nbformat": 4,
 "nbformat_minor": 2
}
