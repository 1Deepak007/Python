{
 "cells": [
  {
   "cell_type": "code",
   "execution_count": 37,
   "metadata": {},
   "outputs": [],
   "source": [
    "#=================================> DATA TYPES <=======================================\n",
    "\n",
    "#                                 String Datatypes\n",
    "# CHAR(size)\t    :Maximum size of 255 characters.\tWhere size is the number of characters to store. Fixed-length strings. Space padded on right to equal size characters.\n",
    "# VARCHAR(size)\t    :Maximum size of 255 characters.\tWhere size is the number of characters to store. Variable-length string.\n",
    "# TINYTEXT(size)\t:Maximum size of 255 characters.\tWhere size is the number of characters to store.\n",
    "# TEXT(size)\t    :Maximum size of 65,535 characters.\tWhere size is the number of characters to store.\n",
    "# MEDIUMTEXT(size)  :Maximum size of 16,777,215 characters.\tWhere size is the number of characters to store.\n",
    "# LONGTEXT(size)\t:Maximum size of 4GB or 4,294,967,295 characters.\tWhere size is the number of characters to store.\n",
    "# BINARY(size)\t    :Maximum size of 255 characters.\tWhere size is the number of binary characters to store. Fixed-length strings. Space padded on right to equal size characters.\n",
    "# VARBINARY(size)\t:Maximum size of 255 characters.\tWhere size is the number of characters to store. Variable-length string.\n",
    "\n",
    "\n",
    "#                                 Numeric Datatypes\n",
    "# BIT\t                :Very small integer value that is equivalent to TINYINT(1).Signed values range from -128 to 127. Unsigned values range from 0 to 255.\t \n",
    "# TINYINT(m)\t        :Very small integer value. Signed values range from -128 to 127. Unsigned values range from 0 to 255.\t \n",
    "# SMALLINT(m)\t        :Small integer value. Signed values range from -32768 to 32767. Unsigned values range from 0 to 65535.\t \n",
    "# MEDIUMINT(m)          :Medium integer value. Signed values range from -8388608 to 8388607. Unsigned values range from 0 to 16777215.\t \n",
    "# INT(m)\t            :Standard integer value. Signed values range from -2147483648 to 2147483647. Unsigned values range from 0 to 4294967295.\t \n",
    "# INTEGER(m)\t        :Standard integer value. Signed values range from -2147483648 to 2147483647. Unsigned values range from 0 to 4294967295.\n",
    "# BIGINT(m)\t            :Big integer value.Signed values range from -9223372036854775808 to 9223372036854775807. Unsigned values range from 0 to 18446744073709551615.\t \n",
    "# DECIMAL(m,d)          :Unpacked fixed point number.m defaults to 10, if not specified.d defaults to 0, if not specified.Where m is the total digits and d is the number of digits after the decimal.\n",
    "# DEC(m,d)\t            :Unpacked fixed point number.m defaults to 10, if not specified.d defaults to 0, if not specified.\tWhere m is the total digits and d is the number of digits after the decimal.This is a synonym for the DECIMAL datatype.\n",
    "# NUMERIC(m,d)          :Unpacked fixed-point number.m defaults to 10, if not specified.d defaults to 0, if not specified.\tWhere m is the total digits and d is the number of digits after the decimal.This is a synonym for the DECIMAL datatype.\n",
    "# FIXED(m,d)\t        :Unpacked fixed-point number.m defaults to 10, if not specified.d defaults to 0, if not specified.\tWhere m is the total digits and d is the number of digits after the decimal.This is a synonym for the DECIMAL datatype.\n",
    "# FLOAT(m,d)\t        :Single precision floating point number.\tWhere m is the total digits and d is the number of digits after the decimal.\n",
    "# DOUBLE(m,d)\t        :Double precision floating point number.\tWhere m is the total digits and d is the number of digits after the decimal.\n",
    "# DOUBLE PRECISION(m,d) :Double precision floating point number.\tWhere m is the total digits and d is the number of digits after the decimal.This is a synonym for the DOUBLE datatype.\n",
    "# REAL(m,d)\t            :Double precision floating point number.\tWhere m is the total digits and d is the number of digits after the decimal.This is a synonym for the DOUBLE datatype.\n",
    "# FLOAT(p)\t            :Floating point number.\tWhere p is the precision.   \n",
    "# BOOL\t                :Synonym for TINYINT(1)\tTreated as a boolean data type where a value of 0 is considered to be FALSE and any other value is considered to be TRUE.\n",
    "# BOOLEAN\t            :Synonym for TINYINT(1)\tTreated as a boolean data type where a value of 0 is considered to be FALSE and any other value is considered to be TRUE.\n",
    "\n",
    "\n",
    "#                                 Date/Time Datatypes\n",
    "# DATE\t        :A date value in CCYY-MM-DD format. Values range from '1000-01-01' to '9999-12-31'.\n",
    "# TIME\t        :A time value in hh:mm:ss format. \tValues range from '-838:59:59' to '838:59:59'.\n",
    "# DATETIME\t    :A date and time value inCCYY-MM-DD hh:mm:ssformat. \tValues range from '1000-01-01 00:00:00' to '9999-12-31 23:59:59'.\n",
    "# TIMESTAMP\t    :A timestamp value in CCYY-MM-DD hh:mm:ss format.   Values range from '1970-01-01 00:00:01' UTC to '2038-01-19 03:14:07' UTC.\n",
    "# YEAR\t        :A year value in CCYY or YY format. Year value as 2 digits or 4 digits.\n",
    "\n",
    "\n",
    "#                                 Large Object (LOB) Datatypes\n",
    "# TINYBLOB\t    :Maximum size of 255 bytes.\t \n",
    "# BLOB(size)\t:Maximum size of 65,535 bytes.\tWhere size is the number of characters to store (size is optional and was introduced in MySQL 4.1)\n",
    "# MEDIUMBLOB\t:Maximum size of 16,777,215 bytes.\t \n",
    "# LONGTEXT\t    :Maximum size of 4GB or 4,294,967,295 characters.\n",
    "\n",
    "\n",
    "#                                  SQL Commands types\n",
    "# DDL : Data Definition Language    : create,alter,rename,truncate,drop \n",
    "# DQL : Data Query Language         : select\n",
    "# DML : Data Manipulation Language  : insert, update, delete\n",
    "# DCL : Data Control Language       : grant, revoke permission to users                     (who can see what data)\n",
    "# TCL : Transaction Control Language: start transaction, commit, rollback\n",
    "\n"
   ]
  },
  {
   "attachments": {},
   "cell_type": "markdown",
   "metadata": {},
   "source": [
    "# PRIMARY KEY : \n",
    "                * Is a column or set of column in table that uniquely identify each row(a unique id). \n",
    "                * There is only 1 PK in a table and it should not be NULL\n",
    "                * The primary key column cannot be null or empty.\n",
    "                * MySQL does not allow us to insert a new row with the existing primary key.\n",
    "                * It is recommended to use INT or BIGINT data type for the primary key column.\n",
    "\n",
    "# FOREIGN KEY : \n",
    "                * Is a column or set of column in a table that refers to PK of other table\n",
    "                * There can be multiple Fk\n",
    "                * Can have duplicate & null values.\n",
    "\n",
    "\n",
    "# Composite Key :\n",
    "                * It is a combination of two or more than two columns in a table that allows us to identify each row of the table uniquely.\n",
    "\n",
    "                * Any key such as primary key, super key, or candidate key can be called composite key when they have combined with more than one attribute.\n",
    "\n",
    "\n",
    "\n",
    "# Constraints :\n",
    "                * Constraints are used to specify rules for data in table.\n",
    "                * Constraints -> (NOT NULL, CHECK, DEFAULT, PRIMARY_KEY, AUTO_INCREMENT, UNIQUE, INDEX, ENUM, FOREIGN_KEY)\n",
    "\n",
    "# CLAUSES :     \n",
    "                * SELECT, WHERE, ORDER BY, LIMIT, GROUP BY , HAVING, DISTINCT\n",
    "                \n",
    "# GENERAL ORDER OF CLAUSES FOR STATEMENTS :\n",
    "            * SELECT column(s)\n",
    "            * FROM table_name\n",
    "            * WHERE condition\n",
    "            * GROUP BY column(s)\n",
    "            * HAVING condition\n",
    "            * ORDER BY column(s) ASC/DESC\n",
    "\n",
    "# OPERATORS :                                  \n",
    "                * 1.Arithematic  : +,-,*,/,%(remainder),*,/(quitient)\n",
    "                * 2.Comparison   : =,!=,>,<,>=,<=\n",
    "                * 3.Logical      : AND,OR,NOT,IN,BETWEEN,ALL,LIKE,ANY\n",
    "                * 4.Bitwise      : & (bitwise AND), | (bitwise OR)\n",
    "\n",
    "# AGGREGATE FUNCTIONS : \n",
    "            For performing calculation on set of values & return a single value.\n",
    "            * COUNT() * MAX()  * MIN()  * SUM()  * AVG()\n",
    "\n"
   ]
  },
  {
   "cell_type": "code",
   "execution_count": 2,
   "metadata": {},
   "outputs": [
    {
     "name": "stdout",
     "output_type": "stream",
     "text": [
      "Connection Successfull\n"
     ]
    }
   ],
   "source": [
    "import mysql.connector\n",
    "from mysql.connector import Error\n",
    "\n",
    "mydb = mysql.connector.connect(\n",
    "    host='localhost',user='root',password='',database='mycollege'\n",
    ")\n",
    "\n",
    "if not mydb:\n",
    "    print(\"Connection unsuccessful. /n Error:\",Error)\n",
    "else:\n",
    "    print(\"Connection Successfull\")"
   ]
  },
  {
   "cell_type": "code",
   "execution_count": 3,
   "metadata": {},
   "outputs": [],
   "source": [
    "#---------> create cursor object\n",
    "\n",
    "mycursor = mydb.cursor()\n",
    "\n",
    "qry = '''USE mycollege'''\n",
    "mycursor.execute(qry)"
   ]
  },
  {
   "cell_type": "code",
   "execution_count": 4,
   "metadata": {
    "vscode": {
     "languageId": "sql"
    }
   },
   "outputs": [
    {
     "ename": "SyntaxError",
     "evalue": "illegal target for annotation (178592026.py, line 1)",
     "output_type": "error",
     "traceback": [
      "\u001b[1;36m  Cell \u001b[1;32mIn [4], line 1\u001b[1;36m\u001b[0m\n\u001b[1;33m    -- Active: 1692089398790@@127.0.0.1@3306@mycollege\u001b[0m\n\u001b[1;37m    ^\u001b[0m\n\u001b[1;31mSyntaxError\u001b[0m\u001b[1;31m:\u001b[0m illegal target for annotation\n"
     ]
    }
   ],
   "source": [
    "-- Active: 1692089398790@@127.0.0.1@3306@mycollege\n",
    "\n",
    "#---------> create table   \n",
    "CREATE TABLE student(\n",
    "    id INT PRIMARY KEY, \n",
    "    name VARCHAR(30), \n",
    "    age INT NOT NULL\n",
    "    );\n",
    "\n",
    "SHOW DATABASES;                                             -- see databases\n",
    "\n",
    "USE mycollege;                                              -- using a database\n",
    "\n",
    "SHOW TABLES;\n",
    "\n",
    "-- DESC student                                             -- describe a table\n",
    "-- DROP TABLE student                                       -- delete a table   \n",
    "\n",
    "INSERT INTO student VALUES(1,\"AMAN\",20);                    -- insert in table\n",
    "INSERT INTO student VALUES(2,\"SUDEEP\",18);\n",
    "\n",
    "-- TRUNCATE will empty the table\n",
    "--  TRUNCATE TABLE student;\n",
    "\n",
    "DESC student;\n",
    "\n",
    "SELECT * FROM student;                                      -- see all data in table\n",
    "\n",
    "INSERT INTO student VALUES(3,\"Vineet\",21),(4,\"Ajay\",20);    -- insert multiple values in table"
   ]
  },
  {
   "attachments": {},
   "cell_type": "markdown",
   "metadata": {},
   "source": [
    "# Constraints :\n",
    "            * Constraints are used to specify rules for data in table.\n",
    "            * Constraints -> \n",
    "                    NOT NULL - Ensures that a column cannot have a NULL value\n",
    "                    UNIQUE - Ensures that all values in a column are different\n",
    "                    PRIMARY KEY - A combination of a NOT NULL and UNIQUE. Uniquely identifies each row in a table\n",
    "                    FOREIGN KEY - Prevents actions that would destroy links between tables\n",
    "                    CHECK - Ensures that the values in a column satisfies a specific condition\n",
    "                    DEFAULT - Sets a default value for a column if no value is specified\n",
    "                    CREATE INDEX - Used to create and retrieve data from the database very quickly\n",
    " \n",
    "                    AUTO_INCREMENT - Auto-increment allows a unique number to be generated automatically when a new record is inserted into a table. Often this is the primary key field that we would like to be created automatically every time a new record is inserted., \n",
    "                    INDEX - The CREATE INDEX statement is used to create indexes in tables. Indexes are used to retrieve data from the database more quickly than otherwise. The users cannot see the indexes, they are just used to speed up searches/queries., \n",
    "                    \n"
   ]
  },
  {
   "cell_type": "code",
   "execution_count": null,
   "metadata": {
    "vscode": {
     "languageId": "sql"
    }
   },
   "outputs": [],
   "source": [
    "-- UNIQUE CONSTRAINT\n",
    "CREATE TABLE temp1(\n",
    "    id INT UNIQUE,\n",
    "    name VARCHAR(20) NOT NULL,\n",
    "    location VARCHAR(20)\n",
    ")\n",
    "\n",
    "INSERT INTO temp1(id,name,location) VALUES (101,'Deepak Gautam','Pune'),(102,'Ishita Kirti Gautam','Nainital');\n",
    "\n",
    "drop table temp1;\n",
    "\n",
    "SELECT * FROM temp1;\n",
    "\n",
    "--INSERT INTO temp1 VALUES (101);                   -- Gives error as id 101 is already present in table\n",
    "\n",
    "\n",
    "-- ==============================> PRIMARY KEY\n",
    "CREATE TABLE temp2(\n",
    "    id INT, \n",
    "    name VARCHAR(20), \n",
    "    age INT, \n",
    "    city VARCHAR(20),\n",
    "    PRIMARY KEY(id)                                 -- or  PRIMARY KEY(id,name)\n",
    ")\n",
    "\n",
    "INSERT INTO temp2 VALUES (1,'John',35,'New York');\n",
    "SELECT * FROM temp2;\n",
    "\n",
    "-- ==============================> FORIGN KEY\n",
    "CREATE TABLE temp3(\n",
    "    emp_id int,\n",
    "    emp_salary INT DEFAULT 25000,\n",
    "    FOREIGN KEY(emp_id) REFERENCES temp2(id)       -- FOREIGN KEY\n",
    ")\n",
    "\n",
    "SELECT * FROM temp3;\n",
    "\n",
    "INSERT INTO temp3(emp_id,emp_salary) VALUES (1,10000000);\n"
   ]
  },
  {
   "cell_type": "code",
   "execution_count": null,
   "metadata": {
    "vscode": {
     "languageId": "sql"
    }
   },
   "outputs": [],
   "source": [
    "-- ==============================> FOREIGN KEY \n",
    "\n",
    "-- Creating the \"departments\" table\n",
    "CREATE TABLE departments (\n",
    "    department_id INT PRIMARY KEY,\n",
    "    department_name VARCHAR(50) NOT NULL\n",
    ");\n",
    "\n",
    "-- Inserting some sample data into the \"departments\" table\n",
    "INSERT INTO departments (department_id, department_name)\n",
    "VALUES\n",
    "    (1, 'HR'),\n",
    "    (2, 'IT'),\n",
    "    (3, 'Finance');\n",
    "\n",
    "-- Creating the \"employees\" table with a foreign key reference to \"departments\"\n",
    "CREATE TABLE employees (\n",
    "    employee_id INT PRIMARY KEY,\n",
    "    employee_name VARCHAR(50) NOT NULL,\n",
    "    department_id INT,\n",
    "    FOREIGN KEY (department_id) REFERENCES departments(department_id)\n",
    ");\n",
    "\n",
    "-- Inserting some sample data into the \"employees\" table\n",
    "INSERT INTO employees (employee_id, employee_name, department_id)\n",
    "VALUES\n",
    "    (101, 'John Doe', 1),\n",
    "    (102, 'Jane Smith', 2),\n",
    "    (103, 'Bob Johnson', 1),\n",
    "    (104, 'Alice Brown', 3);\n",
    "\n",
    "SELECT * FROM employees;"
   ]
  },
  {
   "cell_type": "code",
   "execution_count": null,
   "metadata": {
    "vscode": {
     "languageId": "sql"
    }
   },
   "outputs": [],
   "source": [
    "-- ==============================> CHECK CONSTRAINT\n",
    "\n",
    "-- CHECK limit values allowed in a column\n",
    "CREATE TABLE city(\n",
    "    id INT PRIMARY KEY,\n",
    "    city VARCHAR(50),\n",
    "    age INT,\n",
    "    CONSTRAINT age_check CHECK (age > 18 AND city=\"Lucknow\")\n",
    ");\n",
    "\n",
    "INSERT INTO city VALUES (1,'Delhi',23);             -- Error : constraint check failed\n",
    "INSERT INTO city VALUES (2,'Mumbai',17);            -- Error : constraint check failed\n",
    "INSERT INTO city VALUES (3,'Lucknow',20)\n",
    "\n"
   ]
  },
  {
   "cell_type": "code",
   "execution_count": null,
   "metadata": {
    "vscode": {
     "languageId": "sql"
    }
   },
   "outputs": [],
   "source": [
    "-- ==============================> SELECT ,WHERE & DISTINCT CLAUSE \n",
    "\n",
    "USE mycollege;\n",
    "\n",
    "CREATE TABLE kids(\n",
    "    rollno INT PRIMARY KEY,\n",
    "    name VARCHAR(30),\n",
    "    marks INT NOT NULL,\n",
    "    grade VARCHAR(1),\n",
    "    city VARCHAR(20)\n",
    ");\n",
    "\n",
    "\n",
    "INSERT INTO kids VALUES\n",
    "    (1,'John',85,'B','New York'),\n",
    "    (2,'Jane',92,'A','London'),\n",
    "    (3,'Tom',76,'C','Paris' ),\n",
    "    (4,'Harry',95,'O','Toronto'),\n",
    "    (5,'Mary',90,'B','Sydney'),\n",
    "    (6,'Mark',88,'B','Beijing'),\n",
    "    (7,'Lisa',79,'C','New York'),\n",
    "    (8,'Emily',91,'A','Toronto'),\n",
    "    (9,'Robert',89,'B','London'),\n",
    "    (10,'Michael',98,'O','Berlin');\n",
    "\n",
    "SELECT * FROM kids;\n",
    "\n",
    "SELECT city FROM kids;\n",
    "\n",
    "SELECT * FROM kids WHERE (marks>90);\n",
    "\n",
    "SELECT * FROM kids WHERE (city = \"Toronto\")\n",
    "\n",
    "SELECT DISTINCT grade FROM kids;\n",
    "\n",
    "SELECT * FROM kids WHERE grade=\"O\" AND marks>90\n",
    "\n",
    "SELECT * FROM kids WHERE grade=\"O\" AND marks>90 AND city=\"Berlin\"\n",
    "\n",
    "-- DROP TABLE kids;\n",
    "\n"
   ]
  },
  {
   "attachments": {},
   "cell_type": "markdown",
   "metadata": {
    "vscode": {
     "languageId": "sql"
    }
   },
   "source": [
    "\n",
    "# OPERATORS :      \n",
    "\n",
    "      * 1.Arithematic  : +,-,*,/,%\n",
    "      * 2.Comparison   : =,!=,>,<,>=,<=\n",
    "      * 3.Logical      : AND,OR,NOT,IN,BETWEEN,ALL,LIKE,ANY\n",
    "      * 4.Bitwise      : & (bitwise AND), | (bitwise OR)"
   ]
  },
  {
   "cell_type": "code",
   "execution_count": null,
   "metadata": {
    "vscode": {
     "languageId": "sql"
    }
   },
   "outputs": [],
   "source": [
    "--==============================> UPDATE \n",
    "SELECT * FROM kids;\n",
    "UPDATE kids SET grade=\"O\" WHERE marks > 90;\n",
    "\n",
    "-- UPDATE kids SET marks=90 and grade='A' WHERE rollno=3;\n",
    "\n",
    "UPDATE kids SET marks=88 WHERE rollno=5;\n",
    "\n",
    "UPDATE kids SET grade=\"O+\" WHERE marks BETWEEN 97 AND 100;\n",
    "\n",
    "UPDATE kids SET marks = marks+1;"
   ]
  },
  {
   "cell_type": "code",
   "execution_count": null,
   "metadata": {
    "vscode": {
     "languageId": "sql"
    }
   },
   "outputs": [],
   "source": [
    "--==============================> DELETE\n",
    "\n",
    "DELETE FROM kids WHERE marks<85;"
   ]
  },
  {
   "cell_type": "code",
   "execution_count": null,
   "metadata": {
    "vscode": {
     "languageId": "sql"
    }
   },
   "outputs": [],
   "source": [
    "--==============================> FOREIGN KEY  (PK of parent table becomes FK of child table)\n",
    "\n",
    "-- Parent table\n",
    "create table dept(                      \n",
    "    id INT PRIMARY KEY,\n",
    "    name VARCHAR(30)\n",
    ")\n",
    "\n",
    "-- Child table\n",
    "CREATE Table teacher(\n",
    "    id INT PRIMARY KEY,\n",
    "    name VARCHAR(30),\n",
    "    dept_id INT,\n",
    "    FOREIGN KEY (dept_id) REFERENCES dept(id)\n",
    "    ON UPDATE CASCADE                           -- changes in parent will be rflctd here also\n",
    "    ON DELETE CASCADE\n",
    ")\n",
    "\n",
    "SELECT * FROM dept;\n",
    "SELECT * FROM teacher;\n",
    "\n",
    "\n",
    "-- #  ON DELETE Cascade - when fk using this option, it del. th referencing rows in child tbl whn referencing table row is deleted in parent table which has a PK.\n",
    "\n",
    "-- #  ON UPDATE Cascade - whn v crt a fk using this optn, the rfrncng rows r updated in child tbl whn the rfrncng row is updtd in parent tbl whn has a PK.\n",
    "\n",
    "INSERT INTO dept VALUES (101,\"English\"),(102,\"Mathematics\");\n",
    "\n",
    "INSERT INTO teacher VALUES (1,\"Adam\",101),(2,\"Elicia Markus\",102);\n",
    "\n",
    "SELECT * FROM teacher;\n",
    "SELECT * FROM dept;\n",
    "UPDATE dept SET id=103 WHERE id=102;\n",
    "SELECT * FROM dept;"
   ]
  },
  {
   "cell_type": "code",
   "execution_count": null,
   "metadata": {
    "vscode": {
     "languageId": "sql"
    }
   },
   "outputs": [],
   "source": [
    "--==============================> ALTER    - used when we have to change the table schema\n",
    "CREATE TABLE students (\n",
    "    rollno INT PRIMARY KEY,\n",
    "    name VARCHAR(30),\n",
    "    marks INT NOT NULL,\n",
    "    grade VARCHAR(1),\n",
    "    city VARCHAR(30)\n",
    ");\n",
    "\n",
    "INSERT INTO students (rollno,name,marks,grade,city) VALUES\n",
    "    (101,\"Anil\",78,\"C\",\"Pune\"),\n",
    "    (102,\"Bhumika\",93,\"A\",\"Mumbai\"),\n",
    "    (103,\"Chetan\",85,\"B\",\"Mumbai\"),\n",
    "    (104,\"Dhruva\",96,\"A\",\"Delhi\"),\n",
    "    (105,\"Emanual\",12,\"F\",\"Delhi\"),\n",
    "    (106,\"Farah\",82,\"B\",\"Delhi\");\n",
    "\n",
    "SELECT * FROM students\n",
    "\n",
    "-- ALTER to add a column\n",
    "\n",
    "ALTER TABLE students ADD COLUMN age INT\n",
    "\n",
    "-- ALTER to DELETE a column\n",
    "ALTER TABLE students DROP COLUMN age;"
   ]
  },
  {
   "cell_type": "code",
   "execution_count": null,
   "metadata": {
    "vscode": {
     "languageId": "sql"
    }
   },
   "outputs": [],
   "source": [
    "-- ALTER to RENAME a table\n",
    "ALTER TABLE students RENAME TO CSstudents;\n",
    "\n",
    "SELECT * FROM CSstudents;\n",
    "\n",
    "-- ALTER to CHANGE a COLUMN\n",
    "ALTER TABLE CSstudents CHANGE COLUMN city location VARCHAR(30);\n",
    "\n",
    "-- ALTER to MODIFY A COLUMN\n",
    "ALTER TABLE CSstudents MODIFY COLUMN rollno INT NOT NULL;\n",
    "\n",
    "\n",
    "-- TRUNCATE         //deletes all data in table \n",
    "TRUNCATE CSstudents;\n",
    "\n",
    "-- DROP ADD         //deletes table\n",
    "--DROP TABLE CSstudents;\n",
    "\n",
    "-- change COLUMN name\n",
    "\n",
    "ALTER TABLE CSstudents CHANGE name fullname VARCHAR(30); "
   ]
  },
  {
   "cell_type": "code",
   "execution_count": null,
   "metadata": {
    "vscode": {
     "languageId": "sql"
    }
   },
   "outputs": [],
   "source": [
    "-- delete  all students whose marks<80\n",
    "DELETE FROM CSstudents WHERE marks<80;\n",
    "\n",
    "-- delete grades column\n",
    "ALTER TABLE CSstudeNts DROP COLUMN grade;\n",
    "\n",
    "SELECT * FROM CSstudents;"
   ]
  },
  {
   "attachments": {},
   "cell_type": "markdown",
   "metadata": {},
   "source": [
    "# JOINS : (like venn diagram)\n",
    "            used to combine rows from two or more tables, based on a related column between them.\n",
    "            1) INNER JOIN: Returns records that have matching values in both tables.\n",
    "            2) LEFT JOIN: Return all records from the left table and the common records from both tables.\n",
    "            3) RIGHT JOIN: Return all records from the right table and the common records from both tables.\n",
    "            4) FULL JOIN: Return all records from both tables."
   ]
  },
  {
   "cell_type": "code",
   "execution_count": null,
   "metadata": {
    "vscode": {
     "languageId": "sql"
    }
   },
   "outputs": [],
   "source": [
    "-- INNER JOIN - there should be column that is common in both tables.\n",
    "            --  return common data between both tables\n",
    "\n",
    "CREATE TABLE scholars(\n",
    "    id INT PRIMARY KEY,\n",
    "    name VARCHAR(30)\n",
    "    );\n",
    "\n",
    "CREATE TABLE courses(\n",
    "    id INT PRIMARY KEY,\n",
    "    course VARCHAR(30)\n",
    "    );\n",
    "\n",
    "INSERT INTO scholars(id,name) VALUES(101,\"Adam\"),(102,\"Bob\"),(103,\"Casey\")\n",
    "\n",
    "INSERT INTO courses(id,course) VALUES(102,\"English\"),(105,\"Math\"),(103,\"Science\"),(107,\"Computer science\")\n",
    "\n",
    "SELECT * FROM scholars;\n",
    "SELECT * FROM courses;\n",
    "\n",
    "-- JOINING USING INNER JOIN\n",
    "SELECT * FROM scholars INNER JOIN courses ON scholars.id = courses.id;\n",
    "\n",
    "-- ALIAS\n",
    "SELECT * \n",
    "FROM scholars as s \n",
    "INNER JOIN courses as c\n",
    "ON s.id = c.id;"
   ]
  },
  {
   "cell_type": "code",
   "execution_count": null,
   "metadata": {
    "vscode": {
     "languageId": "sql"
    }
   },
   "outputs": [],
   "source": [
    "-- LEFT JOIN: Return all records from the left table and the common records from both tables.\n",
    "\n",
    "SELECT * FROM scholars as s\n",
    "LEFT JOIN courses as c\n",
    "ON s.id = c.id;"
   ]
  },
  {
   "cell_type": "code",
   "execution_count": null,
   "metadata": {
    "vscode": {
     "languageId": "sql"
    }
   },
   "outputs": [],
   "source": [
    "-- RIGHT JOIN: Return all records from the right table and the common records from both tables.\n",
    "\n",
    "SELECT * FROM scholars\n",
    "RIGHT JOIN courses ON\n",
    "scholars.id=courses.id"
   ]
  },
  {
   "cell_type": "code",
   "execution_count": null,
   "metadata": {
    "vscode": {
     "languageId": "sql"
    }
   },
   "outputs": [],
   "source": [
    "-- FULL JOIN / UNION: Return all records when there is a match in eigher left or right table.\n",
    "\n",
    "SELECT * FROM scholars\n",
    "LEFT JOIN courses\n",
    "ON  scholars.id = courses.id\n",
    "UNION\n",
    "SELECT * FROM scholars\n",
    "RIGHT JOIN courses\n",
    "ON scholars.id = courses.id;"
   ]
  },
  {
   "cell_type": "code",
   "execution_count": null,
   "metadata": {
    "vscode": {
     "languageId": "sql"
    }
   },
   "outputs": [],
   "source": [
    "-- LEFT EXCLUSIVE JOIN : All records from left table excluding common records \n",
    "\n",
    "SELECT * FROM scholars\n",
    "LEFT JOIN courses\n",
    "ON scholars.id=courses.id\n",
    "WHERE courses.id IS NULL;"
   ]
  },
  {
   "cell_type": "code",
   "execution_count": null,
   "metadata": {
    "vscode": {
     "languageId": "sql"
    }
   },
   "outputs": [],
   "source": [
    "-- RIGHT EXCLUSIVE JOIN : All records from right table excluding common records \n",
    "\n",
    "SELECT * FROM scholars\n",
    "RIGHT JOIN courses\n",
    "ON scholars.id=courses.id\n",
    "WHERE scholars.id IS NULL;"
   ]
  },
  {
   "cell_type": "code",
   "execution_count": null,
   "metadata": {
    "vscode": {
     "languageId": "sql"
    }
   },
   "outputs": [],
   "source": [
    "-- FULL EXCLUSIVE JOIN : All data from both tables except common data.\n",
    "\n",
    "SELECT * FROM scholars\n",
    "LEFT JOIN courses\n",
    "ON scholars.id=courses.id\n",
    "WHERE courses.id IS NULL\n",
    "UNION\n",
    "SELECT * FROM scholars\n",
    "RIGHT JOIN courses\n",
    "ON scholars.id=courses.id\n",
    "WHERE scholars.id IS NULL;\n",
    "\n",
    "\n",
    "DESC scholars;"
   ]
  },
  {
   "cell_type": "code",
   "execution_count": null,
   "metadata": {
    "vscode": {
     "languageId": "sql"
    }
   },
   "outputs": [],
   "source": [
    "-- SELF JOIN : JOIN table with itself.\n",
    "\n",
    "CREATE TABLE empl(\n",
    "    id INT,\n",
    "    name VARCHAR(20),\n",
    "    manager_id INT\n",
    "    );\n",
    "\n",
    "-- TRUNCATE empl;\n",
    "\n",
    "INSERT INTO empl(id,name,manager_id) VALUES\n",
    "        (101,\"Adam\",103),(102,\"Bob\",104),\n",
    "        (103,\"Casey\",NULL),(104,\"Donald\",103);\n",
    "\n",
    "SELECT * FROM empl;\n",
    "\n",
    "-- SELF JOIN\n",
    "SELECT * FROM \n",
    "empl AS a JOIN empl AS b\n",
    "ON a.id = b.manager_id;\n",
    "\n",
    "SELECT a.name AS manager_name, b.name\n",
    "FROM empl as a\n",
    "JOIN empl as b \n",
    "ON a.manager_id=b.id;"
   ]
  },
  {
   "cell_type": "code",
   "execution_count": null,
   "metadata": {
    "vscode": {
     "languageId": "sql"
    }
   },
   "outputs": [],
   "source": [
    "SELECT * FROM scholars;\n",
    "SELECT * FROM courses;\n",
    "-- UNION : used to combine the result-set of 2 or more SELECT statements.\n",
    "        -- Gives unique records.\n",
    "\n",
    "SELECT name FROM scholars \n",
    "UNION \n",
    "SELECT course FROM courses \n",
    "\n",
    "-- UNION ALL (INTERSECTION): used to combine the result-set of 2 or more SELECT statements.\n",
    "        -- Gives duplicate records.\n",
    "\n",
    "SELECT id FROM scholars \n",
    "INTERSECT \n",
    "SELECT id FROM courses "
   ]
  },
  {
   "cell_type": "code",
   "execution_count": null,
   "metadata": {
    "vscode": {
     "languageId": "sql"
    }
   },
   "outputs": [],
   "source": [
    "-- SUB QUERIES : sub or inner or nested query is a query within another sql query.\n",
    "            -- it involves 2 select statements\n",
    "\n",
    "\n",
    "SELECT * FROM csstudents;\n",
    "\n",
    "INSERT INTO csstudents(rollno,fullname,marks,location) \n",
    "VALUES \n",
    "(107,\"Rishabh\",91,\"Pune\"),\n",
    "(108,\"Rohit\",87,\"Pune\"),\n",
    "(109,\"Bishop\",80,\"Bihar\"),\n",
    "(110,\"Ram Khilavan\",88,\"Bihar\");\n",
    "\n",
    "SELECT AVG(marks) from csstudents;\n",
    "\n",
    "-- Print students who have scored than AVG marks.\n",
    "SELECT rollno,fullname,marks FROM csstudents WHERE marks > 87;\n",
    "\n",
    "\n",
    "-- Write a SQL Query to get the details of all the CS Students having marks > average marks.\n",
    "SELECT * FROM csstudents\n",
    "WHERE marks > (SELECT AVG(marks) FROM csstudents);   -- this is a sub query. It is a dynamic query\n",
    "\n",
    "SELECT * FROM csstudents WHERE rollno % 2 = 0 ;\n",
    "\n",
    "SELECT rollno FROM csstudents\n",
    "WHERE rollno IN (\n",
    "    SELECT rollno FROM csstudents \n",
    "    WHERE rollno % 2 = 0 \n",
    "    );\n",
    "\n",
    " \n",
    "SELECT MAX(marks),fullname,location FROM (\n",
    "    SELECT * FROM csstudents \n",
    "    WHERE location='delhi'\n",
    "    ) AS temp;\n",
    "    \n",
    "\n",
    "SELECT MAX(marks),fullname \n",
    "FROM csstudents \n",
    "WHERE location=\"Pune\";"
   ]
  },
  {
   "cell_type": "code",
   "execution_count": null,
   "metadata": {
    "vscode": {
     "languageId": "sql"
    }
   },
   "outputs": [],
   "source": [
    "-- MYSQL Views\n",
    "\n",
    "SELECT * FROM csstudents;\n",
    "\n",
    "CREATE VIEW view1 AS\n",
    "SELECT rollno, fullname FROM csstudents;\n",
    "\n",
    "SELECT * FROM view1;        --virtual table\n",
    "\n",
    "-- DROP VIEW view1;\n"
   ]
  },
  {
   "cell_type": "code",
   "execution_count": null,
   "metadata": {
    "vscode": {
     "languageId": "sql"
    }
   },
   "outputs": [],
   "source": []
  },
  {
   "cell_type": "code",
   "execution_count": null,
   "metadata": {
    "vscode": {
     "languageId": "sql"
    }
   },
   "outputs": [],
   "source": []
  },
  {
   "cell_type": "code",
   "execution_count": null,
   "metadata": {
    "vscode": {
     "languageId": "sql"
    }
   },
   "outputs": [],
   "source": []
  },
  {
   "cell_type": "code",
   "execution_count": null,
   "metadata": {
    "vscode": {
     "languageId": "sql"
    }
   },
   "outputs": [],
   "source": []
  }
 ],
 "metadata": {
  "kernelspec": {
   "display_name": "Developer",
   "language": "python",
   "name": "python3"
  },
  "language_info": {
   "codemirror_mode": {
    "name": "ipython",
    "version": 3
   },
   "file_extension": ".py",
   "mimetype": "text/x-python",
   "name": "python",
   "nbconvert_exporter": "python",
   "pygments_lexer": "ipython3",
   "version": "3.11.4"
  },
  "orig_nbformat": 4,
  "vscode": {
   "interpreter": {
    "hash": "36f7ff5fe44c80b6ca0c4b179b80d8db9eacae3a1fdf354a582873bf082fae06"
   }
  }
 },
 "nbformat": 4,
 "nbformat_minor": 2
}
